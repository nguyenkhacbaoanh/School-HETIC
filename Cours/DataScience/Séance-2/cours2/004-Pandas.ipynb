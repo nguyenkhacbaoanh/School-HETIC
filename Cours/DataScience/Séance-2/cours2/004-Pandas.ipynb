{
 "cells": [
  {
   "cell_type": "markdown",
   "metadata": {},
   "source": [
    "# Pandas\n",
    "\n",
    "Nous allons voir quelques astuces pour nettoyer des données."
   ]
  },
  {
   "cell_type": "code",
   "execution_count": 1,
   "metadata": {},
   "outputs": [],
   "source": [
    "import pandas as pd"
   ]
  },
  {
   "cell_type": "markdown",
   "metadata": {},
   "source": [
    "- charger le dataset `retail.csv` :"
   ]
  },
  {
   "cell_type": "code",
   "execution_count": 54,
   "metadata": {},
   "outputs": [
    {
     "data": {
      "text/html": [
       "<div>\n",
       "<style scoped>\n",
       "    .dataframe tbody tr th:only-of-type {\n",
       "        vertical-align: middle;\n",
       "    }\n",
       "\n",
       "    .dataframe tbody tr th {\n",
       "        vertical-align: top;\n",
       "    }\n",
       "\n",
       "    .dataframe thead th {\n",
       "        text-align: right;\n",
       "    }\n",
       "</style>\n",
       "<table border=\"1\" class=\"dataframe\">\n",
       "  <thead>\n",
       "    <tr style=\"text-align: right;\">\n",
       "      <th></th>\n",
       "      <th>BranchName</th>\n",
       "      <th>Week</th>\n",
       "      <th>DayWeek</th>\n",
       "      <th>Day</th>\n",
       "      <th>Month</th>\n",
       "      <th>Hour</th>\n",
       "      <th>Transaction_Type</th>\n",
       "      <th>Units</th>\n",
       "      <th>Amount</th>\n",
       "    </tr>\n",
       "  </thead>\n",
       "  <tbody>\n",
       "    <tr>\n",
       "      <th>0</th>\n",
       "      <td>MyStore</td>\n",
       "      <td>1</td>\n",
       "      <td>3</td>\n",
       "      <td>2</td>\n",
       "      <td>1</td>\n",
       "      <td>9</td>\n",
       "      <td>Card</td>\n",
       "      <td>3</td>\n",
       "      <td>$54.00</td>\n",
       "    </tr>\n",
       "    <tr>\n",
       "      <th>1</th>\n",
       "      <td>MyStore</td>\n",
       "      <td>1</td>\n",
       "      <td>3</td>\n",
       "      <td>2</td>\n",
       "      <td>1</td>\n",
       "      <td>10</td>\n",
       "      <td>Cash</td>\n",
       "      <td>7</td>\n",
       "      <td>-$17.80</td>\n",
       "    </tr>\n",
       "    <tr>\n",
       "      <th>2</th>\n",
       "      <td>MyStore</td>\n",
       "      <td>1</td>\n",
       "      <td>3</td>\n",
       "      <td>2</td>\n",
       "      <td>1</td>\n",
       "      <td>10</td>\n",
       "      <td>Card</td>\n",
       "      <td>7</td>\n",
       "      <td>$41.99</td>\n",
       "    </tr>\n",
       "    <tr>\n",
       "      <th>3</th>\n",
       "      <td>MyStore</td>\n",
       "      <td>1</td>\n",
       "      <td>3</td>\n",
       "      <td>2</td>\n",
       "      <td>1</td>\n",
       "      <td>11</td>\n",
       "      <td>Card</td>\n",
       "      <td>20</td>\n",
       "      <td>$412.50</td>\n",
       "    </tr>\n",
       "    <tr>\n",
       "      <th>4</th>\n",
       "      <td>MyStore</td>\n",
       "      <td>1</td>\n",
       "      <td>3</td>\n",
       "      <td>2</td>\n",
       "      <td>1</td>\n",
       "      <td>12</td>\n",
       "      <td>Cash</td>\n",
       "      <td>1</td>\n",
       "      <td>-$18.00</td>\n",
       "    </tr>\n",
       "  </tbody>\n",
       "</table>\n",
       "</div>"
      ],
      "text/plain": [
       "  BranchName  Week  DayWeek  Day  Month  Hour Transaction_Type  Units   Amount\n",
       "0    MyStore     1        3    2      1     9             Card      3   $54.00\n",
       "1    MyStore     1        3    2      1    10             Cash      7  -$17.80\n",
       "2    MyStore     1        3    2      1    10             Card      7   $41.99\n",
       "3    MyStore     1        3    2      1    11             Card     20  $412.50\n",
       "4    MyStore     1        3    2      1    12             Cash      1  -$18.00"
      ]
     },
     "execution_count": 54,
     "metadata": {},
     "output_type": "execute_result"
    }
   ],
   "source": [
    "# Votre code\n",
    "df = pd.read_csv(\"retail.csv\")\n",
    "df.head()"
   ]
  },
  {
   "cell_type": "code",
   "execution_count": 50,
   "metadata": {},
   "outputs": [
    {
     "data": {
      "text/plain": [
       "'-$1,041.80'"
      ]
     },
     "execution_count": 50,
     "metadata": {},
     "output_type": "execute_result"
    }
   ],
   "source": [
    "df['Amount'][966]"
   ]
  },
  {
   "cell_type": "markdown",
   "metadata": {},
   "source": [
    "- utiliser `describe` pour afficher les informations :"
   ]
  },
  {
   "cell_type": "code",
   "execution_count": 5,
   "metadata": {},
   "outputs": [
    {
     "data": {
      "text/html": [
       "<div>\n",
       "<style scoped>\n",
       "    .dataframe tbody tr th:only-of-type {\n",
       "        vertical-align: middle;\n",
       "    }\n",
       "\n",
       "    .dataframe tbody tr th {\n",
       "        vertical-align: top;\n",
       "    }\n",
       "\n",
       "    .dataframe thead th {\n",
       "        text-align: right;\n",
       "    }\n",
       "</style>\n",
       "<table border=\"1\" class=\"dataframe\">\n",
       "  <thead>\n",
       "    <tr style=\"text-align: right;\">\n",
       "      <th></th>\n",
       "      <th>Week</th>\n",
       "      <th>DayWeek</th>\n",
       "      <th>Day</th>\n",
       "      <th>Month</th>\n",
       "      <th>Hour</th>\n",
       "      <th>Units</th>\n",
       "    </tr>\n",
       "  </thead>\n",
       "  <tbody>\n",
       "    <tr>\n",
       "      <th>count</th>\n",
       "      <td>4100.000000</td>\n",
       "      <td>4100.000000</td>\n",
       "      <td>4100.000000</td>\n",
       "      <td>4100.000000</td>\n",
       "      <td>4100.000000</td>\n",
       "      <td>4100.000000</td>\n",
       "    </tr>\n",
       "    <tr>\n",
       "      <th>mean</th>\n",
       "      <td>34.017805</td>\n",
       "      <td>4.183902</td>\n",
       "      <td>15.812195</td>\n",
       "      <td>8.231463</td>\n",
       "      <td>12.949024</td>\n",
       "      <td>12.779512</td>\n",
       "    </tr>\n",
       "    <tr>\n",
       "      <th>std</th>\n",
       "      <td>14.714289</td>\n",
       "      <td>1.967864</td>\n",
       "      <td>8.810817</td>\n",
       "      <td>3.396586</td>\n",
       "      <td>2.631853</td>\n",
       "      <td>17.854968</td>\n",
       "    </tr>\n",
       "    <tr>\n",
       "      <th>min</th>\n",
       "      <td>1.000000</td>\n",
       "      <td>1.000000</td>\n",
       "      <td>1.000000</td>\n",
       "      <td>1.000000</td>\n",
       "      <td>8.000000</td>\n",
       "      <td>1.000000</td>\n",
       "    </tr>\n",
       "    <tr>\n",
       "      <th>25%</th>\n",
       "      <td>29.000000</td>\n",
       "      <td>3.000000</td>\n",
       "      <td>8.000000</td>\n",
       "      <td>7.000000</td>\n",
       "      <td>11.000000</td>\n",
       "      <td>3.000000</td>\n",
       "    </tr>\n",
       "    <tr>\n",
       "      <th>50%</th>\n",
       "      <td>37.000000</td>\n",
       "      <td>4.000000</td>\n",
       "      <td>16.000000</td>\n",
       "      <td>9.000000</td>\n",
       "      <td>13.000000</td>\n",
       "      <td>8.000000</td>\n",
       "    </tr>\n",
       "    <tr>\n",
       "      <th>75%</th>\n",
       "      <td>45.000000</td>\n",
       "      <td>6.000000</td>\n",
       "      <td>23.000000</td>\n",
       "      <td>11.000000</td>\n",
       "      <td>15.000000</td>\n",
       "      <td>16.000000</td>\n",
       "    </tr>\n",
       "    <tr>\n",
       "      <th>max</th>\n",
       "      <td>53.000000</td>\n",
       "      <td>7.000000</td>\n",
       "      <td>31.000000</td>\n",
       "      <td>12.000000</td>\n",
       "      <td>19.000000</td>\n",
       "      <td>274.000000</td>\n",
       "    </tr>\n",
       "  </tbody>\n",
       "</table>\n",
       "</div>"
      ],
      "text/plain": [
       "              Week      DayWeek          Day        Month         Hour  \\\n",
       "count  4100.000000  4100.000000  4100.000000  4100.000000  4100.000000   \n",
       "mean     34.017805     4.183902    15.812195     8.231463    12.949024   \n",
       "std      14.714289     1.967864     8.810817     3.396586     2.631853   \n",
       "min       1.000000     1.000000     1.000000     1.000000     8.000000   \n",
       "25%      29.000000     3.000000     8.000000     7.000000    11.000000   \n",
       "50%      37.000000     4.000000    16.000000     9.000000    13.000000   \n",
       "75%      45.000000     6.000000    23.000000    11.000000    15.000000   \n",
       "max      53.000000     7.000000    31.000000    12.000000    19.000000   \n",
       "\n",
       "             Units  \n",
       "count  4100.000000  \n",
       "mean     12.779512  \n",
       "std      17.854968  \n",
       "min       1.000000  \n",
       "25%       3.000000  \n",
       "50%       8.000000  \n",
       "75%      16.000000  \n",
       "max     274.000000  "
      ]
     },
     "execution_count": 5,
     "metadata": {},
     "output_type": "execute_result"
    }
   ],
   "source": [
    "# Votre code\n",
    "df.describe()"
   ]
  },
  {
   "cell_type": "markdown",
   "metadata": {},
   "source": [
    "- trouver un moyen de checker s'il y a des valeurs nulles sur l'ensemble du dataset (il existe plusieurs façons de faire) :"
   ]
  },
  {
   "cell_type": "code",
   "execution_count": 60,
   "metadata": {},
   "outputs": [
    {
     "data": {
      "text/plain": [
       "BranchName          False\n",
       "Week                False\n",
       "DayWeek             False\n",
       "Day                 False\n",
       "Month               False\n",
       "Hour                False\n",
       "Transaction_Type    False\n",
       "Units               False\n",
       "Amount              False\n",
       "dtype: bool"
      ]
     },
     "execution_count": 60,
     "metadata": {},
     "output_type": "execute_result"
    }
   ],
   "source": [
    "# Votre code\n",
    "df.isnull().any()"
   ]
  },
  {
   "cell_type": "markdown",
   "metadata": {},
   "source": [
    "- afficher les types des colonnes :"
   ]
  },
  {
   "cell_type": "code",
   "execution_count": 8,
   "metadata": {},
   "outputs": [
    {
     "data": {
      "text/plain": [
       "BranchName          object\n",
       "Week                 int64\n",
       "DayWeek              int64\n",
       "Day                  int64\n",
       "Month                int64\n",
       "Hour                 int64\n",
       "Transaction_Type    object\n",
       "Units                int64\n",
       "Amount              object\n",
       "dtype: object"
      ]
     },
     "execution_count": 8,
     "metadata": {},
     "output_type": "execute_result"
    }
   ],
   "source": [
    "# Votre code\n",
    "df.dtypes"
   ]
  },
  {
   "cell_type": "markdown",
   "metadata": {},
   "source": [
    "- observer la colonne `Amount`. Que constatez-vous ?"
   ]
  },
  {
   "cell_type": "code",
   "execution_count": 12,
   "metadata": {},
   "outputs": [
    {
     "data": {
      "text/plain": [
       "count       4100\n",
       "unique      2353\n",
       "top       -$8.00\n",
       "freq          28\n",
       "Name: Amount, dtype: object"
      ]
     },
     "execution_count": 12,
     "metadata": {},
     "output_type": "execute_result"
    }
   ],
   "source": [
    "# Votre code\n",
    "df['Amount'].describe()"
   ]
  },
  {
   "cell_type": "markdown",
   "metadata": {},
   "source": [
    "Nous allons devoir remplacer ces valeurs par des valeurs numériques afin de pouvoir ensuite nous en servir.\n",
    "\n",
    "- retirer les `$` et les `,` :\n",
    "\n",
    "Par exemple : `-$17.80` devient `-17.80`"
   ]
  },
  {
   "cell_type": "code",
   "execution_count": 55,
   "metadata": {},
   "outputs": [
    {
     "data": {
      "text/plain": [
       "0         54.00\n",
       "1        -17.80\n",
       "2         41.99\n",
       "3        412.50\n",
       "4        -18.00\n",
       "5         -5.00\n",
       "6        118.50\n",
       "7        -94.92\n",
       "8        423.50\n",
       "9        -95.39\n",
       "10       -16.90\n",
       "11       452.10\n",
       "12      -110.40\n",
       "13      -309.90\n",
       "14       593.50\n",
       "15      -377.12\n",
       "16        77.50\n",
       "17       -19.50\n",
       "18       -31.00\n",
       "19        58.00\n",
       "20         5.00\n",
       "21       -51.00\n",
       "22       -21.30\n",
       "23       299.00\n",
       "24       -36.40\n",
       "25        -3.40\n",
       "26        17.50\n",
       "27      -112.80\n",
       "28       238.00\n",
       "29       852.50\n",
       "         ...   \n",
       "4070      -9.00\n",
       "4071      76.25\n",
       "4072     347.50\n",
       "4073     239.00\n",
       "4074     -59.81\n",
       "4075     -36.00\n",
       "4076     371.00\n",
       "4077    -102.00\n",
       "4078     -38.25\n",
       "4079     388.25\n",
       "4080     -82.10\n",
       "4081     -51.00\n",
       "4082     289.60\n",
       "4083     -46.00\n",
       "4084     112.00\n",
       "4085      -8.00\n",
       "4086     352.50\n",
       "4087     -96.60\n",
       "4088      28.95\n",
       "4089       4.00\n",
       "4090     327.00\n",
       "4091     -33.00\n",
       "4092     105.50\n",
       "4093     303.50\n",
       "4094     -23.21\n",
       "4095     129.00\n",
       "4096     -68.36\n",
       "4097      71.00\n",
       "4098    -359.18\n",
       "4099     130.00\n",
       "Name: Amount, Length: 4100, dtype: object"
      ]
     },
     "execution_count": 55,
     "metadata": {},
     "output_type": "execute_result"
    }
   ],
   "source": [
    "# Votre code\n",
    "df['Amount'] = df['Amount'].apply(lambda x: (str(x).replace(\",\",\"\").replace(\"$\", \"\")))\n",
    "df['Amount']"
   ]
  },
  {
   "cell_type": "markdown",
   "metadata": {},
   "source": [
    "- transformer le type de cette colonne en valeur numérique :"
   ]
  },
  {
   "cell_type": "code",
   "execution_count": 57,
   "metadata": {},
   "outputs": [],
   "source": [
    "# Votre code\n",
    "df['Amount'] = pd.to_numeric(df['Amount'])"
   ]
  },
  {
   "cell_type": "markdown",
   "metadata": {},
   "source": [
    "- checker en réaffichant les types des colonnes :"
   ]
  },
  {
   "cell_type": "code",
   "execution_count": 58,
   "metadata": {},
   "outputs": [
    {
     "data": {
      "text/plain": [
       "BranchName           object\n",
       "Week                  int64\n",
       "DayWeek               int64\n",
       "Day                   int64\n",
       "Month                 int64\n",
       "Hour                  int64\n",
       "Transaction_Type     object\n",
       "Units                 int64\n",
       "Amount              float64\n",
       "dtype: object"
      ]
     },
     "execution_count": 58,
     "metadata": {},
     "output_type": "execute_result"
    }
   ],
   "source": [
    "# Votre code\n",
    "df.dtypes"
   ]
  },
  {
   "cell_type": "markdown",
   "metadata": {},
   "source": [
    "- quel est le nombre de vente par mois ?"
   ]
  },
  {
   "cell_type": "code",
   "execution_count": 59,
   "metadata": {},
   "outputs": [
    {
     "data": {
      "text/html": [
       "<div>\n",
       "<style scoped>\n",
       "    .dataframe tbody tr th:only-of-type {\n",
       "        vertical-align: middle;\n",
       "    }\n",
       "\n",
       "    .dataframe tbody tr th {\n",
       "        vertical-align: top;\n",
       "    }\n",
       "\n",
       "    .dataframe thead th {\n",
       "        text-align: right;\n",
       "    }\n",
       "</style>\n",
       "<table border=\"1\" class=\"dataframe\">\n",
       "  <thead>\n",
       "    <tr style=\"text-align: right;\">\n",
       "      <th></th>\n",
       "      <th>sum</th>\n",
       "    </tr>\n",
       "    <tr>\n",
       "      <th>Month</th>\n",
       "      <th></th>\n",
       "    </tr>\n",
       "  </thead>\n",
       "  <tbody>\n",
       "    <tr>\n",
       "      <th>1</th>\n",
       "      <td>7461</td>\n",
       "    </tr>\n",
       "    <tr>\n",
       "      <th>7</th>\n",
       "      <td>7400</td>\n",
       "    </tr>\n",
       "    <tr>\n",
       "      <th>8</th>\n",
       "      <td>8024</td>\n",
       "    </tr>\n",
       "    <tr>\n",
       "      <th>9</th>\n",
       "      <td>6976</td>\n",
       "    </tr>\n",
       "    <tr>\n",
       "      <th>10</th>\n",
       "      <td>6688</td>\n",
       "    </tr>\n",
       "    <tr>\n",
       "      <th>11</th>\n",
       "      <td>7730</td>\n",
       "    </tr>\n",
       "    <tr>\n",
       "      <th>12</th>\n",
       "      <td>8117</td>\n",
       "    </tr>\n",
       "  </tbody>\n",
       "</table>\n",
       "</div>"
      ],
      "text/plain": [
       "        sum\n",
       "Month      \n",
       "1      7461\n",
       "7      7400\n",
       "8      8024\n",
       "9      6976\n",
       "10     6688\n",
       "11     7730\n",
       "12     8117"
      ]
     },
     "execution_count": 59,
     "metadata": {},
     "output_type": "execute_result"
    }
   ],
   "source": [
    "# Votre code\n",
    "df.groupby('Month')['Units'].agg(['sum'])"
   ]
  },
  {
   "cell_type": "code",
   "execution_count": null,
   "metadata": {},
   "outputs": [],
   "source": []
  }
 ],
 "metadata": {
  "kernelspec": {
   "display_name": "Python 3",
   "language": "python",
   "name": "python3"
  },
  "language_info": {
   "codemirror_mode": {
    "name": "ipython",
    "version": 3
   },
   "file_extension": ".py",
   "mimetype": "text/x-python",
   "name": "python",
   "nbconvert_exporter": "python",
   "pygments_lexer": "ipython3",
   "version": "3.6.4"
  }
 },
 "nbformat": 4,
 "nbformat_minor": 2
}
