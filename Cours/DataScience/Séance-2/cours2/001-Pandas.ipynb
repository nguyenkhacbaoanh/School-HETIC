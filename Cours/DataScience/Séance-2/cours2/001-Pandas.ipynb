{
 "cells": [
  {
   "cell_type": "markdown",
   "metadata": {},
   "source": [
    "# Pandas 001\n",
    "\n",
    "## Input/Output"
   ]
  },
  {
   "cell_type": "code",
   "execution_count": 1,
   "metadata": {},
   "outputs": [],
   "source": [
    "import pandas as pd"
   ]
  },
  {
   "cell_type": "markdown",
   "metadata": {},
   "source": [
    "Dans ce premier notebook nous allons voir la base : comment importer des données, avoir un aperçu, etc.\n",
    "\n",
    "- commençons par créer un `DataFrame` qui ressemble à ça :\n",
    "\n",
    "![](https://i.imgur.com/Ax3pp2A.png)"
   ]
  },
  {
   "cell_type": "code",
   "execution_count": 2,
   "metadata": {},
   "outputs": [
    {
     "data": {
      "text/html": [
       "<div>\n",
       "<style scoped>\n",
       "    .dataframe tbody tr th:only-of-type {\n",
       "        vertical-align: middle;\n",
       "    }\n",
       "\n",
       "    .dataframe tbody tr th {\n",
       "        vertical-align: top;\n",
       "    }\n",
       "\n",
       "    .dataframe thead th {\n",
       "        text-align: right;\n",
       "    }\n",
       "</style>\n",
       "<table border=\"1\" class=\"dataframe\">\n",
       "  <thead>\n",
       "    <tr style=\"text-align: right;\">\n",
       "      <th></th>\n",
       "      <th>Apples</th>\n",
       "      <th>Bananas</th>\n",
       "    </tr>\n",
       "  </thead>\n",
       "  <tbody>\n",
       "    <tr>\n",
       "      <th>0</th>\n",
       "      <td>30</td>\n",
       "      <td>21</td>\n",
       "    </tr>\n",
       "  </tbody>\n",
       "</table>\n",
       "</div>"
      ],
      "text/plain": [
       "   Apples  Bananas\n",
       "0      30       21"
      ]
     },
     "execution_count": 2,
     "metadata": {},
     "output_type": "execute_result"
    }
   ],
   "source": [
    "# Votre code\n",
    "# pd.DataFrame([[30, 21]], columns=['Apples', 'Bananas'])\n",
    "pd.DataFrame(data={'Apples':[30], 'Bananas':[21]})"
   ]
  },
  {
   "cell_type": "markdown",
   "metadata": {},
   "source": [
    "- créer une `Series` qui ressemble à ça :\n",
    "\n",
    "```\n",
    "Flour     4 cups\n",
    "Milk       1 cup\n",
    "Eggs     2 large\n",
    "Spam       1 can\n",
    "Name: Dinner, dtype: object\n",
    "```"
   ]
  },
  {
   "cell_type": "code",
   "execution_count": 28,
   "metadata": {},
   "outputs": [
    {
     "data": {
      "text/plain": [
       "Flour      4 cups\n",
       "Milk        1 cup\n",
       "Egg       2 large\n",
       "Spam        1 can\n",
       "Name: Dinner, dtype: object"
      ]
     },
     "execution_count": 28,
     "metadata": {},
     "output_type": "execute_result"
    }
   ],
   "source": [
    "# Votre code\n",
    "product = ['Flour', 'Milk', 'Egg', 'Spam']\n",
    "quantity = ['4 cups', ' 1 cup', ' 2 large', '1 can']\n",
    "pd.Series(quantity, index=product).rename(\"Dinner\")"
   ]
  },
  {
   "cell_type": "markdown",
   "metadata": {},
   "source": [
    "- charger le ficher CSV : `../test.csv` :"
   ]
  },
  {
   "cell_type": "code",
   "execution_count": 29,
   "metadata": {},
   "outputs": [
    {
     "data": {
      "text/html": [
       "<div>\n",
       "<style scoped>\n",
       "    .dataframe tbody tr th:only-of-type {\n",
       "        vertical-align: middle;\n",
       "    }\n",
       "\n",
       "    .dataframe tbody tr th {\n",
       "        vertical-align: top;\n",
       "    }\n",
       "\n",
       "    .dataframe thead th {\n",
       "        text-align: right;\n",
       "    }\n",
       "</style>\n",
       "<table border=\"1\" class=\"dataframe\">\n",
       "  <thead>\n",
       "    <tr style=\"text-align: right;\">\n",
       "      <th></th>\n",
       "      <th>BranchName</th>\n",
       "      <th>Week</th>\n",
       "      <th>DayWeek</th>\n",
       "      <th>Day</th>\n",
       "      <th>Month</th>\n",
       "      <th>Hour</th>\n",
       "      <th>Transaction_Type</th>\n",
       "      <th>Units</th>\n",
       "      <th>Amount</th>\n",
       "    </tr>\n",
       "  </thead>\n",
       "  <tbody>\n",
       "    <tr>\n",
       "      <th>0</th>\n",
       "      <td>MyStore</td>\n",
       "      <td>1</td>\n",
       "      <td>3</td>\n",
       "      <td>2</td>\n",
       "      <td>1</td>\n",
       "      <td>9</td>\n",
       "      <td>Card</td>\n",
       "      <td>3</td>\n",
       "      <td>$54.00</td>\n",
       "    </tr>\n",
       "    <tr>\n",
       "      <th>1</th>\n",
       "      <td>MyStore</td>\n",
       "      <td>1</td>\n",
       "      <td>3</td>\n",
       "      <td>2</td>\n",
       "      <td>1</td>\n",
       "      <td>10</td>\n",
       "      <td>Cash</td>\n",
       "      <td>7</td>\n",
       "      <td>-$17.80</td>\n",
       "    </tr>\n",
       "    <tr>\n",
       "      <th>2</th>\n",
       "      <td>MyStore</td>\n",
       "      <td>1</td>\n",
       "      <td>3</td>\n",
       "      <td>2</td>\n",
       "      <td>1</td>\n",
       "      <td>10</td>\n",
       "      <td>Card</td>\n",
       "      <td>7</td>\n",
       "      <td>$41.99</td>\n",
       "    </tr>\n",
       "    <tr>\n",
       "      <th>3</th>\n",
       "      <td>MyStore</td>\n",
       "      <td>1</td>\n",
       "      <td>3</td>\n",
       "      <td>2</td>\n",
       "      <td>1</td>\n",
       "      <td>11</td>\n",
       "      <td>Card</td>\n",
       "      <td>20</td>\n",
       "      <td>$412.50</td>\n",
       "    </tr>\n",
       "    <tr>\n",
       "      <th>4</th>\n",
       "      <td>MyStore</td>\n",
       "      <td>1</td>\n",
       "      <td>3</td>\n",
       "      <td>2</td>\n",
       "      <td>1</td>\n",
       "      <td>12</td>\n",
       "      <td>Cash</td>\n",
       "      <td>1</td>\n",
       "      <td>-$18.00</td>\n",
       "    </tr>\n",
       "  </tbody>\n",
       "</table>\n",
       "</div>"
      ],
      "text/plain": [
       "  BranchName  Week  DayWeek  Day  Month  Hour Transaction_Type  Units   Amount\n",
       "0    MyStore     1        3    2      1     9             Card      3   $54.00\n",
       "1    MyStore     1        3    2      1    10             Cash      7  -$17.80\n",
       "2    MyStore     1        3    2      1    10             Card      7   $41.99\n",
       "3    MyStore     1        3    2      1    11             Card     20  $412.50\n",
       "4    MyStore     1        3    2      1    12             Cash      1  -$18.00"
      ]
     },
     "execution_count": 29,
     "metadata": {},
     "output_type": "execute_result"
    }
   ],
   "source": [
    "# Votre code\n",
    "retail = pd.read_csv(\"retail.csv\")\n",
    "retail.head()"
   ]
  },
  {
   "cell_type": "markdown",
   "metadata": {},
   "source": [
    "- sauver un des `DataFrame` précédent sous forme de CSV :"
   ]
  },
  {
   "cell_type": "code",
   "execution_count": 31,
   "metadata": {},
   "outputs": [],
   "source": [
    "# Votre code\n",
    "pd.DataFrame([[30, 21]], columns=['Apples', 'Bananas']).to_csv(\"test.csv\")"
   ]
  },
  {
   "cell_type": "markdown",
   "metadata": {},
   "source": [
    "## Manipulation des `DataFrame`\n",
    "\n",
    "Nous allons voir comment manipuler les données d'un `DataFrame`. Le dataset que nous allons utiliser répertorie les salaires des joueurs de la NBA sur les saisons 2000 à 2019.\n",
    "\n",
    "- charger le dataset `NBA_Full_Salaries_2000-2019.csv` :"
   ]
  },
  {
   "cell_type": "code",
   "execution_count": 14,
   "metadata": {},
   "outputs": [
    {
     "data": {
      "text/html": [
       "<div>\n",
       "<style scoped>\n",
       "    .dataframe tbody tr th:only-of-type {\n",
       "        vertical-align: middle;\n",
       "    }\n",
       "\n",
       "    .dataframe tbody tr th {\n",
       "        vertical-align: top;\n",
       "    }\n",
       "\n",
       "    .dataframe thead th {\n",
       "        text-align: right;\n",
       "    }\n",
       "</style>\n",
       "<table border=\"1\" class=\"dataframe\">\n",
       "  <thead>\n",
       "    <tr style=\"text-align: right;\">\n",
       "      <th></th>\n",
       "      <th>Name</th>\n",
       "      <th>Year</th>\n",
       "      <th>Salaries</th>\n",
       "      <th>Rank</th>\n",
       "    </tr>\n",
       "  </thead>\n",
       "  <tbody>\n",
       "    <tr>\n",
       "      <th>1</th>\n",
       "      <td>Shaquille O'Neal</td>\n",
       "      <td>2000</td>\n",
       "      <td>17142000.0</td>\n",
       "      <td>1</td>\n",
       "    </tr>\n",
       "    <tr>\n",
       "      <th>2</th>\n",
       "      <td>Kevin Garnett</td>\n",
       "      <td>2000</td>\n",
       "      <td>16806000.0</td>\n",
       "      <td>2</td>\n",
       "    </tr>\n",
       "    <tr>\n",
       "      <th>3</th>\n",
       "      <td>Alonzo Mourning</td>\n",
       "      <td>2000</td>\n",
       "      <td>15004000.0</td>\n",
       "      <td>3</td>\n",
       "    </tr>\n",
       "    <tr>\n",
       "      <th>4</th>\n",
       "      <td>Juwan Howard</td>\n",
       "      <td>2000</td>\n",
       "      <td>15000000.0</td>\n",
       "      <td>4</td>\n",
       "    </tr>\n",
       "    <tr>\n",
       "      <th>5</th>\n",
       "      <td>Scottie Pippen</td>\n",
       "      <td>2000</td>\n",
       "      <td>14795000.0</td>\n",
       "      <td>5</td>\n",
       "    </tr>\n",
       "  </tbody>\n",
       "</table>\n",
       "</div>"
      ],
      "text/plain": [
       "               Name  Year    Salaries  Rank\n",
       "1  Shaquille O'Neal  2000  17142000.0     1\n",
       "2     Kevin Garnett  2000  16806000.0     2\n",
       "3   Alonzo Mourning  2000  15004000.0     3\n",
       "4      Juwan Howard  2000  15000000.0     4\n",
       "5    Scottie Pippen  2000  14795000.0     5"
      ]
     },
     "execution_count": 14,
     "metadata": {},
     "output_type": "execute_result"
    }
   ],
   "source": [
    "# Votre code\n",
    "NBA = pd.read_csv(\"NBA_Full_Salaries_2000-2019.csv\", index_col=0)\n",
    "NBA.head()"
   ]
  },
  {
   "cell_type": "markdown",
   "metadata": {},
   "source": [
    "- sélectionner la colonne `Name` : "
   ]
  },
  {
   "cell_type": "code",
   "execution_count": 15,
   "metadata": {},
   "outputs": [
    {
     "data": {
      "text/plain": [
       "1              Shaquille O'Neal\n",
       "2                 Kevin Garnett\n",
       "3               Alonzo Mourning\n",
       "4                  Juwan Howard\n",
       "5                Scottie Pippen\n",
       "6                   Karl Malone\n",
       "7                 Larry Johnson\n",
       "8                   Gary Payton\n",
       "9               Rasheed Wallace\n",
       "10                   Shawn Kemp\n",
       "11             Damon Stoudamire\n",
       "12              Antonio McDyess\n",
       "13                    Ray Allen\n",
       "14               Antoine Walker\n",
       "15              Stephon Marbury\n",
       "16                  Vlade Divac\n",
       "17                Bryant Reeves\n",
       "18                Tom Gugliotta\n",
       "19                Nick Van Exel\n",
       "20               Elden Campbell\n",
       "21              Terrell Brandon\n",
       "22              Derrick Coleman\n",
       "23               Glenn Robinson\n",
       "24                  Steve Smith\n",
       "25                Kerry Kittles\n",
       "26                 Chris Dudley\n",
       "27                 Theo Ratliff\n",
       "28                  Matt Geiger\n",
       "29                   Jason Kidd\n",
       "30               Kenny Anderson\n",
       "                  ...          \n",
       "37391               Joe Chealey\n",
       "37392                 JP Macura\n",
       "37393              Rawle Alkins\n",
       "37394             Billy Preston\n",
       "37395      Kostas Antetokounmpo\n",
       "37396               Daryl Macon\n",
       "37397    DeVaughn Akoon-Purcell\n",
       "37398              Thomas Welsh\n",
       "37399              Keenan Evans\n",
       "37400               Zach Lofton\n",
       "37401         Marcus Derrickson\n",
       "37402                Gary Clark\n",
       "37403           Vincent Edwards\n",
       "37404             Angel Delgado\n",
       "37405             Yuta Watanabe\n",
       "37406               Yante Maten\n",
       "37407           Duncan Robinson\n",
       "37408              Trevon Duval\n",
       "37409             Jared Terrell\n",
       "37410            Trevon Bluiett\n",
       "37411             Allonzo Trier\n",
       "37412             Deonte Burton\n",
       "37413               Tyler Davis\n",
       "37414              Troy Caupain\n",
       "37415              Shake Milton\n",
       "37416               George King\n",
       "37417              Drew Eubanks\n",
       "37418               Jordan Loyd\n",
       "37419            Wenyen Gabriel\n",
       "37420                 Nuni Omot\n",
       "Name: Name, Length: 37420, dtype: object"
      ]
     },
     "execution_count": 15,
     "metadata": {},
     "output_type": "execute_result"
    }
   ],
   "source": [
    "# Votre code\n",
    "# NBA[\"Name\"]\n",
    "NBA.Name"
   ]
  },
  {
   "cell_type": "markdown",
   "metadata": {},
   "source": [
    "- sélectionner la première value de cette colonne :"
   ]
  },
  {
   "cell_type": "code",
   "execution_count": 39,
   "metadata": {},
   "outputs": [
    {
     "data": {
      "text/plain": [
       "(\"Shaquille O'Neal\", \"Shaquille O'Neal\")"
      ]
     },
     "execution_count": 39,
     "metadata": {},
     "output_type": "execute_result"
    }
   ],
   "source": [
    "# Votre code\n",
    "NBA.loc[0, \"Name\"], NBA.Name[0]"
   ]
  },
  {
   "cell_type": "markdown",
   "metadata": {},
   "source": [
    "- sélectionner la première ligne de ce `DataFrame` :"
   ]
  },
  {
   "cell_type": "code",
   "execution_count": 27,
   "metadata": {},
   "outputs": [
    {
     "data": {
      "text/html": [
       "<div>\n",
       "<style scoped>\n",
       "    .dataframe tbody tr th:only-of-type {\n",
       "        vertical-align: middle;\n",
       "    }\n",
       "\n",
       "    .dataframe tbody tr th {\n",
       "        vertical-align: top;\n",
       "    }\n",
       "\n",
       "    .dataframe thead th {\n",
       "        text-align: right;\n",
       "    }\n",
       "</style>\n",
       "<table border=\"1\" class=\"dataframe\">\n",
       "  <thead>\n",
       "    <tr style=\"text-align: right;\">\n",
       "      <th></th>\n",
       "      <th>Name</th>\n",
       "      <th>Year</th>\n",
       "      <th>Salaries</th>\n",
       "      <th>Rank</th>\n",
       "    </tr>\n",
       "  </thead>\n",
       "  <tbody>\n",
       "    <tr>\n",
       "      <th>1</th>\n",
       "      <td>Shaquille O'Neal</td>\n",
       "      <td>2000</td>\n",
       "      <td>17142000.0</td>\n",
       "      <td>1</td>\n",
       "    </tr>\n",
       "  </tbody>\n",
       "</table>\n",
       "</div>"
      ],
      "text/plain": [
       "               Name  Year    Salaries  Rank\n",
       "1  Shaquille O'Neal  2000  17142000.0     1"
      ]
     },
     "execution_count": 27,
     "metadata": {},
     "output_type": "execute_result"
    }
   ],
   "source": [
    "# Votre code\n",
    "# NBA.head(1)\n",
    "NBA.iloc[:1,:]"
   ]
  },
  {
   "cell_type": "markdown",
   "metadata": {},
   "source": [
    "- sélectionner les 10 premières valeurs de la colonne `Name` :"
   ]
  },
  {
   "cell_type": "code",
   "execution_count": 28,
   "metadata": {},
   "outputs": [
    {
     "data": {
      "text/html": [
       "<div>\n",
       "<style scoped>\n",
       "    .dataframe tbody tr th:only-of-type {\n",
       "        vertical-align: middle;\n",
       "    }\n",
       "\n",
       "    .dataframe tbody tr th {\n",
       "        vertical-align: top;\n",
       "    }\n",
       "\n",
       "    .dataframe thead th {\n",
       "        text-align: right;\n",
       "    }\n",
       "</style>\n",
       "<table border=\"1\" class=\"dataframe\">\n",
       "  <thead>\n",
       "    <tr style=\"text-align: right;\">\n",
       "      <th></th>\n",
       "      <th>Name</th>\n",
       "      <th>Year</th>\n",
       "      <th>Salaries</th>\n",
       "      <th>Rank</th>\n",
       "    </tr>\n",
       "  </thead>\n",
       "  <tbody>\n",
       "    <tr>\n",
       "      <th>1</th>\n",
       "      <td>Shaquille O'Neal</td>\n",
       "      <td>2000</td>\n",
       "      <td>17142000.0</td>\n",
       "      <td>1</td>\n",
       "    </tr>\n",
       "  </tbody>\n",
       "</table>\n",
       "</div>"
      ],
      "text/plain": [
       "               Name  Year    Salaries  Rank\n",
       "1  Shaquille O'Neal  2000  17142000.0     1"
      ]
     },
     "execution_count": 28,
     "metadata": {},
     "output_type": "execute_result"
    }
   ],
   "source": [
    "# Votre code\n",
    "NBA.loc[:1,:]"
   ]
  },
  {
   "cell_type": "code",
   "execution_count": null,
   "metadata": {},
   "outputs": [],
   "source": []
  },
  {
   "cell_type": "code",
   "execution_count": null,
   "metadata": {},
   "outputs": [],
   "source": []
  }
 ],
 "metadata": {
  "kernelspec": {
   "display_name": "Python 3",
   "language": "python",
   "name": "python3"
  },
  "language_info": {
   "codemirror_mode": {
    "name": "ipython",
    "version": 3
   },
   "file_extension": ".py",
   "mimetype": "text/x-python",
   "name": "python",
   "nbconvert_exporter": "python",
   "pygments_lexer": "ipython3",
   "version": "3.6.4"
  }
 },
 "nbformat": 4,
 "nbformat_minor": 2
}
