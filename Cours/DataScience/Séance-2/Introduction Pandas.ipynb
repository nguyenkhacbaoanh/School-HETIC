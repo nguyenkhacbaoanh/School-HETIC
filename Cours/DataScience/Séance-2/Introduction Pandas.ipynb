{
 "cells": [
  {
   "cell_type": "markdown",
   "metadata": {},
   "source": [
    "## Prof: Alain Demenet\n",
    "### Data Science\n",
    "#### Co-founder: 42AI\n",
    "#### email: alain.demenet@gmail.com"
   ]
  },
  {
   "cell_type": "markdown",
   "metadata": {},
   "source": []
  },
  {
   "cell_type": "code",
   "execution_count": 1,
   "metadata": {},
   "outputs": [],
   "source": [
    "import pandas as pd"
   ]
  },
  {
   "cell_type": "markdown",
   "metadata": {},
   "source": [
    "`DataFrame` est un tableau ou object qu'on travaille au-dessus en plusieurs manières.\n",
    "- `value_counts()`: pour classifer les values en décroissant dans un data frame\n",
    "\n",
    "`Séries`: \n",
    "- est certainement des colonnes.\n",
    "- `idxmax()` pour renvoyer l'indice de la value maxima\n",
    "\n",
    "`read_csv`: **index_col** spécifie la colonne va être utilisé comme index de dataframe."
   ]
  },
  {
   "cell_type": "code",
   "execution_count": null,
   "metadata": {},
   "outputs": [],
   "source": []
  }
 ],
 "metadata": {
  "kernelspec": {
   "display_name": "Python 3",
   "language": "python",
   "name": "python3"
  },
  "language_info": {
   "codemirror_mode": {
    "name": "ipython",
    "version": 3
   },
   "file_extension": ".py",
   "mimetype": "text/x-python",
   "name": "python",
   "nbconvert_exporter": "python",
   "pygments_lexer": "ipython3",
   "version": "3.6.4"
  }
 },
 "nbformat": 4,
 "nbformat_minor": 2
}
