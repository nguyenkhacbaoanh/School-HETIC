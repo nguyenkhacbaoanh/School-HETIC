{
 "cells": [
  {
   "cell_type": "markdown",
   "metadata": {},
   "source": [
    "__Data Scientist:__ creer les models à partir des donnes, de predire, mettre conceptialiser sur les donnes"
   ]
  },
  {
   "attachments": {},
   "cell_type": "markdown",
   "metadata": {},
   "source": [
    "# Introduction: Machine Learning\n",
    "\n",
    "Type d'apprentissage:\n",
    "![](https://cdn-images-1.medium.com/max/899/1*9Eu_-DDMZ_bP_t94_MMEYA.png)\n",
    "\n",
    "- Semi-supervised: on a des parties des donnes des labels ou non label\n",
    "\n",
    "### Supervisé:\n",
    "- Classification: trouver une frontière nous permets de séparer les groupes de donnes.\n",
    "- Regression: trouver les relations des donnes\n",
    "\n",
    "### EDA: Pourquoi?\n",
    "- nous permets identifier bcp des choses à partir des donnes, a des certains idea de certain chose, donner les hypothèse ou réponse des hypothèse\n",
    "- modèliser: selection des variable permets évoluer les performances\n",
    "\n",
    "### Comment?\n",
    "- il n'y a pas des recette magique\n",
    "- processus de exporation\n",
    "- cette étape repère plusieur fois pour tester les informations et les performance ou résultats\n",
    "\n",
    "### 6 étapes:\n",
    "1. prendre connaisance des données\n",
    "2. gestion des donnees manquantes\n",
    "3. gestion des outliers\n",
    "4. analyse uni-varié => une variable une à une => ituition des variables intéressant ou non => étudier\n",
    "5. analyse multi-varié\n",
    "6. Conclusion: le but de rassembler tout les connaisance des étapes avances, à la fin on peut décider qu'est qu'on doit faire\n"
   ]
  },
  {
   "cell_type": "markdown",
   "metadata": {},
   "source": [
    "## 1. les données:\n",
    "## 2. Les donnes manquants:\n",
    "- bcp donnees, peu de valeurs manquantes => suprime \n",
    "- remplir par la moyenne\n",
    "- fillna\n",
    "\n",
    "## 3. Les outliers:\n",
    "- supprime\n",
    "- ou creer autre variable qui gère les information de l'oulier\n",
    "## Type de donnees:\n",
    "|Variable|\n",
    "|---|\n",
    "|Qualitative|Quantitative|\n",
    "Ordinal Nominal Discrète Continue\n",
    "\n",
    "## Type de distributuon\n",
    "### Unimodal\n",
    "\n",
    "### Bimodal\n",
    "\n",
    "### Multimodal\n",
    "\n",
    "- Normale\n",
    "- Bimodale\n",
    "- Uniforme\n",
    "- Skewed (asymétrique)\n",
    "\n",
    "## Statistiques descriptives\n",
    "**La tendance centrale**: trouve la fréquance est plus élevé, ou est le centre de ma distribution\n",
    "- mode\n",
    "- median (50%|50%)\n",
    "- mean\n",
    "\n",
    "**lesure de dispersion**:\n",
    "- variance: la moyenne de la distance de la moyenne de distribution\n",
    "- déviation standard (écart type)\n",
    "- [interquartiles](https://pro.arcgis.com/en/pro-app/help/analysis/geoprocessing/charts/GUID-0E2C3730-C535-40CD-8152-80D794A996A7-web.png)\n",
    "- skew (gauche, droite ou centre au niveau de distribution de données)\n",
    "- kurtosis (haut ou bas au niveau de distribution de données)\n",
    "\n",
    "## Transformer les données:\n",
    "- passer en ratio (pourcentage)\n",
    "- prendre le log\n",
    "- créer des bins\n",
    "- ...\n",
    "\n",
    "## Analyse multivarité:\n",
    "- la corrélation de Pearson: permet de calculer comment varier les variables par rapport les autres variable varié\n",
    "- mesure de covariance\n",
    "- corrélation à partir de la covariance\n",
    "\n",
    "## Conclusion:\n",
    "- donner la critique et les pistes de travail et d'amélioration"
   ]
  },
  {
   "cell_type": "markdown",
   "metadata": {},
   "source": [
    "> Note: EDA visé aux personnes qui commprennent pas\n",
    "\n",
    "> par ex: mettre les titles bien précisé ou les variables visibles..."
   ]
  },
  {
   "cell_type": "code",
   "execution_count": null,
   "metadata": {},
   "outputs": [],
   "source": []
  }
 ],
 "metadata": {
  "kernelspec": {
   "display_name": "Python 3",
   "language": "python",
   "name": "python3"
  },
  "language_info": {
   "codemirror_mode": {
    "name": "ipython",
    "version": 3
   },
   "file_extension": ".py",
   "mimetype": "text/x-python",
   "name": "python",
   "nbconvert_exporter": "python",
   "pygments_lexer": "ipython3",
   "version": "3.6.4"
  }
 },
 "nbformat": 4,
 "nbformat_minor": 2
}
