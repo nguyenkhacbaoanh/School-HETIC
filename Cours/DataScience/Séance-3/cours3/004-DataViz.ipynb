{
 "cells": [
  {
   "cell_type": "markdown",
   "metadata": {},
   "source": [
    "# Attrapez-les tous !\n",
    "\n",
    "Nous allons maintenant remettre en application tout ce que nous avons vu ! Vous pouvez au choix utiliser `pandas` ou `seaborn`. À vous de choisir."
   ]
  },
  {
   "cell_type": "markdown",
   "metadata": {},
   "source": [
    "- importez les librairies suivantes :\n",
    "    - `pandas` en tant que `pd`\n",
    "    - `seaborn` en tant que `sns`"
   ]
  },
  {
   "cell_type": "code",
   "execution_count": null,
   "metadata": {},
   "outputs": [],
   "source": []
  },
  {
   "cell_type": "markdown",
   "metadata": {},
   "source": [
    "- chargez le dataset `data/Pokemon1.csv` :"
   ]
  },
  {
   "cell_type": "code",
   "execution_count": null,
   "metadata": {},
   "outputs": [],
   "source": []
  },
  {
   "cell_type": "markdown",
   "metadata": {},
   "source": [
    "- affichez les 5 premières lignes :"
   ]
  },
  {
   "cell_type": "code",
   "execution_count": null,
   "metadata": {},
   "outputs": [],
   "source": []
  },
  {
   "cell_type": "markdown",
   "metadata": {},
   "source": [
    "- affichez les infos :"
   ]
  },
  {
   "cell_type": "code",
   "execution_count": null,
   "metadata": {},
   "outputs": [],
   "source": []
  },
  {
   "cell_type": "markdown",
   "metadata": {},
   "source": [
    "Dans les questions suivante, trouvez le graphe approprié pour :\n",
    "\n",
    "- afficher la fréquence des types 1 de Pokemon :"
   ]
  },
  {
   "cell_type": "code",
   "execution_count": null,
   "metadata": {},
   "outputs": [],
   "source": []
  },
  {
   "cell_type": "markdown",
   "metadata": {},
   "source": [
    "- afficher la fréquence du nombre de point de vie :"
   ]
  },
  {
   "cell_type": "code",
   "execution_count": null,
   "metadata": {},
   "outputs": [],
   "source": []
  },
  {
   "cell_type": "markdown",
   "metadata": {},
   "source": [
    "- afficher la fréquence du poids des Pokemons :"
   ]
  },
  {
   "cell_type": "code",
   "execution_count": null,
   "metadata": {},
   "outputs": [],
   "source": []
  },
  {
   "cell_type": "markdown",
   "metadata": {},
   "source": [
    "## Pokemon part 2"
   ]
  },
  {
   "cell_type": "markdown",
   "metadata": {},
   "source": [
    "- chargez le dataset `data/Pokemon2.csv` (sans la colonne index) :"
   ]
  },
  {
   "cell_type": "code",
   "execution_count": null,
   "metadata": {},
   "outputs": [],
   "source": []
  },
  {
   "cell_type": "markdown",
   "metadata": {},
   "source": [
    "- faites un **scatter plot** avec `Attack` en abscisse et `Defense` en ordonné :"
   ]
  },
  {
   "cell_type": "code",
   "execution_count": null,
   "metadata": {},
   "outputs": [],
   "source": []
  },
  {
   "cell_type": "markdown",
   "metadata": {},
   "source": [
    "- reprenez le même scatter plot et ajoutez la `Generation` en coloration des points (vous pouvez choisir le dégradé de couleur qui vous plaît) :"
   ]
  },
  {
   "cell_type": "code",
   "execution_count": null,
   "metadata": {},
   "outputs": [],
   "source": []
  },
  {
   "cell_type": "markdown",
   "metadata": {},
   "source": [
    "- faites un **hexplot** entre `Attack` et `Defense` (mêmes axes que précédemment) :"
   ]
  },
  {
   "cell_type": "code",
   "execution_count": null,
   "metadata": {},
   "outputs": [],
   "source": []
  },
  {
   "cell_type": "markdown",
   "metadata": {},
   "source": [
    "- créez un nouveau `DataFrame` avec la moyenne de `Attack` et `Defense` en fonction que le Pokemon soit légendaire (`Legendary`) et de son `Type 1` :"
   ]
  },
  {
   "cell_type": "code",
   "execution_count": null,
   "metadata": {},
   "outputs": [],
   "source": []
  },
  {
   "cell_type": "markdown",
   "metadata": {},
   "source": [
    "- affichez ce `DataFrame` sous la forme que vous trouvez la plus parlante :"
   ]
  },
  {
   "cell_type": "code",
   "execution_count": null,
   "metadata": {},
   "outputs": [],
   "source": []
  },
  {
   "cell_type": "markdown",
   "metadata": {},
   "source": [
    "- pouvez-vous trouver un moyen de visualiser l'évolution de la moyenne des compétences des Pokemons (`HP`, `Attack`, `Defense`, `Sp. Atk`, `Sp. Def`, `Speed`) en fonction des `Generation` ?"
   ]
  },
  {
   "cell_type": "code",
   "execution_count": null,
   "metadata": {},
   "outputs": [],
   "source": []
  },
  {
   "cell_type": "markdown",
   "metadata": {},
   "source": [
    "- Comment évolue le `Total` pour chaque `Generation` selon que les pokemons soient `Legendary` ou non ? À vous de visualiser 😉."
   ]
  },
  {
   "cell_type": "code",
   "execution_count": null,
   "metadata": {},
   "outputs": [],
   "source": []
  },
  {
   "cell_type": "markdown",
   "metadata": {},
   "source": [
    "- afficher les corrélations sous forme de tableau :"
   ]
  },
  {
   "cell_type": "code",
   "execution_count": null,
   "metadata": {},
   "outputs": [],
   "source": []
  },
  {
   "cell_type": "markdown",
   "metadata": {},
   "source": [
    "- tracez la heat map pour visualiser plus clairement :"
   ]
  },
  {
   "cell_type": "code",
   "execution_count": null,
   "metadata": {},
   "outputs": [],
   "source": []
  },
  {
   "cell_type": "markdown",
   "metadata": {},
   "source": [
    "_Pouvez-vous en tirer quelque chose ?_"
   ]
  },
  {
   "cell_type": "markdown",
   "metadata": {},
   "source": [
    "- affichez un pairplot d'au moins `HP`, `Attack` et `Defense` :"
   ]
  },
  {
   "cell_type": "code",
   "execution_count": null,
   "metadata": {},
   "outputs": [],
   "source": []
  },
  {
   "cell_type": "markdown",
   "metadata": {},
   "source": [
    "- faites un `FacetGrid` avec `Legendary` en colonne et `Generation` en ligne. Amusez-vous à mettre différentes graphiques :"
   ]
  },
  {
   "cell_type": "code",
   "execution_count": null,
   "metadata": {},
   "outputs": [],
   "source": []
  },
  {
   "cell_type": "markdown",
   "metadata": {},
   "source": [
    "## Pokemon part 3\n",
    "\n",
    "La datascience ce n'est pas suivre des chemins pré-définies. La datascience c'est chercher des réponses à des questions. Ou chercher des questions...\n",
    "\n",
    "Dans cette partie, vous allez devoir utiliser ce que vous avez vu pour répondre aux questions. **Il n'y a pas de bonnes ou de mauvaises réponses, juste celle qui vous paraîtra plus pertinente que d'autres**. Alors n'hésitez pas à aller voir d'autres types de data-visualization."
   ]
  },
  {
   "cell_type": "markdown",
   "metadata": {},
   "source": [
    "### Comment les pokemons sont répartis entre les générations ?"
   ]
  },
  {
   "cell_type": "code",
   "execution_count": null,
   "metadata": {},
   "outputs": [],
   "source": []
  },
  {
   "cell_type": "markdown",
   "metadata": {},
   "source": [
    "### Quels sont les types les plus communs ?"
   ]
  },
  {
   "cell_type": "code",
   "execution_count": null,
   "metadata": {},
   "outputs": [],
   "source": []
  },
  {
   "cell_type": "markdown",
   "metadata": {},
   "source": [
    "### Quel est l'espèce de pokemon la plus forte ? La plus faible ?"
   ]
  },
  {
   "cell_type": "code",
   "execution_count": null,
   "metadata": {},
   "outputs": [],
   "source": []
  },
  {
   "cell_type": "markdown",
   "metadata": {},
   "source": [
    "Tu as atteint la fin de ce notebook ? Bravo ! 👏 Pourquoi ne pas trouver toi-même des questions auquel répondre ? Ou simplement expérimenter de nouveaux graphes ?"
   ]
  },
  {
   "cell_type": "code",
   "execution_count": null,
   "metadata": {},
   "outputs": [],
   "source": []
  }
 ],
 "metadata": {
  "kernelspec": {
   "display_name": "Python 3",
   "language": "python",
   "name": "python3"
  },
  "language_info": {
   "codemirror_mode": {
    "name": "ipython",
    "version": 3
   },
   "file_extension": ".py",
   "mimetype": "text/x-python",
   "name": "python",
   "nbconvert_exporter": "python",
   "pygments_lexer": "ipython3",
   "version": "3.6.4"
  }
 },
 "nbformat": 4,
 "nbformat_minor": 2
}
