{
 "cells": [
  {
   "cell_type": "code",
   "execution_count": 10,
   "metadata": {},
   "outputs": [],
   "source": [
    "import numpy as np"
   ]
  },
  {
   "cell_type": "code",
   "execution_count": 12,
   "metadata": {},
   "outputs": [
    {
     "data": {
      "text/plain": [
       "array([0, 0, 0, 0, 0, 0, 0, 0, 0, 0])"
      ]
     },
     "execution_count": 12,
     "metadata": {},
     "output_type": "execute_result"
    }
   ],
   "source": [
    "tableau = np.array([i-i for i in range(0,10)])\n",
    "tableau"
   ]
  },
  {
   "cell_type": "code",
   "execution_count": 15,
   "metadata": {},
   "outputs": [
    {
     "data": {
      "text/plain": [
       "array([0, 0, 0, 0, 0, 0, 0, 0, 0, 0], dtype=int16)"
      ]
     },
     "execution_count": 15,
     "metadata": {},
     "output_type": "execute_result"
    }
   ],
   "source": [
    "np.zeros(10, dtype='int16')"
   ]
  },
  {
   "cell_type": "code",
   "execution_count": 17,
   "metadata": {},
   "outputs": [
    {
     "data": {
      "text/plain": [
       "array([1, 1, 1, 1, 1, 1, 1, 1, 1, 1, 1, 1, 1, 1, 1, 1, 1, 1, 1, 1, 1, 1,\n",
       "       1, 1, 1, 1, 1, 1, 1, 1, 1, 1, 1, 1, 1, 1, 1, 1, 1, 1, 1, 1, 1, 1,\n",
       "       1, 1, 1, 1, 1, 1, 1, 1, 1, 1, 1, 1, 1, 1, 1, 1, 1, 1, 1, 1, 1, 1,\n",
       "       1, 1, 1, 1, 1, 1, 1, 1, 1, 1, 1, 1, 1, 1, 1, 1, 1, 1, 1, 1, 1, 1,\n",
       "       1, 1, 1, 1, 1, 1, 1, 1, 1, 1, 1, 1], dtype=int8)"
      ]
     },
     "execution_count": 17,
     "metadata": {},
     "output_type": "execute_result"
    }
   ],
   "source": [
    "np.ones(100, dtype='int8')"
   ]
  },
  {
   "cell_type": "code",
   "execution_count": 18,
   "metadata": {},
   "outputs": [
    {
     "data": {
      "text/plain": [
       "array([1, 1, 1, 1, 1, 1, 1, 1, 1, 1, 1, 1, 1, 1, 1, 1, 1, 1, 1, 1, 1, 1,\n",
       "       1, 1, 1, 1, 1, 1, 1, 1, 1, 1, 1, 1, 1, 1, 1, 1, 1, 1, 1, 1, 1, 1,\n",
       "       1, 1, 1, 1, 1, 1, 1, 1, 1, 1, 1, 1, 1, 1, 1, 1, 1, 1, 1, 1, 1, 1,\n",
       "       1, 1, 1, 1, 1, 1, 1, 1, 1, 1, 1, 1, 1, 1, 1, 1, 1, 1, 1, 1, 1, 1,\n",
       "       1, 1, 1, 1, 1, 1, 1, 1, 1, 1, 1, 1])"
      ]
     },
     "execution_count": 18,
     "metadata": {},
     "output_type": "execute_result"
    }
   ],
   "source": [
    "np.repeat(np.array([1]), 100)"
   ]
  },
  {
   "cell_type": "code",
   "execution_count": 20,
   "metadata": {},
   "outputs": [
    {
     "data": {
      "text/plain": [
       "array([1, 1, 1, 1, 1, 1, 1, 1, 1, 1, 1, 1, 1, 1, 1, 1, 1, 1, 1, 1, 1, 1,\n",
       "       1, 1, 1, 1, 1, 1, 1, 1, 1, 1, 1, 1, 1, 1, 1, 1, 1, 1, 1, 1, 1, 1,\n",
       "       1, 1, 1, 1, 1, 1, 1, 1, 1, 1, 1, 1, 1, 1, 1, 1, 1, 1, 1, 1, 1, 1,\n",
       "       1, 1, 1, 1, 1, 1, 1, 1, 1, 1, 1, 1, 1, 1, 1, 1, 1, 1, 1, 1, 1, 1,\n",
       "       1, 1, 1, 1, 1, 1, 1, 1, 1, 1, 1, 1])"
      ]
     },
     "execution_count": 20,
     "metadata": {},
     "output_type": "execute_result"
    }
   ],
   "source": [
    "np.full(100,1,int)"
   ]
  },
  {
   "cell_type": "code",
   "execution_count": 19,
   "metadata": {},
   "outputs": [
    {
     "data": {
      "text/plain": [
       "array([  0,   1,   2,   3,   4,   5,   6,   7,   8,   9,  10,  11,  12,\n",
       "        13,  14,  15,  16,  17,  18,  19,  20,  21,  22,  23,  24,  25,\n",
       "        26,  27,  28,  29,  30,  31,  32,  33,  34,  35,  36,  37,  38,\n",
       "        39,  40,  41,  42,  43,  44,  45,  46,  47,  48,  49,  50,  51,\n",
       "        52,  53,  54,  55,  56,  57,  58,  59,  60,  61,  62,  63,  64,\n",
       "        65,  66,  67,  68,  69,  70,  71,  72,  73,  74,  75,  76,  77,\n",
       "        78,  79,  80,  81,  82,  83,  84,  85,  86,  87,  88,  89,  90,\n",
       "        91,  92,  93,  94,  95,  96,  97,  98,  99, 100])"
      ]
     },
     "execution_count": 19,
     "metadata": {},
     "output_type": "execute_result"
    }
   ],
   "source": [
    "np.array([i for i in range(101)])"
   ]
  },
  {
   "cell_type": "code",
   "execution_count": 21,
   "metadata": {},
   "outputs": [
    {
     "data": {
      "text/plain": [
       "array([  0,   1,   2,   3,   4,   5,   6,   7,   8,   9,  10,  11,  12,\n",
       "        13,  14,  15,  16,  17,  18,  19,  20,  21,  22,  23,  24,  25,\n",
       "        26,  27,  28,  29,  30,  31,  32,  33,  34,  35,  36,  37,  38,\n",
       "        39,  40,  41,  42,  43,  44,  45,  46,  47,  48,  49,  50,  51,\n",
       "        52,  53,  54,  55,  56,  57,  58,  59,  60,  61,  62,  63,  64,\n",
       "        65,  66,  67,  68,  69,  70,  71,  72,  73,  74,  75,  76,  77,\n",
       "        78,  79,  80,  81,  82,  83,  84,  85,  86,  87,  88,  89,  90,\n",
       "        91,  92,  93,  94,  95,  96,  97,  98,  99, 100])"
      ]
     },
     "execution_count": 21,
     "metadata": {},
     "output_type": "execute_result"
    }
   ],
   "source": [
    "np.arange(0,101)"
   ]
  },
  {
   "cell_type": "code",
   "execution_count": 29,
   "metadata": {},
   "outputs": [],
   "source": [
    "??np.ndarray"
   ]
  },
  {
   "cell_type": "code",
   "execution_count": 44,
   "metadata": {},
   "outputs": [
    {
     "data": {
      "text/plain": [
       "array([[  1,   2,   3,   4,   5,   6,   7,   8,   9,  10],\n",
       "       [ 11,  12,  13,  14,  15,  16,  17,  18,  19,  20],\n",
       "       [ 21,  22,  23,  24,  25,  26,  27,  28,  29,  30],\n",
       "       [ 31,  32,  33,  34,  35,  36,  37,  38,  39,  40],\n",
       "       [ 41,  42,  43,  44,  45,  46,  47,  48,  49,  50],\n",
       "       [ 51,  52,  53,  54,  55,  56,  57,  58,  59,  60],\n",
       "       [ 61,  62,  63,  64,  65,  66,  67,  68,  69,  70],\n",
       "       [ 71,  72,  73,  74,  75,  76,  77,  78,  79,  80],\n",
       "       [ 81,  82,  83,  84,  85,  86,  87,  88,  89,  90],\n",
       "       [ 91,  92,  93,  94,  95,  96,  97,  98,  99, 100]])"
      ]
     },
     "execution_count": 44,
     "metadata": {},
     "output_type": "execute_result"
    }
   ],
   "source": [
    "np.ndarray((10,10), buffer=np.array([i for i in range(1,101)]), dtype='int')"
   ]
  },
  {
   "cell_type": "code",
   "execution_count": 49,
   "metadata": {},
   "outputs": [
    {
     "data": {
      "text/plain": [
       "array([[  1,   2,   3,   4,   5,   6,   7,   8,   9,  10],\n",
       "       [ 11,  12,  13,  14,  15,  16,  17,  18,  19,  20],\n",
       "       [ 21,  22,  23,  24,  25,  26,  27,  28,  29,  30],\n",
       "       [ 31,  32,  33,  34,  35,  36,  37,  38,  39,  40],\n",
       "       [ 41,  42,  43,  44,  45,  46,  47,  48,  49,  50],\n",
       "       [ 51,  52,  53,  54,  55,  56,  57,  58,  59,  60],\n",
       "       [ 61,  62,  63,  64,  65,  66,  67,  68,  69,  70],\n",
       "       [ 71,  72,  73,  74,  75,  76,  77,  78,  79,  80],\n",
       "       [ 81,  82,  83,  84,  85,  86,  87,  88,  89,  90],\n",
       "       [ 91,  92,  93,  94,  95,  96,  97,  98,  99, 100]])"
      ]
     },
     "execution_count": 49,
     "metadata": {},
     "output_type": "execute_result"
    }
   ],
   "source": [
    "np.ndarray((10,10), buffer=np.arange(1,101), dtype='int')"
   ]
  },
  {
   "cell_type": "code",
   "execution_count": 47,
   "metadata": {},
   "outputs": [
    {
     "data": {
      "text/plain": [
       "array([[  1,   2,   3,   4,   5,   6,   7,   8,   9,  10],\n",
       "       [ 11,  12,  13,  14,  15,  16,  17,  18,  19,  20],\n",
       "       [ 21,  22,  23,  24,  25,  26,  27,  28,  29,  30],\n",
       "       [ 31,  32,  33,  34,  35,  36,  37,  38,  39,  40],\n",
       "       [ 41,  42,  43,  44,  45,  46,  47,  48,  49,  50],\n",
       "       [ 51,  52,  53,  54,  55,  56,  57,  58,  59,  60],\n",
       "       [ 61,  62,  63,  64,  65,  66,  67,  68,  69,  70],\n",
       "       [ 71,  72,  73,  74,  75,  76,  77,  78,  79,  80],\n",
       "       [ 81,  82,  83,  84,  85,  86,  87,  88,  89,  90],\n",
       "       [ 91,  92,  93,  94,  95,  96,  97,  98,  99, 100]])"
      ]
     },
     "execution_count": 47,
     "metadata": {},
     "output_type": "execute_result"
    }
   ],
   "source": [
    "np.arange(1,101).reshape(10,10)"
   ]
  },
  {
   "cell_type": "code",
   "execution_count": 131,
   "metadata": {},
   "outputs": [
    {
     "data": {
      "text/plain": [
       "array([[1., 0., 0., 0., 0., 0., 0., 0.],\n",
       "       [0., 1., 0., 0., 0., 0., 0., 0.],\n",
       "       [0., 0., 1., 0., 0., 0., 0., 0.],\n",
       "       [0., 0., 0., 1., 0., 0., 0., 0.],\n",
       "       [0., 0., 0., 0., 1., 0., 0., 0.],\n",
       "       [0., 0., 0., 0., 0., 1., 0., 0.],\n",
       "       [0., 0., 0., 0., 0., 0., 1., 0.],\n",
       "       [0., 0., 0., 0., 0., 0., 0., 1.]])"
      ]
     },
     "execution_count": 131,
     "metadata": {},
     "output_type": "execute_result"
    }
   ],
   "source": [
    "np.eye(8, k=0)"
   ]
  },
  {
   "cell_type": "code",
   "execution_count": 130,
   "metadata": {},
   "outputs": [
    {
     "name": "stdout",
     "output_type": "stream",
     "text": [
      "[0 1 2 3 4 5 6 7 8 9]\n"
     ]
    },
    {
     "data": {
      "text/plain": [
       "array([5, 6, 7, 8, 9])"
      ]
     },
     "execution_count": 130,
     "metadata": {},
     "output_type": "execute_result"
    }
   ],
   "source": [
    "# list des éléments de 0 à 9:\n",
    "x = np.arange(10)\n",
    "print(x)\n",
    "# selection les éléments de 5 à 9:\n",
    "x[5:len(x):1]"
   ]
  },
  {
   "cell_type": "markdown",
   "metadata": {},
   "source": [
    "## Challenge\n",
    "---\n",
    "output of code:\n",
    "```\n",
    "[[0 1 0 1 0 1 0 1]\n",
    " [1 0 1 0 1 0 1 0]\n",
    " [0 1 0 1 0 1 0 1]\n",
    " [1 0 1 0 1 0 1 0]\n",
    " [0 1 0 1 0 1 0 1]\n",
    " [1 0 1 0 1 0 1 0]\n",
    " [0 1 0 1 0 1 0 1]\n",
    " [1 0 1 0 1 0 1 0]]\n",
    "```"
   ]
  },
  {
   "cell_type": "code",
   "execution_count": 121,
   "metadata": {},
   "outputs": [
    {
     "data": {
      "text/plain": [
       "array([[0, 1, 0, 1, 0, 1, 0, 1],\n",
       "       [1, 0, 1, 0, 1, 0, 1, 0],\n",
       "       [0, 1, 0, 1, 0, 1, 0, 1],\n",
       "       [1, 0, 1, 0, 1, 0, 1, 0],\n",
       "       [0, 1, 0, 1, 0, 1, 0, 1],\n",
       "       [1, 0, 1, 0, 1, 0, 1, 0],\n",
       "       [0, 1, 0, 1, 0, 1, 0, 1],\n",
       "       [1, 0, 1, 0, 1, 0, 1, 0]])"
      ]
     },
     "execution_count": 121,
     "metadata": {},
     "output_type": "execute_result"
    }
   ],
   "source": [
    "#import numpy as np\n",
    "x = np.zeros((8,8), int)\n",
    "for j in [0,2]: # for rotation matrix, 0 for remain matrix, 2 to rotation 180 degree\n",
    "    x = np.rot90(x,j)\n",
    "    for i in [1,3,5,7]: # la matrix symétrique\n",
    "        y = np.ones(8-i) # select numbre of element to create 1D matrix to replace diagonal x\n",
    "        np.fill_diagonal(x[i:], y)\n",
    "x"
   ]
  },
  {
   "cell_type": "code",
   "execution_count": 123,
   "metadata": {},
   "outputs": [
    {
     "data": {
      "text/plain": [
       "array([[0, 1, 0, 1, 0, 1, 0, 1],\n",
       "       [1, 0, 1, 0, 1, 0, 1, 0],\n",
       "       [0, 1, 0, 1, 0, 1, 0, 1],\n",
       "       [1, 0, 1, 0, 1, 0, 1, 0],\n",
       "       [0, 1, 0, 1, 0, 1, 0, 1],\n",
       "       [1, 0, 1, 0, 1, 0, 1, 0],\n",
       "       [0, 1, 0, 1, 0, 1, 0, 1],\n",
       "       [1, 0, 1, 0, 1, 0, 1, 0]], dtype=int32)"
      ]
     },
     "execution_count": 123,
     "metadata": {},
     "output_type": "execute_result"
    }
   ],
   "source": [
    "board = np.zeros((8,8), np.int32)\n",
    "for ri in range(8):\n",
    "   for ci in range(8):\n",
    "     if (ci + ri+1) % 2 == 0:\n",
    "       board[ri,ci] = 1\n",
    "board"
   ]
  },
  {
   "cell_type": "markdown",
   "metadata": {},
   "source": [
    "## Solution using slicing"
   ]
  },
  {
   "cell_type": "code",
   "execution_count": 138,
   "metadata": {},
   "outputs": [
    {
     "data": {
      "text/plain": [
       "array([[0., 1., 0., 1., 0., 1., 0., 1.],\n",
       "       [1., 0., 1., 0., 1., 0., 1., 0.],\n",
       "       [0., 1., 0., 1., 0., 1., 0., 1.],\n",
       "       [1., 0., 1., 0., 1., 0., 1., 0.],\n",
       "       [0., 1., 0., 1., 0., 1., 0., 1.],\n",
       "       [1., 0., 1., 0., 1., 0., 1., 0.],\n",
       "       [0., 1., 0., 1., 0., 1., 0., 1.],\n",
       "       [1., 0., 1., 0., 1., 0., 1., 0.]])"
      ]
     },
     "execution_count": 138,
     "metadata": {},
     "output_type": "execute_result"
    }
   ],
   "source": [
    "board = np.zeros((8,8))\n",
    "board[::2, 1::2] = 1\n",
    "board[1::2, ::2] = 1\n",
    "board"
   ]
  },
  {
   "cell_type": "markdown",
   "metadata": {},
   "source": [
    "#    **Numpy broadcasting:**"
   ]
  },
  {
   "cell_type": "code",
   "execution_count": 137,
   "metadata": {},
   "outputs": [
    {
     "data": {
      "text/plain": [
       "array([0, 2, 4, 6, 8])"
      ]
     },
     "execution_count": 137,
     "metadata": {},
     "output_type": "execute_result"
    }
   ],
   "source": [
    "np.arange(5)*2"
   ]
  },
  {
   "cell_type": "code",
   "execution_count": 139,
   "metadata": {},
   "outputs": [
    {
     "data": {
      "text/plain": [
       "array([[  2,   3,   4,   5,   6,   7,   8,   9,  10,  11],\n",
       "       [ 12,  13,  14,  15,  16,  17,  18,  19,  20,  21],\n",
       "       [ 22,  23,  24,  25,  26,  27,  28,  29,  30,  31],\n",
       "       [ 32,  33,  34,  35,  36,  37,  38,  39,  40,  41],\n",
       "       [ 42,  43,  44,  45,  46,  47,  48,  49,  50,  51],\n",
       "       [ 52,  53,  54,  55,  56,  57,  58,  59,  60,  61],\n",
       "       [ 62,  63,  64,  65,  66,  67,  68,  69,  70,  71],\n",
       "       [ 72,  73,  74,  75,  76,  77,  78,  79,  80,  81],\n",
       "       [ 82,  83,  84,  85,  86,  87,  88,  89,  90,  91],\n",
       "       [ 92,  93,  94,  95,  96,  97,  98,  99, 100, 101]])"
      ]
     },
     "execution_count": 139,
     "metadata": {},
     "output_type": "execute_result"
    }
   ],
   "source": [
    "np.arange(100).reshape((10,10)) + 1 * 2"
   ]
  },
  {
   "cell_type": "markdown",
   "metadata": {},
   "source": [
    "# random:"
   ]
  },
  {
   "cell_type": "code",
   "execution_count": 143,
   "metadata": {},
   "outputs": [
    {
     "data": {
      "text/plain": [
       "array([[0.90790941, 0.3547955 , 0.35779747, 0.56577895, 0.11548699,\n",
       "        0.52851077, 0.08134838, 0.1403904 , 0.40862831, 0.61997907],\n",
       "       [0.85627293, 0.94854191, 0.40580139, 0.45252795, 0.7967954 ,\n",
       "        0.78283518, 0.28246838, 0.75743982, 0.42983366, 0.56913762],\n",
       "       [0.94354077, 0.13237311, 0.51933085, 0.74621614, 0.7073289 ,\n",
       "        0.62266593, 0.01943501, 0.14084266, 0.2507385 , 0.53669096],\n",
       "       [0.82473069, 0.49359574, 0.79056537, 0.88377041, 0.96338291,\n",
       "        0.14786457, 0.39722967, 0.29945966, 0.67479573, 0.46224037],\n",
       "       [0.33840332, 0.96166291, 0.10378358, 0.91906371, 0.79127726,\n",
       "        0.53770508, 0.53820938, 0.81307568, 0.38683299, 0.23679769],\n",
       "       [0.23894717, 0.67086348, 0.33444226, 0.80081468, 0.55651859,\n",
       "        0.87931326, 0.187153  , 0.16331487, 0.0502451 , 0.27252189],\n",
       "       [0.92439754, 0.42335809, 0.71206644, 0.01313731, 0.14309985,\n",
       "        0.54618627, 0.87556108, 0.50374366, 0.57376713, 0.95487748],\n",
       "       [0.40471324, 0.93502159, 0.18377356, 0.13693098, 0.71994483,\n",
       "        0.22495811, 0.91043465, 0.54804383, 0.95742624, 0.05248634],\n",
       "       [0.0528308 , 0.72852682, 0.15073114, 0.77274607, 0.5572112 ,\n",
       "        0.71292418, 0.71614258, 0.32205302, 0.52254525, 0.54812742],\n",
       "       [0.51301524, 0.65315307, 0.33629545, 0.31216338, 0.87462703,\n",
       "        0.8968676 , 0.23795708, 0.58613884, 0.5636112 , 0.81609137]])"
      ]
     },
     "execution_count": 143,
     "metadata": {},
     "output_type": "execute_result"
    }
   ],
   "source": [
    "np.random.random((100)).reshape((10,10))"
   ]
  },
  {
   "cell_type": "code",
   "execution_count": 149,
   "metadata": {},
   "outputs": [
    {
     "data": {
      "text/plain": [
       "6"
      ]
     },
     "execution_count": 149,
     "metadata": {},
     "output_type": "execute_result"
    }
   ],
   "source": [
    "np.random.randint(1,10)"
   ]
  },
  {
   "cell_type": "code",
   "execution_count": 160,
   "metadata": {},
   "outputs": [
    {
     "name": "stdout",
     "output_type": "stream",
     "text": [
      "[[0.79621404 0.91572381 0.58836559]\n",
      " [0.44175579 0.34388512 0.10825358]\n",
      " [0.29149504 0.19157269 0.35990164]]\n",
      "0.9157238109304148 0.10825358196849089\n",
      "1\n"
     ]
    },
    {
     "data": {
      "text/plain": [
       "array([0.79621404, 0.91572381, 0.58836559])"
      ]
     },
     "execution_count": 160,
     "metadata": {},
     "output_type": "execute_result"
    }
   ],
   "source": [
    "x = np.random.rand(3,3)\n",
    "print(x)\n",
    "print(x.max(), x.min())\n",
    "print(x.argmax())\n",
    "np.amax(x, axis=0)"
   ]
  },
  {
   "cell_type": "markdown",
   "metadata": {},
   "source": [
    "## Normalize matrix"
   ]
  },
  {
   "cell_type": "code",
   "execution_count": 163,
   "metadata": {},
   "outputs": [
    {
     "name": "stdout",
     "output_type": "stream",
     "text": [
      "[[6.26250954 4.90268854 8.00851324]\n",
      " [3.33823824 2.0926581  3.17035268]\n",
      " [5.28952053 7.10442682 2.72884895]]\n"
     ]
    },
    {
     "data": {
      "text/plain": [
       "array([[0.7048603 , 0.47499987, 1.        ],\n",
       "       [0.21054947, 0.        , 0.18217055],\n",
       "       [0.5403889 , 0.8471757 , 0.10753996]])"
      ]
     },
     "execution_count": 163,
     "metadata": {},
     "output_type": "execute_result"
    }
   ],
   "source": [
    "board = np.random.rand(3,3) * 10\n",
    "print(board)\n",
    "np.interp(board, (board.min(), board.max()), (0,1))"
   ]
  },
  {
   "cell_type": "code",
   "execution_count": 166,
   "metadata": {},
   "outputs": [
    {
     "data": {
      "text/plain": [
       "array([[0.7048603 , 0.47499987, 1.        ],\n",
       "       [0.21054947, 0.        , 0.18217055],\n",
       "       [0.5403889 , 0.8471757 , 0.10753996]])"
      ]
     },
     "execution_count": 166,
     "metadata": {},
     "output_type": "execute_result"
    }
   ],
   "source": [
    "(board - board.min()) / (board.max() - board.min())"
   ]
  },
  {
   "cell_type": "markdown",
   "metadata": {},
   "source": [
    "## Mini project"
   ]
  },
  {
   "cell_type": "code",
   "execution_count": 17,
   "metadata": {},
   "outputs": [],
   "source": [
    "import numpy as np"
   ]
  },
  {
   "cell_type": "code",
   "execution_count": 188,
   "metadata": {},
   "outputs": [
    {
     "name": "stdout",
     "output_type": "stream",
     "text": [
      "[[1 0 1 1 0 0 0 1]\n",
      " [1 1 1 1 1 1 1 1]\n",
      " [1 1 1 1 1 1 1 1]\n",
      " [1 1 1 1 1 1 1 1]\n",
      " [1 1 1 0 1 1 1 1]\n",
      " [0 0 0 1 1 1 0 1]\n",
      " [1 1 1 0 1 1 1 1]\n",
      " [1 1 1 1 0 0 0 1]]\n"
     ]
    },
    {
     "data": {
      "text/plain": [
       "array([[1, 0, 1, 1, 0, 0, 0, 1],\n",
       "       [1, 1, 1, 2, 1, 1, 1, 1],\n",
       "       [1, 2, 2, 2, 2, 2, 2, 2],\n",
       "       [1, 2, 3, 3, 3, 3, 3, 3],\n",
       "       [1, 2, 3, 0, 1, 2, 3, 4],\n",
       "       [0, 0, 0, 1, 1, 2, 0, 1],\n",
       "       [1, 1, 1, 0, 1, 2, 1, 1],\n",
       "       [1, 2, 2, 1, 0, 0, 0, 1]])"
      ]
     },
     "execution_count": 188,
     "metadata": {},
     "output_type": "execute_result"
    }
   ],
   "source": [
    "import numpy as np\n",
    "def gen_tableau(row, col):\n",
    "    '''\n",
    "    row: ligne de tableau\n",
    "    col: colonne de tableau\n",
    "    '''\n",
    "    board = np.arange(row*col) # généralise le tableau de 1 dimension\n",
    "    np.random.shuffle(board) # une façon de répartir les éléments exists dans la matrice\n",
    "    board[board <= (0.2*len(board))] = 0 # on va consider tous les indices vaut moin ou inférieur de 20%*len(matrice) affecte 0\n",
    "    board[board > (0.2*len(board))] = 1 # et les autres indice vaut zero\n",
    "    board = board.reshape((row,col)) # redimension de matrice 1D à 2D\n",
    "    print(board)\n",
    "    #-----------------\n",
    "    # find matrice carre max\n",
    "    # remplace 1er col et 1er ligne = 1\n",
    "    \n",
    "    board[:, 0][board[:, 0] != 0] = 1\n",
    "    \n",
    "    board[0,:][board[0,:] != 0] = 1\n",
    "    \n",
    "    for shift_down in range(0,7):\n",
    "        \n",
    "        for shift_right in range(0,7):\n",
    "            \n",
    "            matrice_2 = board[shift_down:shift_down+2,shift_right:shift_right+2].ravel()[:-1]\n",
    "            \n",
    "            min_ = min(matrice_2)\n",
    "            \n",
    "            if board[shift_down:shift_down+2,shift_right:shift_right+2][1,1] == 0: continue\n",
    "                \n",
    "            elif max(matrice_2) == 0: continue\n",
    "                \n",
    "            else:\n",
    "                \n",
    "                board[shift_down:shift_down+2,shift_right:shift_right+2][1,1] = min_ + 1\n",
    "        \n",
    "    return board\n",
    "\n",
    "boardRef = gen_tableau(8,8)\n",
    "\n",
    "boardRef"
   ]
  },
  {
   "cell_type": "code",
   "execution_count": 189,
   "metadata": {
    "scrolled": true
   },
   "outputs": [
    {
     "data": {
      "text/plain": [
       "39"
      ]
     },
     "execution_count": 189,
     "metadata": {},
     "output_type": "execute_result"
    }
   ],
   "source": [
    "boardRef.argmax()"
   ]
  },
  {
   "cell_type": "code",
   "execution_count": 190,
   "metadata": {},
   "outputs": [
    {
     "name": "stdout",
     "output_type": "stream",
     "text": [
      "(8, 8)\n"
     ]
    },
    {
     "data": {
      "text/plain": [
       "(4, 7)"
      ]
     },
     "execution_count": 190,
     "metadata": {},
     "output_type": "execute_result"
    }
   ],
   "source": [
    "print(boardRef.shape) # attribut 'shape' de l'objet np.ndarray\n",
    "np.unravel_index(boardRef.argmax(), boardRef.shape) # renvoie l'index de posision de objet "
   ]
  },
  {
   "cell_type": "code",
   "execution_count": 192,
   "metadata": {},
   "outputs": [],
   "source": [
    "board = boardRef.copy()"
   ]
  },
  {
   "cell_type": "code",
   "execution_count": 193,
   "metadata": {},
   "outputs": [
    {
     "name": "stdout",
     "output_type": "stream",
     "text": [
      "coord_max: (4, 7) \n",
      "value_max: 4\n"
     ]
    }
   ],
   "source": [
    "coord_max = np.unravel_index(boardRef.argmax(), boardRef.shape)\n",
    "value_max = board.max()\n",
    "print(f'coord_max: {coord_max} \\nvalue_max: {value_max}')"
   ]
  },
  {
   "cell_type": "code",
   "execution_count": 196,
   "metadata": {},
   "outputs": [
    {
     "data": {
      "text/plain": [
       "array([[ 1,  0,  1,  1,  0,  0,  0,  1],\n",
       "       [ 1,  1,  1,  2, -1, -1, -1, -1],\n",
       "       [ 1,  2,  2,  2, -1, -1, -1, -1],\n",
       "       [ 1,  2,  3,  3, -1, -1, -1, -1],\n",
       "       [ 1,  2,  3,  0, -1, -1, -1, -1],\n",
       "       [ 0,  0,  0,  1,  1,  2,  0,  1],\n",
       "       [ 1,  1,  1,  0,  1,  2,  1,  1],\n",
       "       [ 1,  2,  2,  1,  0,  0,  0,  1]])"
      ]
     },
     "execution_count": 196,
     "metadata": {},
     "output_type": "execute_result"
    }
   ],
   "source": [
    "board[coord_max[0] - value_max + 1 : coord_max[0] + 1, coord_max[1]-value_max + 1 : coord_max[1] + 1] = -1\n",
    "board"
   ]
  },
  {
   "cell_type": "code",
   "execution_count": 222,
   "metadata": {},
   "outputs": [
    {
     "data": {
      "text/plain": [
       "'.'"
      ]
     },
     "execution_count": 222,
     "metadata": {},
     "output_type": "execute_result"
    }
   ],
   "source": [
    "def formatter(value):\n",
    "    if value == 0:\n",
    "        return 'o'\n",
    "    elif value == -1:\n",
    "        return 'x'\n",
    "    else:\n",
    "        return '.'\n",
    "    \n",
    "f = {'int':formatter} # affecter la fonction dans la dictionaire => callable\n",
    "f['int'](43)"
   ]
  },
  {
   "cell_type": "code",
   "execution_count": 221,
   "metadata": {},
   "outputs": [
    {
     "name": "stdout",
     "output_type": "stream",
     "text": [
      "[[. o . . o o o .]\n",
      " [. . . . x x x x]\n",
      " [. . . . x x x x]\n",
      " [. . . . x x x x]\n",
      " [. . . o x x x x]\n",
      " [o o o . . . o .]\n",
      " [. . . o . . . .]\n",
      " [. . . . o o o .]]\n"
     ]
    }
   ],
   "source": [
    "print(np.array2string(board, formatter={'int': formatter}))"
   ]
  },
  {
   "cell_type": "code",
   "execution_count": 162,
   "metadata": {},
   "outputs": [
    {
     "name": "stdout",
     "output_type": "stream",
     "text": [
      "[[0 0 0 0 0 0 0 0]\n",
      " [0 0 0 0 0 0 0 0]\n",
      " [0 0 0 0 1 0 0 0]\n",
      " [0 1 1 1 0 1 0 1]\n",
      " [1 1 0 0 0 0 0 0]\n",
      " [0 0 0 0 0 0 0 0]\n",
      " [0 0 0 1 0 0 0 0]\n",
      " [1 0 0 0 1 1 0 1]]\n",
      "\n",
      "[[1 1 1 1 1 1 1 1]\n",
      " [1 2 1 1 1 1 1 1]\n",
      " [1 1 2 1 0 1 1 1]\n",
      " [1 0 0 1 1 0 1 0]\n",
      " [0 0 1 1 1 1 1 1]\n",
      " [1 1 1 1 1 2 1 1]\n",
      " [1 1 1 0 1 1 2 1]\n",
      " [0 1 1 1 0 0 1 2]]\n"
     ]
    }
   ],
   "source": [
    "def init_board(length):\n",
    "    basic_board = np.arange(length*length)\n",
    "    np.random.shuffle(basic_board)\n",
    "    basic_board[basic_board <= (0.2*len(basic_board))] = 1\n",
    "    basic_board[basic_board > (0.2*len(basic_board))] = 0\n",
    "    board = basic_board.reshape((length,length))\n",
    "    board[board == 1] = - 1\n",
    "    board = board + 1\n",
    "    for pos_y in range(length):\n",
    "            for pos_x in range(length):\n",
    "                if pos_y != 0 and pos_x != 0 and board[pos_y, pos_x] != 0:\n",
    "                    val_min = min(board[pos_y - 1][pos_x],\n",
    "                                 board[pos_y][pos_x - 1],\n",
    "                                 board[pos_y - 1][pos_x - 1])\n",
    "                    board[pos_y][pos_x] = val_min + 1\n",
    "                    \n",
    "    return board\n",
    "\n",
    "board = init_board(8)\n",
    "print(board)"
   ]
  },
  {
   "cell_type": "markdown",
   "metadata": {},
   "source": [
    "## Solution de prof:"
   ]
  },
  {
   "cell_type": "code",
   "execution_count": 60,
   "metadata": {},
   "outputs": [
    {
     "data": {
      "text/plain": [
       "array([[1, 0, 0, 1, 0, 0, 0, 0, 0, 0],\n",
       "       [1, 0, 0, 0, 0, 0, 0, 0, 1, 0],\n",
       "       [0, 0, 0, 0, 1, 0, 0, 0, 0, 0],\n",
       "       [1, 0, 0, 0, 0, 0, 0, 0, 0, 0],\n",
       "       [0, 0, 0, 0, 1, 0, 0, 0, 1, 0],\n",
       "       [0, 0, 0, 0, 0, 0, 0, 0, 0, 1],\n",
       "       [0, 0, 0, 0, 0, 0, 0, 1, 0, 0],\n",
       "       [0, 0, 0, 1, 0, 0, 0, 0, 0, 0],\n",
       "       [1, 1, 0, 0, 0, 0, 0, 0, 0, 1],\n",
       "       [0, 0, 0, 1, 0, 0, 0, 1, 1, 0]])"
      ]
     },
     "execution_count": 60,
     "metadata": {},
     "output_type": "execute_result"
    }
   ],
   "source": [
    "board = np.array(np.random.rand(10,10) < 0.2, dtype=int)\n",
    "board"
   ]
  },
  {
   "cell_type": "code",
   "execution_count": null,
   "metadata": {},
   "outputs": [],
   "source": [
    "board[::1,]"
   ]
  },
  {
   "cell_type": "code",
   "execution_count": null,
   "metadata": {},
   "outputs": [],
   "source": []
  }
 ],
 "metadata": {
  "kernelspec": {
   "display_name": "Python 3",
   "language": "python",
   "name": "python3"
  },
  "language_info": {
   "codemirror_mode": {
    "name": "ipython",
    "version": 3
   },
   "file_extension": ".py",
   "mimetype": "text/x-python",
   "name": "python",
   "nbconvert_exporter": "python",
   "pygments_lexer": "ipython3",
   "version": "3.6.4"
  }
 },
 "nbformat": 4,
 "nbformat_minor": 2
}
