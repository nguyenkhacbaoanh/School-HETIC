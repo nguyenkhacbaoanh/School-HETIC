{
 "cells": [
  {
   "cell_type": "markdown",
   "metadata": {},
   "source": [
    "### 1. le chemin de project:\n",
    "\n",
    "```tree\n",
    "/projet/\n",
    "|--------App.py\n",
    "|--------form/\n",
    "|-------------|__init__.py\n",
    "```\n",
    "\n",
    "### 2. Déclarer les fonctions dans  \n",
    "\n",
    "`form/__init__.p`\n",
    "\n",
    "### 3. Exécuter le programme dans le terminal:\n",
    "\n",
    "\n",
    "`python App.py`\n",
    "\n",
    "\n",
    "### 4. Le résult final:\n",
    "\n",
    "```html\n",
    "<form>\n",
    "  <select name=\"couleurs\">\n",
    "    <option value=\"#ff9900\" />orange</option>\n",
    "    <option value=\"#00ff00\" />vert</option>\n",
    "    <option value=\"#ff0000\" selected />rouge</option>\n",
    "    <option value=\"#ff00ff\" />violet</option>\n",
    "    <option value=\"#0000ff\" />bleu</option>\n",
    "    <option value=\"#000000\" />noir</option>\n",
    "    <option value=\"#ffffff\" />blanc</option>\n",
    "    <option value=\"#ffff00\" />jaune</option>\n",
    "  </select>\n",
    "  <input type=\"submit\" value=\"Envoyer\">\n",
    "</form> \n",
    "```"
   ]
  },
  {
   "cell_type": "code",
   "execution_count": null,
   "metadata": {},
   "outputs": [],
   "source": []
  }
 ],
 "metadata": {
  "kernelspec": {
   "display_name": "Python 3",
   "language": "python",
   "name": "python3"
  },
  "language_info": {
   "codemirror_mode": {
    "name": "ipython",
    "version": 3
   },
   "file_extension": ".py",
   "mimetype": "text/x-python",
   "name": "python",
   "nbconvert_exporter": "python",
   "pygments_lexer": "ipython3",
   "version": "3.6.4"
  }
 },
 "nbformat": 4,
 "nbformat_minor": 2
}
