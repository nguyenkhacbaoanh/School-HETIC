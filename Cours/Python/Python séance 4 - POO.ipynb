{
 "cells": [
  {
   "cell_type": "markdown",
   "metadata": {},
   "source": [
    "## visibilité:\n",
    "- public: import de n'import où\n",
    "- protected: deux underscore avant de variable, peut pas modifier par l'autre\n",
    "- private: ne modifie que dans la classe elle même, et la classe spécifié\n",
    "\n",
    "\n",
    "< interface, l'emsemble disponible qui va utiliser, ex: public\n",
    "< implementation: tout les fonction qui permet de fonction l'objet, ex: protected, privated"
   ]
  },
  {
   "cell_type": "code",
   "execution_count": 22,
   "metadata": {},
   "outputs": [
    {
     "name": "stdout",
     "output_type": "stream",
     "text": [
      "1\n",
      "3\n",
      "1\n",
      "3\n",
      "3\n"
     ]
    }
   ],
   "source": [
    "class Parent:\n",
    "    def __init__(self):\n",
    "        self.pub = 1\n",
    "        self._pro = 2\n",
    "        self.__pri = 3\n",
    "    def getProParent(self):\n",
    "        print(self._pro)\n",
    "    def getPriParent(self):\n",
    "        print(self.__pri)\n",
    "\n",
    "class Enfant(Parent):\n",
    "    def getProEnfant(self):\n",
    "        print(self._pro)\n",
    "    def getPriEnfant(self):\n",
    "        #print(self.__pri)\n",
    "        return self.getPriParent()\n",
    "    def setPriEnfant(self, value):\n",
    "        return\n",
    "\n",
    "\n",
    "p = Parent()\n",
    "e = Enfant()\n",
    "print(p.pub)\n",
    "p.getPriParent()\n",
    "#p.__pri forbitten\n",
    "print(e.pub)\n",
    "#e.__pri\n",
    "e.getPriParent()\n",
    "e.getPriEnfant()\n",
    "#e.setPriParent(5)\n",
    "#e.setPriEnfant(5)"
   ]
  },
  {
   "cell_type": "markdown",
   "metadata": {},
   "source": [
    "## Variables et méthodes de classe:\n",
    "```python\n",
    "class Vehicle:\n",
    "    class_name = \"Véhicule indéterminé\"\n",
    "    \n",
    "    @staticmethod\n",
    "    def getClassName():\n",
    "        return Vehicle.class_name + \"0.1\\n\"\n",
    "print(Vehicle.getClassName())\n",
    "clio = Vehicle()\n",
    "clio.class_name = \"Véhicule\"\n",
    "twingo = Vehicle()\n",
    "print(twingo.getClassName())\n",
    "```\n",
    "> __staticmethod__ nous permet de partager la même information pour tout l'instance"
   ]
  },
  {
   "cell_type": "code",
   "execution_count": 33,
   "metadata": {},
   "outputs": [
    {
     "name": "stdout",
     "output_type": "stream",
     "text": [
      "Véhicule indéterminé 0.1\n",
      "\n",
      "Véhicule indéterminé 0.1\n",
      "\n",
      "Véhicule\n",
      "Véhicule indéterminé 0.1\n",
      "\n",
      "Véhicule indéterminé 0.1\n",
      "\n"
     ]
    }
   ],
   "source": [
    "class Vehicle:\n",
    "    class_name = \"Véhicule indéterminé\"\n",
    "    \n",
    "    @staticmethod\n",
    "    def getClassName():\n",
    "        return Vehicle.class_name + \" 0.1\\n\"\n",
    "print(Vehicle.getClassName())\n",
    "clio = Vehicle()\n",
    "print(clio.getClassName())\n",
    "twingo = Vehicle()\n",
    "clio.class_name = \"Véhicule\" # on change l'attribute de l'instance clio, pas changer l'attribute de class Vehicle\n",
    "print(clio.class_name)\n",
    "print(clio.getClassName())\n",
    "print(twingo.getClassName())"
   ]
  },
  {
   "cell_type": "markdown",
   "metadata": {},
   "source": [
    "## Cadriciels orientés objet"
   ]
  },
  {
   "cell_type": "code",
   "execution_count": 79,
   "metadata": {},
   "outputs": [
    {
     "name": "stdout",
     "output_type": "stream",
     "text": [
      "banane\n",
      "4\n",
      "7\n",
      "\n",
      "poireaux\n",
      "10\n",
      "13\n",
      "\n",
      "{'banane': 7}\n",
      "{'banane': 7}\n",
      "{'poireaux': 13, 'pdt': 5}\n",
      "{'fruits': {'banane': 7}, 'vegetables': {'poireaux': 13, 'pdt': 5}}\n",
      "5\n",
      "25\n",
      "rest of poireaux : 12\n",
      "{'pdt': 5, 'banane': 7, 'poireaux': 12}\n"
     ]
    }
   ],
   "source": [
    "class Basket:\n",
    "    \n",
    "    def __init__(self):\n",
    "        self.fruits = {}\n",
    "        self.vegetables = {}\n",
    "        \n",
    "    def chargeA(self, produit):\n",
    "        if isinstance(produit, Fruits):\n",
    "            self.fruits.update({str(produit.fruit) : int(produit.quantity)})\n",
    "            #return self.fruits\n",
    "        elif isinstance(produit, Vegetables):\n",
    "            self.vegetables.update({str(produit.vegetable) : int(produit.quantity)})\n",
    "            #return self.vegetables\n",
    "            \n",
    "    def getNumberofItems(self, produit):\n",
    "        if produit in self.fruits:\n",
    "            return self.fruits[produit]\n",
    "        elif produit in self.vegetables:\n",
    "            return self.vegetables[produit]\n",
    "        else:\n",
    "            return 0\n",
    "        \n",
    "    def getTotalofItems(self):\n",
    "        return sum(list(self.fruits.values()) + list(self.vegetables.values()))\n",
    "    \n",
    "    def sortByQuantity(self):\n",
    "        result = self.display_basket()['fruits'].copy()\n",
    "        result.update(self.display_basket()['vegetables'])\n",
    "        return dict(sorted(result.items(), key=lambda x: x[1]))\n",
    "    \n",
    "    def takeA(self, produit):\n",
    "        for k,v in self.display_basket().items():\n",
    "            if (produit in v) and (v[produit] >0):\n",
    "                v[produit] -= 1\n",
    "                return (f\"rest of {produit} : {v[produit]}\")\n",
    "        return f\"no one of {produit} in panier\"\n",
    "    \n",
    "    def display_basket(self):\n",
    "        return dict({'fruits': self.fruits,\n",
    "                        'vegetables': self.vegetables})\n",
    "class Fruits:\n",
    "    def __init__(self, fruit, quantity):\n",
    "        self.fruit = fruit\n",
    "        self.quantity = quantity\n",
    "        \n",
    "    def takeFruit(self, number):\n",
    "        self.quantity += number\n",
    "        #return self.quantity\n",
    "\n",
    "class Vegetables:\n",
    "    def __init__(self, vegetable, quantity):\n",
    "        self.vegetable = vegetable\n",
    "        self.quantity = quantity\n",
    "        \n",
    "    def takeVegetable(self, number):\n",
    "        self.quantity += number\n",
    "        #return self.quantity\n",
    "    \n",
    "a = Fruits(\"banane\", 4)\n",
    "print(a.fruit)\n",
    "print(a.quantity)\n",
    "a.takeFruit(3)\n",
    "print(a.quantity)\n",
    "print()\n",
    "\n",
    "b = Vegetables(\"poireaux\", 10)\n",
    "print(b.vegetable)\n",
    "print(b.quantity)\n",
    "b.takeVegetable(3)\n",
    "print(b.quantity)\n",
    "print()\n",
    "\n",
    "c = Vegetables(\"pdt\", 5)\n",
    "p = Basket()\n",
    "p.chargeA(a)\n",
    "p.chargeA(b)\n",
    "p.chargeA(c)\n",
    "print(p.fruits)\n",
    "#p.fruits = 'pomme'\n",
    "print(p.fruits)\n",
    "print(p.vegetables)\n",
    "print(p.display_basket())\n",
    "print(p.getNumberofItems('pdt'))\n",
    "print(p.getTotalofItems())\n",
    "print(p.takeA('poireaux'))\n",
    "p.display_basket()\n",
    "print(p.sortByQuantity())"
   ]
  },
  {
   "cell_type": "code",
   "execution_count": null,
   "metadata": {},
   "outputs": [],
   "source": []
  },
  {
   "cell_type": "code",
   "execution_count": null,
   "metadata": {},
   "outputs": [],
   "source": []
  }
 ],
 "metadata": {
  "kernelspec": {
   "display_name": "Python 3",
   "language": "python",
   "name": "python3"
  },
  "language_info": {
   "codemirror_mode": {
    "name": "ipython",
    "version": 3
   },
   "file_extension": ".py",
   "mimetype": "text/x-python",
   "name": "python",
   "nbconvert_exporter": "python",
   "pygments_lexer": "ipython3",
   "version": "3.6.4"
  }
 },
 "nbformat": 4,
 "nbformat_minor": 2
}
