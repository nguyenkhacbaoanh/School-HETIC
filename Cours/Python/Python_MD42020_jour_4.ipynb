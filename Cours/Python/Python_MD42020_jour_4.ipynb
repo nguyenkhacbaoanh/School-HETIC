{
 "cells": [
  {
   "cell_type": "code",
   "execution_count": 0,
   "metadata": {
    "colab": {
     "base_uri": "https://localhost:8080/",
     "height": 187
    },
    "colab_type": "code",
    "id": "16QpYcPkwKGx",
    "outputId": "92c5c7f4-ac92-4bb9-88a1-de81dffd85df"
   },
   "outputs": [
    {
     "name": "stdout",
     "output_type": "stream",
     "text": [
      "[0]: 1\n",
      "[1]: 6\n",
      "[2]: 3\n",
      "[3]: 12\n",
      "[4]: 4\n",
      "[0]: 1\n",
      "[1]: 3\n",
      "[2]: 4\n",
      "[3]: 6\n",
      "[4]: 12\n"
     ]
    }
   ],
   "source": [
    "# insérez votre code de quicksort\n",
    "# objectiver les fonctions (atelier n°3)\n",
    "\n",
    "def quicksort(l):\n",
    "  return sorted(l)\n",
    "\n",
    "def display(l):\n",
    "  for index, elem in enumerate(l):\n",
    "    print(\"[{}]: {}\".format(index, elem))\n",
    "    \n",
    "a_list = [1, 6, 3, 12, 4]\n",
    "\n",
    "display(a_list)\n",
    "a_list = quicksort(a_list)\n",
    "display(a_list)"
   ]
  },
  {
   "cell_type": "code",
   "execution_count": 2,
   "metadata": {
    "colab": {},
    "colab_type": "code",
    "id": "WkAwuN1t0Hwv"
   },
   "outputs": [],
   "source": [
    "class AnyList:\n",
    "    def __init__(self, list_): # l'affectement abstraction\n",
    "        self.list_ = list_\n",
    "    def __repr__(self):\n",
    "        return str(self.list_)\n",
    "    def quicksort(self):\n",
    "        self.list_ = sorted(self.list_)\n",
    "        return self.list_ #return objet\n",
    "    def display(self): # signature de la fonction, qui renvoie pas la valeur\n",
    "        for index, elem in enumerate(self.list_):\n",
    "            print(f\"[{index}]: {elem}\")"
   ]
  },
  {
   "cell_type": "code",
   "execution_count": 3,
   "metadata": {
    "colab": {
     "base_uri": "https://localhost:8080/",
     "height": 119
    },
    "colab_type": "code",
    "id": "VO8Ld1mQ0HzE",
    "outputId": "43f78208-94d9-4ffd-95c9-cea542a813c6"
   },
   "outputs": [
    {
     "name": "stdout",
     "output_type": "stream",
     "text": [
      "[0]: 1\n",
      "[1]: 3\n",
      "[2]: 4\n",
      "[3]: 6\n",
      "[4]: 12\n"
     ]
    },
    {
     "data": {
      "text/plain": [
       "[1, 3, 4, 6, 12]"
      ]
     },
     "execution_count": 3,
     "metadata": {},
     "output_type": "execute_result"
    }
   ],
   "source": [
    "a_list = AnyList([1, 6, 3, 12, 4]) # l'instanciation, l'instancier\n",
    "a_list.quicksort()\n",
    "a_list.display()\n",
    "#dir(a_list)\n",
    "#a_list.quicksort().display()\n",
    "#a_list.display()\n",
    "a_list"
   ]
  },
  {
   "cell_type": "code",
   "execution_count": 8,
   "metadata": {
    "colab": {},
    "colab_type": "code",
    "id": "bnAWjUcb1ST1"
   },
   "outputs": [],
   "source": [
    "class OrderedList(AnyList):\n",
    "    def __init__(self, values): # l'affectement abstraction\n",
    "        self.list_ = values\n",
    "        self.quicksort()"
   ]
  },
  {
   "cell_type": "code",
   "execution_count": 9,
   "metadata": {},
   "outputs": [
    {
     "name": "stdout",
     "output_type": "stream",
     "text": [
      "[0]: 1\n",
      "[1]: 3\n",
      "[2]: 4\n",
      "[3]: 6\n",
      "[4]: 12\n"
     ]
    }
   ],
   "source": [
    "ol = OrderedList([1, 6, 3, 12, 4])\n",
    "ol.display()"
   ]
  },
  {
   "cell_type": "code",
   "execution_count": 14,
   "metadata": {},
   "outputs": [],
   "source": [
    "class ReversedOrderedList(AnyList):\n",
    "    def __init__(self, values): # l'affectement abstraction\n",
    "        self.list_ = values\n",
    "        self.list_ = reversed(self.quicksort())"
   ]
  },
  {
   "cell_type": "markdown",
   "metadata": {},
   "source": [
    "> dans la classe fils, lors qu'on déclare le fonction construnteur ou la même fonction dans la classe mère: on appelle le fait de ..."
   ]
  },
  {
   "cell_type": "code",
   "execution_count": 15,
   "metadata": {},
   "outputs": [
    {
     "name": "stdout",
     "output_type": "stream",
     "text": [
      "[0]: 12\n",
      "[1]: 6\n",
      "[2]: 4\n",
      "[3]: 3\n",
      "[4]: 1\n"
     ]
    }
   ],
   "source": [
    "ol = ReversedOrderedList([1, 6, 3, 12, 4])\n",
    "ol.display()"
   ]
  },
  {
   "cell_type": "markdown",
   "metadata": {},
   "source": [
    "### Super\n",
    "> nous permet de surcharger tout la methode de la classe parent"
   ]
  },
  {
   "cell_type": "markdown",
   "metadata": {},
   "source": []
  },
  {
   "cell_type": "code",
   "execution_count": 19,
   "metadata": {},
   "outputs": [
    {
     "data": {
      "text/plain": [
       "'50 km/h'"
      ]
     },
     "execution_count": 19,
     "metadata": {},
     "output_type": "execute_result"
    }
   ],
   "source": [
    "class Vehicle:\n",
    "    def __init__(self, speed):\n",
    "        self.speed = speed\n",
    "    def getSpeed(self):\n",
    "        return self.speed\n",
    "class Car(Vehicle):\n",
    "    unit = \"km/h\"\n",
    "    def getSpeed(self):\n",
    "        return \"{} {}\".format(super(Car, self).getSpeed(), self.unit)\n",
    "\n",
    "clio = Car(50)\n",
    "clio.getSpeed()"
   ]
  },
  {
   "cell_type": "markdown",
   "metadata": {},
   "source": [
    "_Overloading_ avec paramètre(s) optionnel(s).\n",
    "Les paramètres étant optionnels, on peut considérer que la méthode à plusieurs signatures.\n",
    "Ce quin'est pas exact, car il s'agit toujours de la **même** méthode.\n",
    "Dans le corps de la fonction, les paramètres optionnels doivent être gérés dans tous les cas.\n",
    "\n",
    "```python\n",
    "class Vehicle:\n",
    "    def __init__(self, speed, engine=None):\n",
    "        self.speed = speed\n",
    "    def getSpeed(self):\n",
    "        return self.speed\n",
    "        \n",
    "class Car(Vehicle):\n",
    "    def __init__(self, speed, engine=None):\n",
    "        self.speed = speed\n",
    "        self.engine = engine if engine is not None else Engine()\n",
    "        \n",
    "clio = Car(50) #engine=None\n",
    "twingo = Car(50, Engine())\n",
    "```"
   ]
  },
  {
   "cell_type": "markdown",
   "metadata": {},
   "source": [
    "### Surcharge et héritage multiple\n",
    "\n",
    "> Car va chercher la constructeur\n",
    "\n",
    "```python\n",
    "class Wheels:\n",
    "    def __init__(self, nb):\n",
    "        self\n",
    "```"
   ]
  },
  {
   "cell_type": "code",
   "execution_count": 8,
   "metadata": {},
   "outputs": [
    {
     "name": "stdout",
     "output_type": "stream",
     "text": [
      "50\n",
      "4\n",
      "5\n"
     ]
    }
   ],
   "source": [
    "class Vehicle:\n",
    "    def __init__(self, speed):\n",
    "        self.speed = speed\n",
    "    def getSpeed(self):\n",
    "        return self.speed\n",
    "    \n",
    "class Wheels:\n",
    "    def __init__(self, nb):\n",
    "        self.nbWheels = nb\n",
    "    def getNumberofWheels(self):\n",
    "        return self.nbWheels\n",
    "    \n",
    "class Transporter:\n",
    "    def __init__(self, nb):\n",
    "        self.nbPassengers = nb\n",
    "    def getNumberofPassengers(self):\n",
    "        return self.nbPassengers\n",
    "    \n",
    "class Car(Vehicle, Wheels, Transporter):\n",
    "    def __init__(self, speed, nbWheels, nbPassengers):\n",
    "        self.speed = speed\n",
    "        self.nbWheels = nbWheels\n",
    "        self.nbPassengers = nbPassengers\n",
    "\n",
    "clio = Car(50, 4 , 5)\n",
    "\n",
    "print(clio.getSpeed())\n",
    "print(clio.getNumberofWheels())\n",
    "print(clio.getNumberofPassengers())"
   ]
  },
  {
   "cell_type": "code",
   "execution_count": null,
   "metadata": {},
   "outputs": [],
   "source": []
  }
 ],
 "metadata": {
  "colab": {
   "collapsed_sections": [],
   "name": "Copie de Python MD42020 jour 4.ipynb",
   "provenance": [],
   "version": "0.3.2"
  },
  "kernelspec": {
   "display_name": "Python 3",
   "language": "python",
   "name": "python3"
  },
  "language_info": {
   "codemirror_mode": {
    "name": "ipython",
    "version": 3
   },
   "file_extension": ".py",
   "mimetype": "text/x-python",
   "name": "python",
   "nbconvert_exporter": "python",
   "pygments_lexer": "ipython3",
   "version": "3.6.4"
  }
 },
 "nbformat": 4,
 "nbformat_minor": 1
}
