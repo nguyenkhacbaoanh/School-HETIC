{
 "cells": [
  {
   "cell_type": "markdown",
   "metadata": {},
   "source": [
    "# Rechaufflé:"
   ]
  },
  {
   "cell_type": "markdown",
   "metadata": {},
   "source": [
    "```\n",
    "Creer un tableau de longueur aléatoire entre 10 et 30 éléments. \n",
    "Dans le tableau, mettre des valeurs aléatoires entre 0 et 50. \n",
    "Ecrire une fonction qui renvoie l'index d'un nombre qu'on cherce. \n",
    "Signature de la fonction:\n",
    "    int search(array, value):\n",
    "        parameters:\n",
    "            array: tableau d'entiers\n",
    "            value: valeur à rechercher\n",
    "        return:\n",
    "            index de la valeur si elle est dans le tableau, -1 si no`\n",
    "```"
   ]
  },
  {
   "cell_type": "code",
   "execution_count": 1,
   "metadata": {},
   "outputs": [],
   "source": [
    "import numpy as np"
   ]
  },
  {
   "cell_type": "code",
   "execution_count": 20,
   "metadata": {},
   "outputs": [
    {
     "data": {
      "text/plain": [
       "[29,\n",
       " 11,\n",
       " 28,\n",
       " 35,\n",
       " 32,\n",
       " 40,\n",
       " 1,\n",
       " 41,\n",
       " 1,\n",
       " 26,\n",
       " 8,\n",
       " 21,\n",
       " 15,\n",
       " 1,\n",
       " 9,\n",
       " 40,\n",
       " 24,\n",
       " 47,\n",
       " 10,\n",
       " 20,\n",
       " 7,\n",
       " 2,\n",
       " 37,\n",
       " 42,\n",
       " 15,\n",
       " 44]"
      ]
     },
     "execution_count": 20,
     "metadata": {},
     "output_type": "execute_result"
    }
   ],
   "source": [
    "tableau = [np.random.randint(0,50) for j in range(np.random.randint(10,30))]\n",
    "tableau"
   ]
  },
  {
   "cell_type": "code",
   "execution_count": 42,
   "metadata": {},
   "outputs": [],
   "source": [
    "def cherche(array, value):\n",
    "    i = 0\n",
    "    while i < len(array):\n",
    "        if array[i] == value:\n",
    "            yield i\n",
    "            #break\n",
    "        i+=1\n",
    "    yield -1\n",
    "    "
   ]
  },
  {
   "cell_type": "code",
   "execution_count": 22,
   "metadata": {},
   "outputs": [
    {
     "name": "stdout",
     "output_type": "stream",
     "text": [
      "14\n"
     ]
    }
   ],
   "source": [
    "print(cherche(tableau, 9))"
   ]
  },
  {
   "cell_type": "code",
   "execution_count": 24,
   "metadata": {},
   "outputs": [],
   "source": [
    "def search(array, value):\n",
    "    for ((index, totest)) in enumerate(array):\n",
    "        if totest == value:\n",
    "            return index\n",
    "    return -1"
   ]
  },
  {
   "cell_type": "code",
   "execution_count": 48,
   "metadata": {},
   "outputs": [
    {
     "name": "stdout",
     "output_type": "stream",
     "text": [
      "-1\n"
     ]
    },
    {
     "ename": "StopIteration",
     "evalue": "",
     "output_type": "error",
     "traceback": [
      "\u001b[0;31m---------------------------------------------------------------------------\u001b[0m",
      "\u001b[0;31mStopIteration\u001b[0m                             Traceback (most recent call last)",
      "\u001b[0;32m<ipython-input-48-572a8ba107f8>\u001b[0m in \u001b[0;36m<module>\u001b[0;34m()\u001b[0m\n\u001b[1;32m      1\u001b[0m \u001b[0ma\u001b[0m \u001b[0;34m=\u001b[0m \u001b[0mcherche\u001b[0m\u001b[0;34m(\u001b[0m\u001b[0;34m[\u001b[0m\u001b[0;36m1\u001b[0m\u001b[0;34m,\u001b[0m\u001b[0;36m6\u001b[0m\u001b[0;34m,\u001b[0m\u001b[0;36m7\u001b[0m\u001b[0;34m,\u001b[0m\u001b[0;36m2\u001b[0m\u001b[0;34m,\u001b[0m\u001b[0;36m3\u001b[0m\u001b[0;34m,\u001b[0m\u001b[0;36m1\u001b[0m\u001b[0;34m,\u001b[0m\u001b[0;36m2\u001b[0m\u001b[0;34m]\u001b[0m\u001b[0;34m,\u001b[0m \u001b[0;36m0\u001b[0m\u001b[0;34m)\u001b[0m\u001b[0;34m\u001b[0m\u001b[0m\n\u001b[1;32m      2\u001b[0m \u001b[0mprint\u001b[0m\u001b[0;34m(\u001b[0m\u001b[0mnext\u001b[0m\u001b[0;34m(\u001b[0m\u001b[0ma\u001b[0m\u001b[0;34m)\u001b[0m\u001b[0;34m)\u001b[0m\u001b[0;34m\u001b[0m\u001b[0m\n\u001b[0;32m----> 3\u001b[0;31m \u001b[0mprint\u001b[0m\u001b[0;34m(\u001b[0m\u001b[0mnext\u001b[0m\u001b[0;34m(\u001b[0m\u001b[0ma\u001b[0m\u001b[0;34m)\u001b[0m\u001b[0;34m)\u001b[0m\u001b[0;34m\u001b[0m\u001b[0m\n\u001b[0m",
      "\u001b[0;31mStopIteration\u001b[0m: "
     ]
    }
   ],
   "source": [
    "a = cherche([1,6,7,2,3,1,2], 0)\n",
    "print(next(a))\n",
    "print(next(a))"
   ]
  },
  {
   "cell_type": "markdown",
   "metadata": {},
   "source": [
    "```text\n",
    "Creer un tableau avec des prénom:\n",
    "Faire une fonction qui renvoie tous les prénom commençant par une lettre donnée\n",
    "signatue:\n",
    "array searchFirstLetter(array, letter):\n",
    "parametres:\n",
    "    array: tableau de prénoms\n",
    "    letter: lettre à rechercher\n",
    "retour:\n",
    "    tableau contenant les prénoms dans array qui commencent par letter\n",
    "quelques indeices:\n",
    "<string>.upper()\n",
    "    une string est une séquence\n",
    "prenoms = (\"Bobby`\n",
    "```"
   ]
  },
  {
   "cell_type": "code",
   "execution_count": 61,
   "metadata": {},
   "outputs": [],
   "source": [
    "prenoms = (\"Bobby\", \"Georges\", \"Emile\", \"Josiane\", \"Georgette\", \"Pedro\", \"Josette\")"
   ]
  },
  {
   "cell_type": "code",
   "execution_count": 70,
   "metadata": {},
   "outputs": [],
   "source": [
    "def searchFirstLetter(array, letter):\n",
    "    tableau = []\n",
    "    i = 0\n",
    "    while i < len(array):\n",
    "        if array[i].upper().startswith(letter.upper(), 0, 1):\n",
    "            tableau.append(array[i])\n",
    "        i+=1\n",
    "    return sorted(tableau)"
   ]
  },
  {
   "cell_type": "code",
   "execution_count": 71,
   "metadata": {},
   "outputs": [
    {
     "data": {
      "text/plain": [
       "['Josette', 'Josiane']"
      ]
     },
     "execution_count": 71,
     "metadata": {},
     "output_type": "execute_result"
    }
   ],
   "source": [
    "a = searchFirstLetter(prenoms, \"j\")\n",
    "a"
   ]
  },
  {
   "cell_type": "markdown",
   "metadata": {},
   "source": [
    "# Programmation Orientée Objet en Python:\n",
    "\n",
    "### **I. Introduction:**\n",
    "\n",
    "- Les concepts fondamentaux\n",
    "- UML: Nous permet de tracer les chemas pour Orientée Objet, fait le relation des objets\n",
    "---\n",
    "- Orraniser objet de façon conceptuelle, de structurer enfaçon fonctionnelle\n",
    "- Représenter des relations entre des objets\n",
    "- Les codes sont plus liive et facillement réutilisable\n",
    "\n",
    "---\n",
    "### **II. POO en Python:**\n",
    "\n",
    "**1. Definitions:**\n",
    "- un objet est une instance\n",
    "- une classe représente un ensemble d'objet similaire (la class est toujours abstrait) la difference entre objet et classe: quand on appelle classe c'est juste déclaré objet (ça fait rien, peut pas manipuler mais quand on effectuation à l'objet (instance), mtn on peut manipuler class via l'objet.\n",
    "- Ex: Une Clio est un objet, une voiture est une class\n",
    "**2. Interface et implémentation:**\n",
    "- tout la fonction qui permet d'intéragir l'objet (interface) (public)\n",
    "- tout la fonction qui permet de ... (private)\n",
    "**3. Relation:**\n",
    "    ![](https://cdn.visual-paradigm.com/guide/uml/uml-class-diagram-tutorial/17-class-diagram-example-order-system.png)\n",
    "- Héritage(spécialisation/généralisation): creer une class qui hérite tout les comportements de la Classe mère, les classes héritées ne sont pas relations entre eux. \n",
    "- Agrégation ou composition: définier une classe qui contenir l'autre class(composition), (agrégation) si on détruit une class qui est composé par l'autre class, ça détruit une parti de cette classe\n",
    "- Association: Les relation de deux classes...\n",
    "- Polimorphisme: une méthoed peut avoir plusieurs formes. Lors de l'héritage, elle peut être \"surchargée\" ou \"redéfine\". Il arrive que la méthode soit explicitement déclarée comme non implémentée dans la class mère. Cela m^me au concept de class abstraites. On distingue le polymorphisme statique (surcharge, signature différente) **python na pas le droit de déclarer 2 meme fonction** (on verra comment résoundre) et dynamique (redéfinition, signature identique). L'héritage nous permet de ne pas écrit dans la class fils mais nous permets de rédéfinit(surcharge)\n",
    "- Constructeurs, destructeurs et héritages:\n",
    "\n",
    "---\n",
    "### **II. Diagammes: **\n",
    "   [Class Diagram](https://en.wikipedia.org/wiki/Class_diagram)\n",
    "    \n",
    "- Atelier n°2: UML\n",
    "![](UML.png)\n",
    "\n",
    "\n",
    "#### Syntaxe en Python:\n",
    "```python\n",
    "class User:\n",
    "    def getName(self):\n",
    "        return self.name\n",
    "class Product:\n",
    "    def __init__(self, name):\n",
    "        self.name = name\n",
    "class Engineer(User):\n",
    "    def __init__(self, name, product):\n",
    "        self.name = name\n",
    "        self.product = Product(product)\n",
    "ab = Engineer(\"Anthony Baillard\", \"argamato\")\n",
    "print(ab.getName())\n",
    "```\n"
   ]
  },
  {
   "cell_type": "code",
   "execution_count": 1,
   "metadata": {},
   "outputs": [
    {
     "name": "stdout",
     "output_type": "stream",
     "text": [
      "Anthony Baillard\n"
     ]
    }
   ],
   "source": [
    "class User:\n",
    "    \n",
    "    def __init__(self, name):\n",
    "        self.name = name\n",
    "    def getName(self):\n",
    "        return self.name\n",
    "    \n",
    "class Product:\n",
    "    def __init__(self, namen param2):\n",
    "        self.name = name\n",
    "        self.param2 = param2\n",
    "    def getName(self):\n",
    "        return self.name\n",
    "    \n",
    "class Engineer(User):\n",
    "    def __init__(self, name, product):\n",
    "        \n",
    "        self.name = name\n",
    "        self.product = Product(product)\n",
    "ab = Engineer(\"Anthony Baillard\", \"argamato\")\n",
    "print(ab.getName())"
   ]
  },
  {
   "cell_type": "markdown",
   "metadata": {},
   "source": [
    "## Exercices jours 3:"
   ]
  },
  {
   "cell_type": "code",
   "execution_count": null,
   "metadata": {},
   "outputs": [],
   "source": [
    "class User:\n",
    "    def __init__(self, name):\n",
    "        self.name = name\n",
    "\n",
    "class Product:\n",
    "    def __init__(self, name):\n",
    "        self.name = name\n",
    "\n",
    "class Reporter(User):\n",
    "    pass\n",
    "\n",
    "class Engineer(Reporter):\n",
    "    pass\n",
    "\n",
    "class Issue:\n",
    "    def __init__(self, date, description, product, reporter, engineer=None):\n",
    "        if not isinstance(product, Product):\n",
    "            raise TypeError(\"product is not an instance of Product\")\n",
    "        if not isinstance(reporter, Reporter):\n",
    "            raise TypeError(\"reporter is not an instance of Reporter\")\n",
    "        self.date = date\n",
    "        self.description = description\n",
    "        self.product = product\n",
    "        self.reporter = reporter\n",
    "        self.engineer = engineer \n",
    "        self.status = \"Open\"\n",
    "        \n",
    "    def assignEngineer(self, engineer):\n",
    "        if self.engineer == None:\n",
    "            sefl.engineer = engineer\n",
    "\n",
    "argamato = Product(\"armagato\")\n"
   ]
  }
 ],
 "metadata": {
  "kernelspec": {
   "display_name": "Python 3",
   "language": "python",
   "name": "python3"
  },
  "language_info": {
   "codemirror_mode": {
    "name": "ipython",
    "version": 3
   },
   "file_extension": ".py",
   "mimetype": "text/x-python",
   "name": "python",
   "nbconvert_exporter": "python",
   "pygments_lexer": "ipython3",
   "version": "3.6.4"
  }
 },
 "nbformat": 4,
 "nbformat_minor": 2
}
