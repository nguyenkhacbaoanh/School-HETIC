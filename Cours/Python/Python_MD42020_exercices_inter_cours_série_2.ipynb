{
 "cells": [
  {
   "cell_type": "code",
   "execution_count": 27,
   "metadata": {
    "colab": {
     "base_uri": "https://localhost:8080/",
     "height": 85
    },
    "colab_type": "code",
    "id": "JCkiDQSz_XmM",
    "outputId": "3a5a7348-2a41-4723-b758-65930e0f2ec3"
   },
   "outputs": [
    {
     "name": "stdout",
     "output_type": "stream",
     "text": [
      "[[1, 5, 8], [7, 4, 3], [5, 2, 9]]\n",
      "[14, 14, 16]\n",
      "[13, 11, 20]\n",
      "44\n"
     ]
    }
   ],
   "source": [
    "# Niveau +\n",
    "# Créer une matrice à deux dimensions contenant les valeurs suivantes\n",
    "# [1, 5, 8,\n",
    "#  7, 4, 3,\n",
    "#  5, 2, 9]\n",
    "ls = [[1, 5, 8],\n",
    "  [7, 4, 3],\n",
    "  [5, 2, 9]]\n",
    "#import numpy as np\n",
    "#np.ndarray((3,3), buffer=np.array([1, 5, 8, 7, 4, 3, 5, 2, 9]), dtype=int)\n",
    "print(ls)\n",
    "# Ecrire une fonction qui renvoie le total de chaque ligne (sous forme d'un tableau du nombre de lignes : [14, 14, 16])\n",
    "def total_row(array):\n",
    "    sum_row = []\n",
    "    for i in array:\n",
    "        if isinstance(i, list):\n",
    "            sum_row.append(sum(i))\n",
    "    return sum_row\n",
    "print(total_row(ls))\n",
    "# [sum(ls[i]) for i in range(len(ls))]\n",
    "# Ecrire une fonction qui renvoie le total de chaque colonne (sous forme d'un tableau du nombre de colonnes : [13, 11, 20])\n",
    "print([sum(c) for c in zip(*ls)])\n",
    "# Ecrire une fonction qui renvoie le total du tableau (sous forme d'un entier : 44)\n",
    "def total(array):\n",
    "    return sum(total_row(array))\n",
    "print(total(ls))"
   ]
  },
  {
   "cell_type": "code",
   "execution_count": 4,
   "metadata": {
    "colab": {
     "base_uri": "https://localhost:8080/",
     "height": 255
    },
    "colab_type": "code",
    "id": "cw_mbaD4_hgr",
    "outputId": "0f52473d-5bbc-4103-ba0d-8c801ffbc99e"
   },
   "outputs": [
    {
     "name": "stdout",
     "output_type": "stream",
     "text": [
      "{'fruits': {'poires': 3, 'bananes': 5, 'clementines': 8}, 'légumes': {'courgette': 1, 'pomme de terre': 10, 'poireaux': 2}}\n",
      "3\n",
      "\n",
      "16\n",
      "13\n",
      "['bananes', 'clementines', 'courgette', 'poireaux', 'poires', 'pomme de terre']\n",
      "{'courgette': 1, 'poireaux': 2, 'poires': 3, 'bananes': 5, 'clementines': 8, 'pomme de terre': 10}\n",
      "{'poires': 3, 'bananes': 5, 'clementines': 8}\n",
      "{'courgette': 1, 'poireaux': 2, 'pomme de terre': 10}\n",
      "rest of bananes : 4\n",
      "rest of bananes : 3\n",
      "rest of bananes : 2\n",
      "rest of courgette : 0\n",
      "no one of courgette in panier\n"
     ]
    }
   ],
   "source": [
    "# Niveau ++\n",
    "# Soit un panier contenant :\n",
    "# - 3 poires\n",
    "# - 5 bananes\n",
    "# - 1 courgette\n",
    "# - 10 pdt\n",
    "# - 2 poireaux\n",
    "# - 8 clementines\n",
    "\n",
    "# - Représenter le panier sous forme de dictionnaire (tableau associatif).\n",
    "\n",
    "panier = {\n",
    "    'fruits' : {'poires':3, 'bananes':5, 'clementines':8},\n",
    "    'légumes': {'courgette':1, 'pomme de terre':10, 'poireaux':2}   \n",
    "}\n",
    "print(panier)\n",
    "# - Ecrire une fonction qui renvoie le nombre de fruit/légume donné en paramètre.\n",
    "def getNumberofItems(produit, panier):\n",
    "    if produit in panier['fruits']:\n",
    "        return panier['fruits'][produit]\n",
    "    elif produit in panier['légumes']:\n",
    "        return panier['légumes'][produit]\n",
    "    else:\n",
    "        return 0\n",
    "\n",
    "print(getNumberofItems('poires', panier))\n",
    "print()\n",
    "\n",
    "def getTotalofItems(type_, panier):\n",
    "    return sum(panier[type_].values())\n",
    "\n",
    "print(getTotalofItems('fruits', panier))\n",
    "print(getTotalofItems('légumes', panier))\n",
    "\n",
    "def sortPanierbyItems(type_, panier):\n",
    "    if type_ == 'all':\n",
    "        return sorted(list(panier['fruits'])+list(panier['légumes']))\n",
    "    else:\n",
    "        return sorted(panier[type_].keys())\n",
    "\n",
    "print(sortPanierbyItems('all', panier))\n",
    "\n",
    "def sortPanierByQuantity(type_, panier):\n",
    "    if type_ == 'all':\n",
    "        result = panier['fruits'].copy()\n",
    "        result.update(panier['légumes'])\n",
    "        return dict(sorted(result.items(), key=lambda x: x[1]))\n",
    "    else:\n",
    "        return dict(sorted(panier[type_].items(), key=lambda x: x[1]))\n",
    "\n",
    "print(sortPanierByQuantity('all', panier))\n",
    "print(sortPanierByQuantity('fruits', panier))\n",
    "print(sortPanierByQuantity('légumes', panier))\n",
    "\n",
    "def takeA(produit, panier):\n",
    "    if (produit in panier['fruits']) and (panier['fruits'][produit] >0):\n",
    "        panier['fruits'][produit] -= 1\n",
    "        return (f\"rest of {produit} : {panier['fruits'][produit]}\")\n",
    "    elif (produit in panier['légumes']) and (panier['légumes'][produit] >0):\n",
    "        panier['légumes'][produit] -= 1\n",
    "        return (f\"rest of {produit} : {panier['légumes'][produit]}\")\n",
    "    return f\"no one of {produit} in panier\"\n",
    "\n",
    "'''print(takeA('bananes', panier))\n",
    "print(takeA('bananes', panier))\n",
    "print(takeA('bananes', panier))\n",
    "print(takeA('courgette', panier))\n",
    "print(takeA('courgette', panier))'''\n",
    "\n",
    "\n",
    "def takeA_v2(produit, panier):\n",
    "    for k,v in panier.items():\n",
    "        if (produit in v) and (v[produit] >0):\n",
    "            v[produit] -= 1\n",
    "            return (f\"rest of {produit} : {v[produit]}\")\n",
    "    return f\"no one of {produit} in panier\"\n",
    "\n",
    "print(takeA_v2('bananes', panier))\n",
    "print(takeA_v2('bananes', panier))\n",
    "print(takeA_v2('bananes', panier))\n",
    "print(takeA_v2('courgette', panier))\n",
    "print(takeA_v2('courgette', panier))"
   ]
  },
  {
   "cell_type": "code",
   "execution_count": 0,
   "metadata": {
    "colab": {},
    "colab_type": "code",
    "id": "yaSuH_LL_rA6"
   },
   "outputs": [],
   "source": [
    "# Niveau ++\n",
    "# Refaire l'exercice ci-dessous en programmation orientée objet"
   ]
  }
 ],
 "metadata": {
  "colab": {
   "name": "Copie de Python MD42020 exercices inter-cours série 2.ipynb",
   "provenance": [],
   "version": "0.3.2"
  },
  "kernelspec": {
   "display_name": "Python 3",
   "language": "python",
   "name": "python3"
  },
  "language_info": {
   "codemirror_mode": {
    "name": "ipython",
    "version": 3
   },
   "file_extension": ".py",
   "mimetype": "text/x-python",
   "name": "python",
   "nbconvert_exporter": "python",
   "pygments_lexer": "ipython3",
   "version": "3.6.4"
  }
 },
 "nbformat": 4,
 "nbformat_minor": 1
}
