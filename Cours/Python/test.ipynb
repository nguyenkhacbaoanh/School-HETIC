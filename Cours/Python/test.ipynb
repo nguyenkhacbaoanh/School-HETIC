{
 "cells": [
  {
   "cell_type": "code",
   "execution_count": 50,
   "metadata": {},
   "outputs": [
    {
     "name": "stdout",
     "output_type": "stream",
     "text": [
      "['CCCC']\n",
      "['BBBB']\n",
      "\n",
      "[['CCCC'], ['BBBB'], ['BBBB'], ['CCCC']]\n"
     ]
    }
   ],
   "source": [
    "class Ingredient:\n",
    "    def __init__(self):\n",
    "        self.condiment = []\n",
    "        self.produit = []\n",
    "    def getIngredient(self, name):\n",
    "        if isinstance(name, Condiment):\n",
    "            self.condiment.append(name.name)\n",
    "        if isinstance(name, Produit):\n",
    "            self.produit.append(name.name)\n",
    "class Condiment:\n",
    "    def __init__(self, name):\n",
    "        self.name = name\n",
    "class Produit:\n",
    "    def __init__(self, name):\n",
    "        self.name = name\n",
    "class Recette:\n",
    "    ingredient = []\n",
    "    def __init__(self, ingred1, ingred2, *ingred3):\n",
    "        self.ingredient.extend([ingred1, ingred2, *ingred3])\n",
    "class Ustensile:\n",
    "    def __init__(self, recette):\n",
    "        pass\n",
    "\n",
    "a = Produit(\"BBBB\")\n",
    "b = Condiment(\"CCCC\")\n",
    "f = Produit(\"BBBB\")\n",
    "c = Ingredient()\n",
    "c.getIngredient(a)\n",
    "c.getIngredient(b)\n",
    "#print(a.condiment)\n",
    "#print(b.produit)\n",
    "print(c.condiment)\n",
    "print(c.produit)\n",
    "print()\n",
    "d = Recette(c.condiment, c.produit, c.produit, c.condiment)\n",
    "print(d.ingredient)"
   ]
  },
  {
   "cell_type": "code",
   "execution_count": null,
   "metadata": {},
   "outputs": [],
   "source": []
  }
 ],
 "metadata": {
  "kernelspec": {
   "display_name": "Python 3",
   "language": "python",
   "name": "python3"
  },
  "language_info": {
   "codemirror_mode": {
    "name": "ipython",
    "version": 3
   },
   "file_extension": ".py",
   "mimetype": "text/x-python",
   "name": "python",
   "nbconvert_exporter": "python",
   "pygments_lexer": "ipython3",
   "version": "3.6.4"
  }
 },
 "nbformat": 4,
 "nbformat_minor": 2
}
