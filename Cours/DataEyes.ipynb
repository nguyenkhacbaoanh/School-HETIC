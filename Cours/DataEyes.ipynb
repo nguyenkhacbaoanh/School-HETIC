{
 "cells": [
  {
   "cell_type": "markdown",
   "metadata": {},
   "source": [
    "# Data-journalisme\n",
    "- gros donnée => pour les journalismes\n",
    "- dataeyes: 8 ans, visualiser donnes, interaction des donnees, organiser les donnes. vendre les savoir-faire sur la visualisation\n",
    "## Définitions:\n",
    "1. Data-visualisation:\n",
    "- representer les donnes visiblement\n",
    "- carte graphique >< info graphique\n",
    "- info graphique: selecter les info\n",
    "    - illustrer plustot affichier les donnes\n",
    "- Manuel lime - microsoft. Designer d\"intéraction:\n",
    "- narative 2.0\n",
    "\n",
    "- HDI: Human Data Interactions\n",
    "    - entourer proches les donner, capturer plus possible les donnes, aborder contact les humain et les données\n",
    "    - il faut avoir le regard pour tout les notions les infor, les interactions..\n",
    "   \n",
    "- Open data: mettre en accèss libre, partager, mettre en disponition: remise en chain de tweter(api) tweeter, grossir plus les services de l'utilisateur. L'utilisation d'open data protégé par le droit d'auteur meme si on a droit d'access...\n",
    "- Big data: des volumns de données, les données utilisée chaque seconde, des jours aux jours: amazon,... Les outils statitisque a du mal à utiliser, transforme la façon de travailer de l'entreprise..\n",
    "- Business interlligence: secter visualiser des données, chercher les résultat d'entreprise, analyser le vendre...plupart usitliser la visualisation de donnes pour analyser le résultat, le vend...\n",
    "[](metropolitain.io)\n",
    "https://dataviz.rennesmetropole.fr/quisommesnous/index-fr.php\n",
    "- data literacy: considère la data comme la langage, apprendre...\n",
    "\n",
    "## Atelier:\n",
    "- éviter de déformer l'info\n",
    "\n",
    "## Comment augmenter les humains avec des outils cognitifs?\n",
    "- la perception visuelle offre une bande passante supérieure à tous les autres sens.\n",
    "[](http://rhythm-of-food.net)\n",
    "\n",
    "- la mémoire iconique\n",
    "\n",
    "## Pratique:\n",
    "\n",
    "![](https://i.pinimg.com/564x/8b/f7/ec/8bf7ec5686a27abef25ca547f09e0049.jpg)\n",
    "\n",
    "\n",
    "\n",
    "\n",
    "\n",
    "\n",
    "\n",
    "\n",
    "\n",
    "\n",
    "\n",
    "\n",
    "\n",
    "\n",
    "\n",
    "\n",
    "\n",
    "\n",
    "\n",
    "\n",
    "\n",
    "\n"
   ]
  },
  {
   "cell_type": "markdown",
   "metadata": {},
   "source": [
    "1. bcp tranches, la couleur"
   ]
  }
 ],
 "metadata": {
  "kernelspec": {
   "display_name": "Python 3",
   "language": "python",
   "name": "python3"
  },
  "language_info": {
   "codemirror_mode": {
    "name": "ipython",
    "version": 3
   },
   "file_extension": ".py",
   "mimetype": "text/x-python",
   "name": "python",
   "nbconvert_exporter": "python",
   "pygments_lexer": "ipython3",
   "version": "3.6.4"
  }
 },
 "nbformat": 4,
 "nbformat_minor": 2
}
