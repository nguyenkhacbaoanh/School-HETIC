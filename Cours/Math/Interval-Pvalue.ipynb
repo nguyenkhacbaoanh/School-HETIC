{
 "cells": [
  {
   "cell_type": "code",
   "execution_count": 1,
   "metadata": {},
   "outputs": [],
   "source": [
    "from scipy.stats import binom"
   ]
  },
  {
   "cell_type": "code",
   "execution_count": 2,
   "metadata": {},
   "outputs": [],
   "source": [
    "?binom"
   ]
  },
  {
   "cell_type": "code",
   "execution_count": null,
   "metadata": {},
   "outputs": [],
   "source": [
    "while "
   ]
  },
  {
   "cell_type": "markdown",
   "metadata": {},
   "source": [
    "# Inégalité de Bienaymé - Tchebychev: => jamais vrai en réalisé\n",
    "\n",
    "$$\\mathscr{B}(n,p) --> \\mathscr{N}(np, \\sqrt(npq))$$\n",
    "\n",
    "$$P(|\\frac{X_n}{n}-p|\\leq \\epsilon)$$\n",
    "\n",
    "$$P(|X_n-np|\\leq n\\epsilon)$$\n",
    "\n",
    "$$P(\\frac{|X_n-np|}{\\sqrt{npq}}\\leq \\frac{x - n\\epsilon)}{\\sqrt{npq}}$$"
   ]
  },
  {
   "cell_type": "code",
   "execution_count": null,
   "metadata": {},
   "outputs": [],
   "source": []
  }
 ],
 "metadata": {
  "kernelspec": {
   "display_name": "Python 3",
   "language": "python",
   "name": "python3"
  },
  "language_info": {
   "codemirror_mode": {
    "name": "ipython",
    "version": 3
   },
   "file_extension": ".py",
   "mimetype": "text/x-python",
   "name": "python",
   "nbconvert_exporter": "python",
   "pygments_lexer": "ipython3",
   "version": "3.6.4"
  }
 },
 "nbformat": 4,
 "nbformat_minor": 2
}
