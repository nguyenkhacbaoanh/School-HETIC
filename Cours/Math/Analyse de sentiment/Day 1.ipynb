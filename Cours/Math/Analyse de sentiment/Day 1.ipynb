{
 "cells": [
  {
   "cell_type": "markdown",
   "metadata": {},
   "source": [
    "# Récupération de données twitter:"
   ]
  },
  {
   "cell_type": "code",
   "execution_count": 1,
   "metadata": {},
   "outputs": [],
   "source": [
    "# !wget http://artw.fr/etu/hetic/twitter-cdt18.json\n",
    "#import requests\n",
    "#url = \"http://artw.fr/etu/hetic/twitter-cdt18.json\"\n",
    "#r = requests.get(url)"
   ]
  },
  {
   "cell_type": "code",
   "execution_count": 2,
   "metadata": {},
   "outputs": [],
   "source": [
    "#open(\"twitter.json\", \"wb\").write(r.content)"
   ]
  },
  {
   "cell_type": "code",
   "execution_count": 49,
   "metadata": {},
   "outputs": [],
   "source": [
    "import json\n",
    "import numpy as np"
   ]
  },
  {
   "cell_type": "code",
   "execution_count": 4,
   "metadata": {},
   "outputs": [
    {
     "name": "stdout",
     "output_type": "stream",
     "text": [
      "Il y a 3215 tweets dans cette récolte\n"
     ]
    }
   ],
   "source": [
    "tweets = []\n",
    "with open(\"twitter.json\") as f:\n",
    "    for l in f:\n",
    "        tweets.append(json.loads(l.strip()))\n",
    "print(f\"Il y a {len(tweets)} tweets dans cette récolte\")"
   ]
  },
  {
   "cell_type": "code",
   "execution_count": 5,
   "metadata": {},
   "outputs": [],
   "source": [
    "#!tail -n 100 twitter.json"
   ]
  },
  {
   "cell_type": "code",
   "execution_count": 6,
   "metadata": {},
   "outputs": [],
   "source": [
    "import random"
   ]
  },
  {
   "cell_type": "code",
   "execution_count": 7,
   "metadata": {},
   "outputs": [
    {
     "data": {
      "text/plain": [
       "[{'contributors': None,\n",
       "  'coordinates': None,\n",
       "  'created_at': 'Sat Dec 15 15:48:23 +0000 2018',\n",
       "  'display_text_range': [0, 140],\n",
       "  'entities': {'hashtags': [],\n",
       "   'symbols': [],\n",
       "   'urls': [],\n",
       "   'user_mentions': [{'id': 706136232661745664,\n",
       "     'id_str': '706136232661745664',\n",
       "     'indices': [3, 19],\n",
       "     'name': 'Printemps social',\n",
       "     'screen_name': 'PrintempsSocial'}]},\n",
       "  'favorite_count': 0,\n",
       "  'favorited': False,\n",
       "  'full_text': 'RT @PrintempsSocial: Ils continuent d’utiliser le canon à eau et lacrymos pour disperser la foule toujours aussi déterminée à investir l’ho…',\n",
       "  'geo': None,\n",
       "  'id': 1073968017602764800,\n",
       "  'id_str': '1073968017602764800',\n",
       "  'in_reply_to_screen_name': None,\n",
       "  'in_reply_to_status_id': None,\n",
       "  'in_reply_to_status_id_str': None,\n",
       "  'in_reply_to_user_id': None,\n",
       "  'in_reply_to_user_id_str': None,\n",
       "  'is_quote_status': False,\n",
       "  'lang': 'fr',\n",
       "  'place': None,\n",
       "  'retweet_count': 78,\n",
       "  'retweeted': False,\n",
       "  'retweeted_status': {'contributors': None,\n",
       "   'coordinates': None,\n",
       "   'created_at': 'Sat Dec 15 15:17:33 +0000 2018',\n",
       "   'display_text_range': [0, 202],\n",
       "   'entities': {'hashtags': [{'indices': [152, 165], 'text': 'giletsjaunes'},\n",
       "     {'indices': [166, 173], 'text': 'acteiv'},\n",
       "     {'indices': [174, 180], 'text': 'acte5'},\n",
       "     {'indices': [181, 190], 'text': 'bordeaux'},\n",
       "     {'indices': [191, 202], 'text': '15decembre'}],\n",
       "    'media': [{'display_url': 'pic.twitter.com/YC58Uf68qW',\n",
       "      'expanded_url': 'https://twitter.com/PrintempsSocial/status/1073960260497522689/video/1',\n",
       "      'id': 1073960074228441089,\n",
       "      'id_str': '1073960074228441089',\n",
       "      'indices': [203, 226],\n",
       "      'media_url': 'http://pbs.twimg.com/ext_tw_video_thumb/1073960074228441089/pu/img/cIIb4qRG9zvzptsn.jpg',\n",
       "      'media_url_https': 'https://pbs.twimg.com/ext_tw_video_thumb/1073960074228441089/pu/img/cIIb4qRG9zvzptsn.jpg',\n",
       "      'sizes': {'large': {'h': 720, 'resize': 'fit', 'w': 1280},\n",
       "       'medium': {'h': 675, 'resize': 'fit', 'w': 1200},\n",
       "       'small': {'h': 383, 'resize': 'fit', 'w': 680},\n",
       "       'thumb': {'h': 150, 'resize': 'crop', 'w': 150}},\n",
       "      'type': 'photo',\n",
       "      'url': 'https://t.co/YC58Uf68qW'}],\n",
       "    'symbols': [],\n",
       "    'urls': [],\n",
       "    'user_mentions': []},\n",
       "   'extended_entities': {'media': [{'additional_media_info': {'monetizable': False},\n",
       "      'display_url': 'pic.twitter.com/YC58Uf68qW',\n",
       "      'expanded_url': 'https://twitter.com/PrintempsSocial/status/1073960260497522689/video/1',\n",
       "      'id': 1073960074228441089,\n",
       "      'id_str': '1073960074228441089',\n",
       "      'indices': [203, 226],\n",
       "      'media_url': 'http://pbs.twimg.com/ext_tw_video_thumb/1073960074228441089/pu/img/cIIb4qRG9zvzptsn.jpg',\n",
       "      'media_url_https': 'https://pbs.twimg.com/ext_tw_video_thumb/1073960074228441089/pu/img/cIIb4qRG9zvzptsn.jpg',\n",
       "      'sizes': {'large': {'h': 720, 'resize': 'fit', 'w': 1280},\n",
       "       'medium': {'h': 675, 'resize': 'fit', 'w': 1200},\n",
       "       'small': {'h': 383, 'resize': 'fit', 'w': 680},\n",
       "       'thumb': {'h': 150, 'resize': 'crop', 'w': 150}},\n",
       "      'type': 'video',\n",
       "      'url': 'https://t.co/YC58Uf68qW',\n",
       "      'video_info': {'aspect_ratio': [16, 9],\n",
       "       'duration_millis': 28722,\n",
       "       'variants': [{'bitrate': 2176000,\n",
       "         'content_type': 'video/mp4',\n",
       "         'url': 'https://video.twimg.com/ext_tw_video/1073960074228441089/pu/vid/1280x720/uqqVLzK9GZt_K-WJ.mp4?tag=6'},\n",
       "        {'content_type': 'application/x-mpegURL',\n",
       "         'url': 'https://video.twimg.com/ext_tw_video/1073960074228441089/pu/pl/y-_7KAisyk2Nai_C.m3u8?tag=6'},\n",
       "        {'bitrate': 256000,\n",
       "         'content_type': 'video/mp4',\n",
       "         'url': 'https://video.twimg.com/ext_tw_video/1073960074228441089/pu/vid/320x180/PgkKxSpRRy5iBrG4.mp4?tag=6'},\n",
       "        {'bitrate': 832000,\n",
       "         'content_type': 'video/mp4',\n",
       "         'url': 'https://video.twimg.com/ext_tw_video/1073960074228441089/pu/vid/640x360/cmVnx__aKoMxgErJ.mp4?tag=6'}]}}]},\n",
       "   'favorite_count': 43,\n",
       "   'favorited': False,\n",
       "   'full_text': 'Ils continuent d’utiliser le canon à eau et lacrymos pour disperser la foule toujours aussi déterminée à investir l’hotel de ville malgré la répression #giletsjaunes #acteiv #acte5 #bordeaux #15decembre https://t.co/YC58Uf68qW',\n",
       "   'geo': None,\n",
       "   'id': 1073960260497522689,\n",
       "   'id_str': '1073960260497522689',\n",
       "   'in_reply_to_screen_name': None,\n",
       "   'in_reply_to_status_id': None,\n",
       "   'in_reply_to_status_id_str': None,\n",
       "   'in_reply_to_user_id': None,\n",
       "   'in_reply_to_user_id_str': None,\n",
       "   'is_quote_status': False,\n",
       "   'lang': 'fr',\n",
       "   'place': None,\n",
       "   'possibly_sensitive': False,\n",
       "   'retweet_count': 78,\n",
       "   'retweeted': False,\n",
       "   'source': '<a href=\"http://twitter.com/download/iphone\" rel=\"nofollow\">Twitter for iPhone</a>',\n",
       "   'truncated': False,\n",
       "   'user': {'contributors_enabled': False,\n",
       "    'created_at': 'Sat Mar 05 15:16:12 +0000 2016',\n",
       "    'default_profile': False,\n",
       "    'default_profile_image': False,\n",
       "    'description': \"Compte initialement créé à l'occasion du mouvement contre la Loi Travail | Je tweete sur les questions sociales et environnementales | Compte animé par @OssmanZ\",\n",
       "    'entities': {'description': {'urls': []},\n",
       "     'url': {'urls': [{'display_url': 'instagram.com/OssmanZ',\n",
       "        'expanded_url': 'http://instagram.com/OssmanZ',\n",
       "        'indices': [0, 23],\n",
       "        'url': 'https://t.co/GZ9nagGmhn'}]}},\n",
       "    'favourites_count': 815,\n",
       "    'follow_request_sent': False,\n",
       "    'followers_count': 2464,\n",
       "    'following': False,\n",
       "    'friends_count': 263,\n",
       "    'geo_enabled': True,\n",
       "    'has_extended_profile': True,\n",
       "    'id': 706136232661745664,\n",
       "    'id_str': '706136232661745664',\n",
       "    'is_translation_enabled': False,\n",
       "    'is_translator': False,\n",
       "    'lang': 'fr',\n",
       "    'listed_count': 35,\n",
       "    'location': 'Bordeaux, France',\n",
       "    'name': 'Printemps social',\n",
       "    'notifications': False,\n",
       "    'profile_background_color': '000000',\n",
       "    'profile_background_image_url': 'http://abs.twimg.com/images/themes/theme1/bg.png',\n",
       "    'profile_background_image_url_https': 'https://abs.twimg.com/images/themes/theme1/bg.png',\n",
       "    'profile_background_tile': False,\n",
       "    'profile_banner_url': 'https://pbs.twimg.com/profile_banners/706136232661745664/1459701612',\n",
       "    'profile_image_url': 'http://pbs.twimg.com/profile_images/1047859184476344320/UAcA58sX_normal.jpg',\n",
       "    'profile_image_url_https': 'https://pbs.twimg.com/profile_images/1047859184476344320/UAcA58sX_normal.jpg',\n",
       "    'profile_link_color': '981CEB',\n",
       "    'profile_sidebar_border_color': '000000',\n",
       "    'profile_sidebar_fill_color': '000000',\n",
       "    'profile_text_color': '000000',\n",
       "    'profile_use_background_image': False,\n",
       "    'protected': False,\n",
       "    'screen_name': 'PrintempsSocial',\n",
       "    'statuses_count': 873,\n",
       "    'time_zone': None,\n",
       "    'translator_type': 'none',\n",
       "    'url': 'https://t.co/GZ9nagGmhn',\n",
       "    'utc_offset': None,\n",
       "    'verified': False}},\n",
       "  'source': '<a href=\"http://twitter.com/download/iphone\" rel=\"nofollow\">Twitter for iPhone</a>',\n",
       "  'truncated': False,\n",
       "  'user': {'contributors_enabled': False,\n",
       "   'created_at': 'Sat Jul 02 13:17:43 +0000 2016',\n",
       "   'default_profile': True,\n",
       "   'default_profile_image': False,\n",
       "   'description': 'Collectif, du côté de celles et ceux qui s’organisent. Luttes, manifs, blocages, barricades, occupations, ZAD et soulèvements - vers la Commune.',\n",
       "   'entities': {'description': {'urls': []}},\n",
       "   'favourites_count': 44804,\n",
       "   'follow_request_sent': False,\n",
       "   'followers_count': 11829,\n",
       "   'following': False,\n",
       "   'friends_count': 2656,\n",
       "   'geo_enabled': True,\n",
       "   'has_extended_profile': False,\n",
       "   'id': 749230571008786432,\n",
       "   'id_str': '749230571008786432',\n",
       "   'is_translation_enabled': False,\n",
       "   'is_translator': False,\n",
       "   'lang': 'en',\n",
       "   'listed_count': 81,\n",
       "   'location': 'Partout',\n",
       "   'name': 'Cortège de Tête',\n",
       "   'notifications': False,\n",
       "   'profile_background_color': 'F5F8FA',\n",
       "   'profile_background_image_url': None,\n",
       "   'profile_background_image_url_https': None,\n",
       "   'profile_background_tile': False,\n",
       "   'profile_banner_url': 'https://pbs.twimg.com/profile_banners/749230571008786432/1527846116',\n",
       "   'profile_image_url': 'http://pbs.twimg.com/profile_images/749232284293791744/lfSyQO8z_normal.jpg',\n",
       "   'profile_image_url_https': 'https://pbs.twimg.com/profile_images/749232284293791744/lfSyQO8z_normal.jpg',\n",
       "   'profile_link_color': '1DA1F2',\n",
       "   'profile_sidebar_border_color': 'C0DEED',\n",
       "   'profile_sidebar_fill_color': 'DDEEF6',\n",
       "   'profile_text_color': '333333',\n",
       "   'profile_use_background_image': True,\n",
       "   'protected': False,\n",
       "   'screen_name': 'cortegedetete',\n",
       "   'statuses_count': 11174,\n",
       "   'time_zone': None,\n",
       "   'translator_type': 'none',\n",
       "   'url': None,\n",
       "   'utc_offset': None,\n",
       "   'verified': False}}]"
      ]
     },
     "execution_count": 7,
     "metadata": {},
     "output_type": "execute_result"
    }
   ],
   "source": [
    "#?random.sample\n",
    "random.sample(tweets,1)"
   ]
  },
  {
   "cell_type": "code",
   "execution_count": 36,
   "metadata": {},
   "outputs": [],
   "source": [
    "import datetime"
   ]
  },
  {
   "cell_type": "code",
   "execution_count": 9,
   "metadata": {},
   "outputs": [],
   "source": [
    "#dt.datetime.strptime?"
   ]
  },
  {
   "cell_type": "code",
   "execution_count": 10,
   "metadata": {},
   "outputs": [
    {
     "data": {
      "text/plain": [
       "datetime.datetime(2018, 5, 30, 0, 0)"
      ]
     },
     "execution_count": 10,
     "metadata": {},
     "output_type": "execute_result"
    }
   ],
   "source": [
    "dt.datetime.strptime(datetime.datetime.strptime(\"Wed May 30 16:17:41 +0000 2018\", \"%a %b %d %H:%M:%S %z %Y\").strftime(\"%Y-%m-%d\"),\"%Y-%m-%d\")"
   ]
  },
  {
   "cell_type": "code",
   "execution_count": 12,
   "metadata": {},
   "outputs": [
    {
     "data": {
      "text/plain": [
       "'Wed Jan 09 20:44:35 +0000 2019'"
      ]
     },
     "execution_count": 12,
     "metadata": {},
     "output_type": "execute_result"
    }
   ],
   "source": [
    "#tweets[1]['created_at']"
   ]
  },
  {
   "cell_type": "code",
   "execution_count": 13,
   "metadata": {},
   "outputs": [],
   "source": [
    "date_list = [datetime.datetime.strptime(\\\n",
    "            datetime.datetime.strptime(tweet['created_at'], \\\n",
    "                                 \"%a %b %d %H:%M:%S %z %Y\").\\\n",
    "                                  strftime(\"%Y-%m-%d\"),\"%Y-%m-%d\") \\\n",
    "             for tweet in tweets]"
   ]
  },
  {
   "cell_type": "code",
   "execution_count": 16,
   "metadata": {},
   "outputs": [],
   "source": [
    "date_list = sorted(date_list)"
   ]
  },
  {
   "cell_type": "code",
   "execution_count": 17,
   "metadata": {},
   "outputs": [],
   "source": [
    "count_tweets = []\n",
    "for d in set(date_list):\n",
    "    count = 0\n",
    "    for d_l in date_list:\n",
    "        if d_l == d: count += 1\n",
    "    count_tweets.append(count)"
   ]
  },
  {
   "cell_type": "code",
   "execution_count": 18,
   "metadata": {},
   "outputs": [
    {
     "data": {
      "text/plain": [
       "208"
      ]
     },
     "execution_count": 18,
     "metadata": {},
     "output_type": "execute_result"
    }
   ],
   "source": [
    "len(count_tweets)"
   ]
  },
  {
   "cell_type": "code",
   "execution_count": 19,
   "metadata": {},
   "outputs": [],
   "source": [
    "tweets_usage = dict([i for i in zip(set(date_list), count_tweets)])"
   ]
  },
  {
   "cell_type": "code",
   "execution_count": 20,
   "metadata": {},
   "outputs": [
    {
     "data": {
      "text/plain": [
       "{datetime.datetime(2018, 5, 28, 0, 0): 9,\n",
       " datetime.datetime(2018, 5, 29, 0, 0): 41,\n",
       " datetime.datetime(2018, 5, 30, 0, 0): 43,\n",
       " datetime.datetime(2018, 5, 31, 0, 0): 80,\n",
       " datetime.datetime(2018, 6, 1, 0, 0): 83,\n",
       " datetime.datetime(2018, 6, 2, 0, 0): 71,\n",
       " datetime.datetime(2018, 6, 3, 0, 0): 27,\n",
       " datetime.datetime(2018, 6, 4, 0, 0): 12,\n",
       " datetime.datetime(2018, 6, 5, 0, 0): 36,\n",
       " datetime.datetime(2018, 6, 6, 0, 0): 28,\n",
       " datetime.datetime(2018, 6, 7, 0, 0): 52,\n",
       " datetime.datetime(2018, 6, 8, 0, 0): 27,\n",
       " datetime.datetime(2018, 6, 9, 0, 0): 18,\n",
       " datetime.datetime(2018, 6, 10, 0, 0): 4,\n",
       " datetime.datetime(2018, 6, 11, 0, 0): 13,\n",
       " datetime.datetime(2018, 6, 12, 0, 0): 18,\n",
       " datetime.datetime(2018, 6, 13, 0, 0): 22,\n",
       " datetime.datetime(2018, 6, 14, 0, 0): 31,\n",
       " datetime.datetime(2018, 6, 15, 0, 0): 23,\n",
       " datetime.datetime(2018, 6, 16, 0, 0): 62,\n",
       " datetime.datetime(2018, 6, 17, 0, 0): 15,\n",
       " datetime.datetime(2018, 6, 18, 0, 0): 12,\n",
       " datetime.datetime(2018, 6, 19, 0, 0): 30,\n",
       " datetime.datetime(2018, 6, 20, 0, 0): 22,\n",
       " datetime.datetime(2018, 6, 21, 0, 0): 10,\n",
       " datetime.datetime(2018, 6, 22, 0, 0): 15,\n",
       " datetime.datetime(2018, 6, 23, 0, 0): 11,\n",
       " datetime.datetime(2018, 6, 24, 0, 0): 7,\n",
       " datetime.datetime(2018, 6, 25, 0, 0): 13,\n",
       " datetime.datetime(2018, 6, 26, 0, 0): 26,\n",
       " datetime.datetime(2018, 6, 27, 0, 0): 28,\n",
       " datetime.datetime(2018, 6, 28, 0, 0): 27,\n",
       " datetime.datetime(2018, 6, 29, 0, 0): 19,\n",
       " datetime.datetime(2018, 6, 30, 0, 0): 19,\n",
       " datetime.datetime(2018, 7, 1, 0, 0): 2,\n",
       " datetime.datetime(2018, 7, 2, 0, 0): 13,\n",
       " datetime.datetime(2018, 7, 3, 0, 0): 17,\n",
       " datetime.datetime(2018, 7, 4, 0, 0): 32,\n",
       " datetime.datetime(2018, 7, 5, 0, 0): 31,\n",
       " datetime.datetime(2018, 7, 6, 0, 0): 14,\n",
       " datetime.datetime(2018, 7, 7, 0, 0): 14,\n",
       " datetime.datetime(2018, 7, 8, 0, 0): 16,\n",
       " datetime.datetime(2018, 7, 9, 0, 0): 20,\n",
       " datetime.datetime(2018, 7, 10, 0, 0): 6,\n",
       " datetime.datetime(2018, 7, 11, 0, 0): 2,\n",
       " datetime.datetime(2018, 7, 12, 0, 0): 5,\n",
       " datetime.datetime(2018, 7, 13, 0, 0): 3,\n",
       " datetime.datetime(2018, 7, 14, 0, 0): 2,\n",
       " datetime.datetime(2018, 7, 15, 0, 0): 5,\n",
       " datetime.datetime(2018, 7, 16, 0, 0): 8,\n",
       " datetime.datetime(2018, 7, 17, 0, 0): 7,\n",
       " datetime.datetime(2018, 7, 18, 0, 0): 13,\n",
       " datetime.datetime(2018, 7, 19, 0, 0): 16,\n",
       " datetime.datetime(2018, 7, 20, 0, 0): 6,\n",
       " datetime.datetime(2018, 7, 21, 0, 0): 18,\n",
       " datetime.datetime(2018, 7, 22, 0, 0): 22,\n",
       " datetime.datetime(2018, 7, 23, 0, 0): 22,\n",
       " datetime.datetime(2018, 7, 24, 0, 0): 24,\n",
       " datetime.datetime(2018, 7, 25, 0, 0): 33,\n",
       " datetime.datetime(2018, 7, 26, 0, 0): 20,\n",
       " datetime.datetime(2018, 7, 27, 0, 0): 27,\n",
       " datetime.datetime(2018, 7, 28, 0, 0): 11,\n",
       " datetime.datetime(2018, 7, 29, 0, 0): 4,\n",
       " datetime.datetime(2018, 7, 30, 0, 0): 19,\n",
       " datetime.datetime(2018, 7, 31, 0, 0): 7,\n",
       " datetime.datetime(2018, 8, 1, 0, 0): 26,\n",
       " datetime.datetime(2018, 8, 2, 0, 0): 2,\n",
       " datetime.datetime(2018, 8, 3, 0, 0): 2,\n",
       " datetime.datetime(2018, 8, 5, 0, 0): 9,\n",
       " datetime.datetime(2018, 8, 6, 0, 0): 1,\n",
       " datetime.datetime(2018, 8, 7, 0, 0): 2,\n",
       " datetime.datetime(2018, 8, 8, 0, 0): 1,\n",
       " datetime.datetime(2018, 8, 9, 0, 0): 2,\n",
       " datetime.datetime(2018, 8, 10, 0, 0): 6,\n",
       " datetime.datetime(2018, 8, 11, 0, 0): 9,\n",
       " datetime.datetime(2018, 8, 13, 0, 0): 3,\n",
       " datetime.datetime(2018, 8, 14, 0, 0): 1,\n",
       " datetime.datetime(2018, 8, 15, 0, 0): 2,\n",
       " datetime.datetime(2018, 8, 16, 0, 0): 7,\n",
       " datetime.datetime(2018, 8, 17, 0, 0): 1,\n",
       " datetime.datetime(2018, 8, 18, 0, 0): 1,\n",
       " datetime.datetime(2018, 8, 19, 0, 0): 1,\n",
       " datetime.datetime(2018, 8, 21, 0, 0): 3,\n",
       " datetime.datetime(2018, 8, 22, 0, 0): 2,\n",
       " datetime.datetime(2018, 8, 26, 0, 0): 1,\n",
       " datetime.datetime(2018, 8, 27, 0, 0): 1,\n",
       " datetime.datetime(2018, 8, 28, 0, 0): 2,\n",
       " datetime.datetime(2018, 8, 30, 0, 0): 1,\n",
       " datetime.datetime(2018, 8, 31, 0, 0): 4,\n",
       " datetime.datetime(2018, 9, 1, 0, 0): 1,\n",
       " datetime.datetime(2018, 9, 2, 0, 0): 2,\n",
       " datetime.datetime(2018, 9, 3, 0, 0): 4,\n",
       " datetime.datetime(2018, 9, 4, 0, 0): 5,\n",
       " datetime.datetime(2018, 9, 5, 0, 0): 2,\n",
       " datetime.datetime(2018, 9, 6, 0, 0): 1,\n",
       " datetime.datetime(2018, 9, 7, 0, 0): 1,\n",
       " datetime.datetime(2018, 9, 8, 0, 0): 4,\n",
       " datetime.datetime(2018, 9, 9, 0, 0): 1,\n",
       " datetime.datetime(2018, 9, 10, 0, 0): 1,\n",
       " datetime.datetime(2018, 9, 11, 0, 0): 3,\n",
       " datetime.datetime(2018, 9, 12, 0, 0): 3,\n",
       " datetime.datetime(2018, 9, 13, 0, 0): 2,\n",
       " datetime.datetime(2018, 9, 14, 0, 0): 5,\n",
       " datetime.datetime(2018, 9, 15, 0, 0): 2,\n",
       " datetime.datetime(2018, 9, 17, 0, 0): 4,\n",
       " datetime.datetime(2018, 9, 18, 0, 0): 3,\n",
       " datetime.datetime(2018, 9, 19, 0, 0): 5,\n",
       " datetime.datetime(2018, 9, 20, 0, 0): 1,\n",
       " datetime.datetime(2018, 9, 22, 0, 0): 1,\n",
       " datetime.datetime(2018, 9, 23, 0, 0): 1,\n",
       " datetime.datetime(2018, 9, 26, 0, 0): 3,\n",
       " datetime.datetime(2018, 9, 29, 0, 0): 1,\n",
       " datetime.datetime(2018, 9, 30, 0, 0): 3,\n",
       " datetime.datetime(2018, 10, 1, 0, 0): 2,\n",
       " datetime.datetime(2018, 10, 2, 0, 0): 3,\n",
       " datetime.datetime(2018, 10, 3, 0, 0): 6,\n",
       " datetime.datetime(2018, 10, 4, 0, 0): 2,\n",
       " datetime.datetime(2018, 10, 5, 0, 0): 4,\n",
       " datetime.datetime(2018, 10, 6, 0, 0): 2,\n",
       " datetime.datetime(2018, 10, 7, 0, 0): 1,\n",
       " datetime.datetime(2018, 10, 8, 0, 0): 1,\n",
       " datetime.datetime(2018, 10, 9, 0, 0): 25,\n",
       " datetime.datetime(2018, 10, 10, 0, 0): 4,\n",
       " datetime.datetime(2018, 10, 11, 0, 0): 10,\n",
       " datetime.datetime(2018, 10, 12, 0, 0): 4,\n",
       " datetime.datetime(2018, 10, 13, 0, 0): 4,\n",
       " datetime.datetime(2018, 10, 14, 0, 0): 2,\n",
       " datetime.datetime(2018, 10, 15, 0, 0): 1,\n",
       " datetime.datetime(2018, 10, 16, 0, 0): 1,\n",
       " datetime.datetime(2018, 10, 17, 0, 0): 3,\n",
       " datetime.datetime(2018, 10, 19, 0, 0): 8,\n",
       " datetime.datetime(2018, 10, 20, 0, 0): 4,\n",
       " datetime.datetime(2018, 10, 21, 0, 0): 11,\n",
       " datetime.datetime(2018, 10, 23, 0, 0): 2,\n",
       " datetime.datetime(2018, 10, 24, 0, 0): 3,\n",
       " datetime.datetime(2018, 10, 25, 0, 0): 3,\n",
       " datetime.datetime(2018, 10, 26, 0, 0): 1,\n",
       " datetime.datetime(2018, 10, 28, 0, 0): 5,\n",
       " datetime.datetime(2018, 10, 29, 0, 0): 3,\n",
       " datetime.datetime(2018, 10, 30, 0, 0): 1,\n",
       " datetime.datetime(2018, 10, 31, 0, 0): 2,\n",
       " datetime.datetime(2018, 11, 1, 0, 0): 2,\n",
       " datetime.datetime(2018, 11, 2, 0, 0): 3,\n",
       " datetime.datetime(2018, 11, 3, 0, 0): 4,\n",
       " datetime.datetime(2018, 11, 4, 0, 0): 1,\n",
       " datetime.datetime(2018, 11, 5, 0, 0): 1,\n",
       " datetime.datetime(2018, 11, 6, 0, 0): 3,\n",
       " datetime.datetime(2018, 11, 9, 0, 0): 4,\n",
       " datetime.datetime(2018, 11, 10, 0, 0): 3,\n",
       " datetime.datetime(2018, 11, 11, 0, 0): 6,\n",
       " datetime.datetime(2018, 11, 12, 0, 0): 6,\n",
       " datetime.datetime(2018, 11, 13, 0, 0): 4,\n",
       " datetime.datetime(2018, 11, 14, 0, 0): 11,\n",
       " datetime.datetime(2018, 11, 15, 0, 0): 5,\n",
       " datetime.datetime(2018, 11, 16, 0, 0): 5,\n",
       " datetime.datetime(2018, 11, 17, 0, 0): 23,\n",
       " datetime.datetime(2018, 11, 18, 0, 0): 4,\n",
       " datetime.datetime(2018, 11, 20, 0, 0): 9,\n",
       " datetime.datetime(2018, 11, 21, 0, 0): 10,\n",
       " datetime.datetime(2018, 11, 22, 0, 0): 5,\n",
       " datetime.datetime(2018, 11, 23, 0, 0): 1,\n",
       " datetime.datetime(2018, 11, 24, 0, 0): 56,\n",
       " datetime.datetime(2018, 11, 25, 0, 0): 6,\n",
       " datetime.datetime(2018, 11, 26, 0, 0): 11,\n",
       " datetime.datetime(2018, 11, 27, 0, 0): 9,\n",
       " datetime.datetime(2018, 11, 28, 0, 0): 1,\n",
       " datetime.datetime(2018, 11, 29, 0, 0): 10,\n",
       " datetime.datetime(2018, 11, 30, 0, 0): 27,\n",
       " datetime.datetime(2018, 12, 1, 0, 0): 188,\n",
       " datetime.datetime(2018, 12, 2, 0, 0): 45,\n",
       " datetime.datetime(2018, 12, 3, 0, 0): 73,\n",
       " datetime.datetime(2018, 12, 4, 0, 0): 35,\n",
       " datetime.datetime(2018, 12, 5, 0, 0): 25,\n",
       " datetime.datetime(2018, 12, 6, 0, 0): 33,\n",
       " datetime.datetime(2018, 12, 7, 0, 0): 44,\n",
       " datetime.datetime(2018, 12, 8, 0, 0): 273,\n",
       " datetime.datetime(2018, 12, 9, 0, 0): 15,\n",
       " datetime.datetime(2018, 12, 10, 0, 0): 63,\n",
       " datetime.datetime(2018, 12, 11, 0, 0): 35,\n",
       " datetime.datetime(2018, 12, 12, 0, 0): 18,\n",
       " datetime.datetime(2018, 12, 13, 0, 0): 24,\n",
       " datetime.datetime(2018, 12, 14, 0, 0): 16,\n",
       " datetime.datetime(2018, 12, 15, 0, 0): 96,\n",
       " datetime.datetime(2018, 12, 16, 0, 0): 13,\n",
       " datetime.datetime(2018, 12, 17, 0, 0): 11,\n",
       " datetime.datetime(2018, 12, 18, 0, 0): 28,\n",
       " datetime.datetime(2018, 12, 19, 0, 0): 5,\n",
       " datetime.datetime(2018, 12, 20, 0, 0): 4,\n",
       " datetime.datetime(2018, 12, 21, 0, 0): 5,\n",
       " datetime.datetime(2018, 12, 22, 0, 0): 26,\n",
       " datetime.datetime(2018, 12, 23, 0, 0): 10,\n",
       " datetime.datetime(2018, 12, 24, 0, 0): 3,\n",
       " datetime.datetime(2018, 12, 25, 0, 0): 2,\n",
       " datetime.datetime(2018, 12, 26, 0, 0): 4,\n",
       " datetime.datetime(2018, 12, 27, 0, 0): 1,\n",
       " datetime.datetime(2018, 12, 28, 0, 0): 1,\n",
       " datetime.datetime(2018, 12, 29, 0, 0): 40,\n",
       " datetime.datetime(2018, 12, 30, 0, 0): 2,\n",
       " datetime.datetime(2018, 12, 31, 0, 0): 15,\n",
       " datetime.datetime(2019, 1, 1, 0, 0): 3,\n",
       " datetime.datetime(2019, 1, 2, 0, 0): 13,\n",
       " datetime.datetime(2019, 1, 3, 0, 0): 2,\n",
       " datetime.datetime(2019, 1, 4, 0, 0): 8,\n",
       " datetime.datetime(2019, 1, 5, 0, 0): 64,\n",
       " datetime.datetime(2019, 1, 6, 0, 0): 36,\n",
       " datetime.datetime(2019, 1, 7, 0, 0): 25,\n",
       " datetime.datetime(2019, 1, 8, 0, 0): 7,\n",
       " datetime.datetime(2019, 1, 9, 0, 0): 14}"
      ]
     },
     "execution_count": 20,
     "metadata": {},
     "output_type": "execute_result"
    }
   ],
   "source": [
    "tweets_usage"
   ]
  },
  {
   "cell_type": "code",
   "execution_count": 21,
   "metadata": {},
   "outputs": [],
   "source": [
    "import matplotlib.pyplot as plt"
   ]
  },
  {
   "cell_type": "code",
   "execution_count": 22,
   "metadata": {},
   "outputs": [],
   "source": [
    "%matplotlib inline\n",
    "plt.rcParams[\"figure.figsize\"] = (16,8)"
   ]
  },
  {
   "cell_type": "code",
   "execution_count": 23,
   "metadata": {},
   "outputs": [
    {
     "data": {
      "image/png": "[encoded data removed]",
      "text/plain": [
       "<Figure size 1152x576 with 1 Axes>"
      ]
     },
     "metadata": {},
     "output_type": "display_data"
    }
   ],
   "source": [
    "plt.bar(list(tweets_usage.keys()), list(tweets_usage.values()));"
   ]
  },
  {
   "cell_type": "code",
   "execution_count": 105,
   "metadata": {},
   "outputs": [],
   "source": [
    "def moving_average(obj, n):\n",
    "    ave = [np.mean([obj[j] for j in sorted(list(obj.keys()))[ix-n+1:ix+1]])\\\n",
    "                      if (ix >= n-1) else 0.0 for ix in range(0,len(obj))]\n",
    "    return ave"
   ]
  },
  {
   "cell_type": "code",
   "execution_count": 106,
   "metadata": {},
   "outputs": [],
   "source": [
    "ma = moving_average(tweets_usage, 3)"
   ]
  },
  {
   "cell_type": "code",
   "execution_count": 107,
   "metadata": {},
   "outputs": [
    {
     "data": {
      "text/plain": [
       "[0.0,\n",
       " 0.0,\n",
       " 31.0,\n",
       " 54.666666666666664,\n",
       " 68.66666666666667,\n",
       " 78.0,\n",
       " 60.333333333333336,\n",
       " 36.666666666666664,\n",
       " 25.0,\n",
       " 25.333333333333332,\n",
       " 38.666666666666664,\n",
       " 35.666666666666664,\n",
       " 32.333333333333336,\n",
       " 16.333333333333332,\n",
       " 11.666666666666666,\n",
       " 11.666666666666666,\n",
       " 17.666666666666668,\n",
       " 23.666666666666668,\n",
       " 25.333333333333332,\n",
       " 38.666666666666664,\n",
       " 33.333333333333336,\n",
       " 29.666666666666668,\n",
       " 19.0,\n",
       " 21.333333333333332,\n",
       " 20.666666666666668,\n",
       " 15.666666666666666,\n",
       " 12.0,\n",
       " 11.0,\n",
       " 10.333333333333334,\n",
       " 15.333333333333334,\n",
       " 22.333333333333332,\n",
       " 27.0,\n",
       " 24.666666666666668,\n",
       " 21.666666666666668,\n",
       " 13.333333333333334,\n",
       " 11.333333333333334,\n",
       " 10.666666666666666,\n",
       " 20.666666666666668,\n",
       " 26.666666666666668,\n",
       " 25.666666666666668,\n",
       " 19.666666666666668,\n",
       " 14.666666666666666,\n",
       " 16.666666666666668,\n",
       " 14.0,\n",
       " 9.333333333333334,\n",
       " 4.333333333333333,\n",
       " 3.3333333333333335,\n",
       " 3.3333333333333335,\n",
       " 3.3333333333333335,\n",
       " 5.0,\n",
       " 6.666666666666667,\n",
       " 9.333333333333334,\n",
       " 12.0,\n",
       " 11.666666666666666,\n",
       " 13.333333333333334,\n",
       " 15.333333333333334,\n",
       " 20.666666666666668,\n",
       " 22.666666666666668,\n",
       " 26.333333333333332,\n",
       " 25.666666666666668,\n",
       " 26.666666666666668,\n",
       " 19.333333333333332,\n",
       " 14.0,\n",
       " 11.333333333333334,\n",
       " 10.0,\n",
       " 17.333333333333332,\n",
       " 11.666666666666666,\n",
       " 10.0,\n",
       " 4.333333333333333,\n",
       " 4.0,\n",
       " 4.0,\n",
       " 1.3333333333333333,\n",
       " 1.6666666666666667,\n",
       " 3.0,\n",
       " 5.666666666666667,\n",
       " 6.0,\n",
       " 4.333333333333333,\n",
       " 2.0,\n",
       " 3.3333333333333335,\n",
       " 3.3333333333333335,\n",
       " 3.0,\n",
       " 1.0,\n",
       " 1.6666666666666667,\n",
       " 2.0,\n",
       " 2.0,\n",
       " 1.3333333333333333,\n",
       " 1.3333333333333333,\n",
       " 1.3333333333333333,\n",
       " 2.3333333333333335,\n",
       " 2.0,\n",
       " 2.3333333333333335,\n",
       " 2.3333333333333335,\n",
       " 3.6666666666666665,\n",
       " 3.6666666666666665,\n",
       " 2.6666666666666665,\n",
       " 1.3333333333333333,\n",
       " 2.0,\n",
       " 2.0,\n",
       " 2.0,\n",
       " 1.6666666666666667,\n",
       " 2.3333333333333335,\n",
       " 2.6666666666666665,\n",
       " 3.3333333333333335,\n",
       " 3.0,\n",
       " 3.6666666666666665,\n",
       " 3.0,\n",
       " 4.0,\n",
       " 3.0,\n",
       " 2.3333333333333335,\n",
       " 1.0,\n",
       " 1.6666666666666667,\n",
       " 1.6666666666666667,\n",
       " 2.3333333333333335,\n",
       " 2.0,\n",
       " 2.6666666666666665,\n",
       " 3.6666666666666665,\n",
       " 3.6666666666666665,\n",
       " 4.0,\n",
       " 2.6666666666666665,\n",
       " 2.3333333333333335,\n",
       " 1.3333333333333333,\n",
       " 9.0,\n",
       " 10.0,\n",
       " 13.0,\n",
       " 6.0,\n",
       " 6.0,\n",
       " 3.3333333333333335,\n",
       " 2.3333333333333335,\n",
       " 1.3333333333333333,\n",
       " 1.6666666666666667,\n",
       " 4.0,\n",
       " 5.0,\n",
       " 7.666666666666667,\n",
       " 5.666666666666667,\n",
       " 5.333333333333333,\n",
       " 2.6666666666666665,\n",
       " 2.3333333333333335,\n",
       " 3.0,\n",
       " 3.0,\n",
       " 3.0,\n",
       " 2.0,\n",
       " 1.6666666666666667,\n",
       " 2.3333333333333335,\n",
       " 3.0,\n",
       " 2.6666666666666665,\n",
       " 2.0,\n",
       " 1.6666666666666667,\n",
       " 2.6666666666666665,\n",
       " 3.3333333333333335,\n",
       " 4.333333333333333,\n",
       " 5.0,\n",
       " 5.333333333333333,\n",
       " 7.0,\n",
       " 6.666666666666667,\n",
       " 7.0,\n",
       " 11.0,\n",
       " 10.666666666666666,\n",
       " 12.0,\n",
       " 7.666666666666667,\n",
       " 8.0,\n",
       " 5.333333333333333,\n",
       " 20.666666666666668,\n",
       " 21.0,\n",
       " 24.333333333333332,\n",
       " 8.666666666666666,\n",
       " 7.0,\n",
       " 6.666666666666667,\n",
       " 12.666666666666666,\n",
       " 75.0,\n",
       " 86.66666666666667,\n",
       " 102.0,\n",
       " 51.0,\n",
       " 44.333333333333336,\n",
       " 31.0,\n",
       " 34.0,\n",
       " 116.66666666666667,\n",
       " 110.66666666666667,\n",
       " 117.0,\n",
       " 37.666666666666664,\n",
       " 38.666666666666664,\n",
       " 25.666666666666668,\n",
       " 19.333333333333332,\n",
       " 45.333333333333336,\n",
       " 41.666666666666664,\n",
       " 40.0,\n",
       " 17.333333333333332,\n",
       " 14.666666666666666,\n",
       " 12.333333333333334,\n",
       " 4.666666666666667,\n",
       " 11.666666666666666,\n",
       " 13.666666666666666,\n",
       " 13.0,\n",
       " 5.0,\n",
       " 3.0,\n",
       " 2.3333333333333335,\n",
       " 2.0,\n",
       " 14.0,\n",
       " 14.333333333333334,\n",
       " 19.0,\n",
       " 6.666666666666667,\n",
       " 10.333333333333334,\n",
       " 6.0,\n",
       " 7.666666666666667,\n",
       " 24.666666666666668,\n",
       " 36.0,\n",
       " 41.666666666666664,\n",
       " 22.666666666666668,\n",
       " 15.333333333333334]"
      ]
     },
     "execution_count": 107,
     "metadata": {},
     "output_type": "execute_result"
    }
   ],
   "source": [
    "ma"
   ]
  },
  {
   "cell_type": "code",
   "execution_count": 108,
   "metadata": {},
   "outputs": [],
   "source": [
    "def plot_(obj, n):\n",
    "    ave = moving_average(obj,n)\n",
    "    ave = np.array(ave, dtype=float)\n",
    "    fig, ax = plt.subplots(1,1)\n",
    "    ax.bar(list(obj.keys()), list(obj.values()))\n",
    "    ax.plot(sorted(list(tweets_usage.keys())),ave, \"r\")"
   ]
  },
  {
   "cell_type": "code",
   "execution_count": 115,
   "metadata": {},
   "outputs": [
    {
     "data": {
      "image/png": "[encoded data removed]",
      "text/plain": [
       "<Figure size 1152x576 with 1 Axes>"
      ]
     },
     "metadata": {},
     "output_type": "display_data"
    }
   ],
   "source": [
    "plot_(tweets_usage, 1)"
   ]
  },
  {
   "cell_type": "code",
   "execution_count": 116,
   "metadata": {},
   "outputs": [
    {
     "data": {
      "image/png": "[encoded data removed]",
      "text/plain": [
       "<Figure size 1152x576 with 1 Axes>"
      ]
     },
     "metadata": {},
     "output_type": "display_data"
    }
   ],
   "source": [
    "plot_(tweets_usage, 3)"
   ]
  },
  {
   "cell_type": "code",
   "execution_count": 117,
   "metadata": {},
   "outputs": [
    {
     "data": {
      "image/png": "[encoded data removed]",
      "text/plain": [
       "<Figure size 1152x576 with 1 Axes>"
      ]
     },
     "metadata": {},
     "output_type": "display_data"
    }
   ],
   "source": [
    "plot_(tweets_usage, 10)"
   ]
  },
  {
   "cell_type": "code",
   "execution_count": 109,
   "metadata": {},
   "outputs": [
    {
     "data": {
      "image/png": "[encoded data removed]",
      "text/plain": [
       "<Figure size 1152x576 with 1 Axes>"
      ]
     },
     "metadata": {},
     "output_type": "display_data"
    }
   ],
   "source": [
    "plot_(tweets_usage, 50)"
   ]
  },
  {
   "cell_type": "code",
   "execution_count": 113,
   "metadata": {},
   "outputs": [
    {
     "data": {
      "image/png": "[encoded data removed]",
      "text/plain": [
       "<Figure size 1152x576 with 1 Axes>"
      ]
     },
     "metadata": {},
     "output_type": "display_data"
    }
   ],
   "source": [
    "plot_(tweets_usage, 100)"
   ]
  },
  {
   "cell_type": "code",
   "execution_count": 114,
   "metadata": {},
   "outputs": [
    {
     "data": {
      "image/png": "[encoded data removed]",
      "text/plain": [
       "<Figure size 1152x576 with 1 Axes>"
      ]
     },
     "metadata": {},
     "output_type": "display_data"
    }
   ],
   "source": [
    "plot_(tweets_usage, 150)"
   ]
  },
  {
   "cell_type": "code",
   "execution_count": 118,
   "metadata": {},
   "outputs": [],
   "source": [
    "def std_samples(obj,n):\n",
    "    ma = moving_average(obj,n)\n",
    "    return np.std(np.array(ma[n-1:]) - np.array(list(obj.values())[n-1:]))/np.sqrt(n)"
   ]
  },
  {
   "cell_type": "code",
   "execution_count": 119,
   "metadata": {},
   "outputs": [],
   "source": [
    "error_echantillon = [std_samples(tweets_usage,i) for i in range(1,len(tweets_usage)+1)]"
   ]
  },
  {
   "cell_type": "code",
   "execution_count": 121,
   "metadata": {},
   "outputs": [
    {
     "data": {
      "image/png": "[encoded data removed]",
      "text/plain": [
       "<Figure size 1152x576 with 1 Axes>"
      ]
     },
     "metadata": {},
     "output_type": "display_data"
    }
   ],
   "source": [
    "plt.plot(list(range(1,len(tweets_usage))), error_echantillon[1:],'y')\n",
    "plt.xlim([1,len(tweets_usage)+1])\n",
    "plt.xlabel(\"n échantillon\")\n",
    "plt.ylabel(\"error\");"
   ]
  },
  {
   "cell_type": "code",
   "execution_count": null,
   "metadata": {},
   "outputs": [],
   "source": [
    "# indicateur retard: lag\n",
    "# moyenne mobilise: MA"
   ]
  },
  {
   "cell_type": "code",
   "execution_count": null,
   "metadata": {},
   "outputs": [],
   "source": []
  }
 ],
 "metadata": {
  "kernelspec": {
   "display_name": "Python 3",
   "language": "python",
   "name": "python3"
  },
  "language_info": {
   "codemirror_mode": {
    "name": "ipython",
    "version": 3
   },
   "file_extension": ".py",
   "mimetype": "text/x-python",
   "name": "python",
   "nbconvert_exporter": "python",
   "pygments_lexer": "ipython3",
   "version": "3.6.4"
  }
 },
 "nbformat": 4,
 "nbformat_minor": 2
}
