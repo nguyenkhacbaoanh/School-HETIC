{
 "cells": [
  {
   "cell_type": "markdown",
   "metadata": {
    "colab_type": "text",
    "id": "8fQMM2TiLr0L"
   },
   "source": [
    "# Lois usuelles"
   ]
  },
  {
   "cell_type": "markdown",
   "metadata": {
    "colab_type": "text",
    "id": "Wy8GKbTQLwBD"
   },
   "source": [
    "## Lois discrètes"
   ]
  },
  {
   "cell_type": "markdown",
   "metadata": {
    "colab_type": "text",
    "id": "naDV7OmDL2MS"
   },
   "source": [
    "### Loi uniforme\n",
    "\n",
    "#### Exemple\n",
    "Lancer d'un dé régulier à 6 faces, lancer d'une pièce équilibrée, tout phénomène dont les issues sont équiprobables.\n",
    "\n",
    "#### Formulaire\n",
    " | | | |\n",
    "-- |-- | -- |--|--\n",
    "$X$ | Loi | $$F_X(x)$$| Espérance $$\\mathsf{E}(X)$$ | Variance $$\\mathsf{V}(X)=\\sigma^2$$\n",
    "$$\\{1,2,..,n\\}$$|$$\\mathsf{P}(X=k) = \\frac{1}{n}$$ |$$\\frac{k}{n}$$| $$\\frac{n+1}{2}$$ | $$\\frac{n^2-1}{12}$$\n",
    "\n",
    "#### Eléments de calcul\n",
    "$$1+2+...+n = \\sum_{i=1}^{n} i = \\frac{n(n+1)}{2}$$\n",
    "$$1+2^2+3^2+...+n^2 = \\sum_{i=1}^{n} i^2 = \\frac{n(n+1)(2n+1)}{6}$$\n"
   ]
  },
  {
   "cell_type": "markdown",
   "metadata": {
    "colab_type": "text",
    "id": "2GIhxfcxSFi1"
   },
   "source": [
    "### Loi de Bernoulli $\\mathscr{B}(1,p)$\n",
    "\n",
    "#### Exemple\n",
    "Tirage dans une urne avec une proportion $p$ de boules rouges, et $1-p$ de boules bleues. $X$ représente alors le nombre de boules rouges.\n",
    "\n",
    "#### Formulaire\n",
    " | | | |\n",
    "-- |-- | -- |--\n",
    "$X$ | Loi |Espérance $$\\mathsf{E}(X)$$ | Variance $$\\mathsf{V}(X)=\\sigma^2$$\n",
    "$$\\{0,1\\}$$ | $$\\mathsf{P}(X=k)=p^k(1-p)^{1-k}$$ | $$p$$ | $$p(1-p)$$\n",
    "\n",
    "#### Eléments de calcul\n",
    "La fonction indicatrice de $A$\n",
    "$$\n",
    " 1\\!\\!1_A(x)=\\begin{cases}1 & x\\in A \\\\ 0 & x\\notin A\\end{cases}\n",
    "$$\n",
    "permet d'assigner les probabilités $p$ et $(1-p)$ aux événements $X=1$ et $X=0$."
   ]
  },
  {
   "cell_type": "markdown",
   "metadata": {
    "colab_type": "text",
    "id": "4y_ysHCJdLb9"
   },
   "source": [
    "### Loi binomiale $\\mathscr{B}(n,p)$\n",
    "\n",
    "#### Exemple\n",
    "On répète $n$ fois une épreuve de Bernoulli, par exemple $n$ tirages de boules *avec* remise et $X$ représente le *nombre* de boules rouges tirées d'une urne avec une proportion $p$ de boules rouges.\n",
    "\n",
    "#### Formulaire\n",
    " | | |\n",
    "-- |-- | -- |--\n",
    "$X$ | Loi | Espérance $$\\mathsf{E}(X)$$ | Variance $$\\mathsf{V}(X)=\\sigma^2$$\n",
    "$$\\{0,1,2,...,n\\}$$|$$\\mathsf{P}(X=k)=\\mathrm{C}^k_np^k(1-p)^{n-k}$$|$$np$$|$$np(1-p)$$\n",
    "\n",
    "#### Eléments de calcul\n",
    "$$\\mathrm{C}^k_n=\\binom{n}{k}=\\frac{n!}{k!(n-k)!}$$\n",
    "$$\\sum_{k=0}^n\\mathrm{C}^k_np^k(1-p)^{n-k}=1$$\n",
    "$$\\mathrm{C}^k_n=\\frac{n}{k}\\mathrm{C}^{k-1}_{n-1}$$\n",
    "$${n \\choose k}+{n \\choose k+1}={n+1 \\choose k+1}$$\n",
    "\n",
    "#### Remarques\n",
    "- On voit souvent la notation $p$, $q=1-p$ soit $\\mathsf{E}(X)=np$ et $\\mathsf{V}(X)=npq$.\n",
    "- Une propriété intéressante:\n",
    "  - Si $n>50$ et $p<0.1$, alors $X \\approx \\mathscr{P}(np)$\n",
    "  - Si $n>50$ et $p>0.1$, alors $X \\approx \\mathscr{N}(np, \\sqrt{npq})$\n",
    "- Si $X_1 \\sim \\mathscr{B}(n_1, p)$ et  $X_2 \\sim \\mathscr{B}(n_2, p)$ et $X_1 \\perp X_2$ alors la somme $X_1+X_2 \\sim \\mathscr{B}(n_1+n_2, p)$"
   ]
  },
  {
   "cell_type": "markdown",
   "metadata": {
    "colab_type": "text",
    "id": "5II1CEOioEjM"
   },
   "source": [
    "### Loi géométrique $\\mathscr{G}(p)$\n",
    "\n",
    "#### Exemples\n",
    "On effectue $n$ tirages dans une urne contenant une proportion $p$ de boules rouges et $X$ est le numéro du tirage où l'on obtient la première boule rouge. On lit aussi $X$ *est le rang du premier succès* de la répétition d'une épreuve de Bernoulli.\n",
    "\n",
    "#### Formulaire\n",
    "\n",
    " | | | |\n",
    "-- |-- | -- |--|--\n",
    "$X$ | Loi | $$F_X(x)$$| Espérance $$\\mathsf{E}(X)$$ | Variance $$\\mathsf{V}(X)=\\sigma^2$$\n",
    "$$\\mathbb{N}^*$$ |  $$\\mathsf{P}(X=k)=p(1-p)^{k-1}$$|$$1-q^k$$ | $$\\frac{1}{p}$$ | $$\\frac{1-p}{p^2}$$\n",
    "\n",
    "#### Eléments de calcul\n",
    "$$\\sum_{k=0}^{\\infty} p^k = \\frac{1}{1-p}$$\n",
    "\n",
    "#### Remarques\n",
    "Pour le calcul de durées de vie, décroissance radioactive etc..., on remarque qu'on s'intéresse à des événements $p\\ll 1$. Ainsi, si $\\mathsf{P}(X=k) = pq^{k-1}$ et $\\mathsf{P}(X\\leq k)=1-q^k$ on a \n",
    "$$\\mathsf{P}(X>k) = q^k = e^{k \\ln q}$$\n",
    "\n",
    "Or, avec $\\ln(q)=\\ln(1-p) \\approx \\ln(-p)$ on obtient $$\\mathsf{P}(X>k)\\approx e^{-pk}$$\n",
    "la loi exponentielle, le résultat attendu pour des phénomènes de durée de vie, pannes etc...\n",
    "\n"
   ]
  },
  {
   "cell_type": "markdown",
   "metadata": {
    "colab_type": "text",
    "id": "yK-MW_p9gCiT"
   },
   "source": [
    "### Loi de Poisson $\\mathscr{P}(\\lambda)$\n",
    "\n",
    "#### Exemple\n",
    "Evénements *rares*, nombre d'obus tombés dans une zone, nombre de communications sur un poste, nombre de personnes se présentant à un guichet...\n",
    "\n",
    "#### Formulaire\n",
    "\n",
    " | | |\n",
    "-- |-- | -- |--\n",
    "$X$ | Loi | Espérance $$\\mathsf{E}(X)$$ | Variance $$\\mathsf{V}(X)=\\sigma^2$$\n",
    "$$\\mathbb{N}$$|$$\\mathsf{P}(X=n)=e^{-\\lambda}\\frac{\\lambda^n}{n!}$$|$$\\lambda$$|$$\\lambda$$\n",
    "\n",
    "#### Eléments de calcul\n",
    "$$\\sum_{k=0}^{\\infty} \\frac{\\lambda^k}{k!}=e^\\lambda$$\n",
    "\n",
    "#### Remarques\n",
    "- $\\mathsf{E}(X) = \\mathsf{V}(X) = \\lambda$ \n",
    "- Si $\\lambda$ grand alors $X \\sim \\mathscr{N}(\\lambda, \\sqrt{\\lambda})$\n",
    "- Si $X_1 \\sim \\mathscr{P}(\\lambda_1)$ et $X_ \\sim \\mathscr{P}(\\lambda_2)$ et $X_1 \\perp X_2$ alors la somme $X_1+X_2 \\sim \\mathscr{P}(\\lambda_1 + \\lambda_2)$\n"
   ]
  },
  {
   "cell_type": "markdown",
   "metadata": {
    "colab_type": "text",
    "id": "8SNRVCEf-CDW"
   },
   "source": [
    "## Lois continues\n"
   ]
  },
  {
   "cell_type": "markdown",
   "metadata": {
    "colab_type": "text",
    "id": "hjE_KKrZ-EKG"
   },
   "source": [
    "### Loi uniforme $\\mathscr{U}(a,b)$\n",
    "\n",
    "1.   Élément de liste\n",
    "2.   Élément de liste\n",
    "\n",
    "\n",
    "\n",
    "#### Exemples\n",
    "Tous les phénomènes à plus de deux issues équiprobables, généralisation au cas continu.\n",
    "\n",
    "#### Formulaire\n",
    " | | | |\n",
    "-- |-- | -- |--|--\n",
    "Valeurs | Densité de probabilité $$f_X(x)$$| $$F_X(x)$$ | Espérance $$\\mathsf{E}(X)$$ | Variance $$\\mathsf{V}(X)=\\sigma^2$$\n",
    "$$[a;b]$$ | $$\\frac{1}{b-a} 1\\!\\!1_{[a;b]}$$ | $$\\begin{cases}0 & x<a \\\\ \\frac{x-a}{b-a} & a\\leq x\\leq b \\\\ 1 & x>b \\end{cases}$$ | $$\\frac{a+b}{2}$$ | $$\\frac{(b-a)^2}{12}$$\n",
    "\n",
    "\n",
    "#### Eléments de calcul\n",
    "Calcul des moments non centrés d'ordre $k$\n",
    "\n",
    "$$\\hat{\\mu_k}=\\frac{1}{k+1}\\sum_{i=0}^k a^i b^{k-i}$$\n",
    "\n",
    "#### Remarques\n",
    "On peut rapprocher $X \\sim \\mathscr{U}(a,b)$ à la loi uniforme centrée réduite en s'intéressant à la distribution \n",
    "$$\\frac{X-a}{b-a} \\sim \\mathscr{U}(0,1)$$\n"
   ]
  },
  {
   "cell_type": "markdown",
   "metadata": {
    "colab_type": "text",
    "id": "8beW1J6lC-OM"
   },
   "source": [
    "### Loi normale $\\mathscr{N}(m, \\sigma)$\n",
    "\n",
    "#### Exemples\n",
    "#### Formulaire\n",
    " | | | |\n",
    "-- |-- | -- |--|--\n",
    "Valeurs | Densité de probabilité $$f_X(x)$$| $$F_X(x)$$ | Espérance $$\\mathsf{E}(X)$$ | Variance $$\\mathsf{V}(X)=\\sigma^2$$\n",
    "$$\\mathbb{R}$$ | $$\\frac{1}{\\sigma\\sqrt{2\\pi}} \\exp -\\frac{(x-m)^2}{2\\sigma^2}$$|$$\\frac{1}{2}\\Big(1+\\mathrm{erf}\\big(\\frac{x-m}{\\sigma\\sqrt{2}}\\big)\\Big)$$| $$m$$ | $$\\sigma^2$$ \n",
    "\n",
    "#### Eléments de calcul\n",
    "\n",
    "$$\\mathrm{erf}(x)={\\frac {2}{\\sqrt {\\pi }}}\\int _{0}^{x}e^{-t^{2}}\\,\\mathrm {d} t$$\n",
    "\n",
    "#### Remarques\n",
    "- Avec $X_1 \\sim \\mathscr{N}(m_1,\\sigma_1)$ et $X_2 \\sim \\mathscr{N}(m_2,\\sigma_2)$ et $X_1 \\perp X_2$, la somme $$X_1+X_2 \\sim \\mathscr{N}(m_1+m_2, \\sqrt{\\sigma_1^2 + \\sigma_2^2})$$\n",
    "\n",
    "- On peut aussi remarquer qu'il est possible d'exprimer la loi de $X \\sim \\mathscr{N}(m,\\sigma)$ comme $U=\\frac{X-m}{\\sigma} \\sim \\mathscr{N}(0,1)$\n",
    "\n",
    "- Enfin, concernant la fonction de répartition $\\Phi$ d'une variable aléatoire de loi *normale centrée réduite* $\\mathscr{N}(0,1)$  on a\n",
    "  - $\\Phi(0)=\\frac{1}{2}$\n",
    "  - $\\Phi(x)<\\frac{1}{2} \\iff x <0$\n",
    "  - $\\Phi(-x) = 1-\\Phi(x)$\n",
    "  - $\\mathsf{P}(|X| < x) = 2\\Phi(x)-1$\n",
    "  "
   ]
  },
  {
   "cell_type": "markdown",
   "metadata": {
    "colab_type": "text",
    "id": "x-4p-IUrHFk_"
   },
   "source": [
    "### Loi exponentielle $\\mathscr{E}(\\lambda)$\n",
    "\n",
    "#### Exemples\n",
    "Questions de durée de vie, fiabilité, décroissance... sans tenir compte du vieillissement. Modélisation des files d'attente. Radioactivité avec $\\mathsf{E}(X)= 1/\\lambda$ la durée de vie moyenne, appelé *temps caractéristique*.\n",
    "\n",
    "#### Formulaire\n",
    "\n",
    "| | | |\n",
    "-- |-- | -- |--|--\n",
    "Valeurs | Densité de probabilité $$f_X(x)$$| $$F_X(x)$$ | Espérance $$\\mathsf{E}(X)$$ | Variance $$\\mathsf{V}(X)=\\sigma^2$$\n",
    "$$\\mathbb{R}^+$$ | $$\\lambda e^{-\\lambda x}$$ | $$1-e^{-\\lambda x}$$ | $$\\frac{1}{\\lambda}$$ | $$\\frac{1}{\\lambda^2}$$\n",
    "\n",
    "#### Eléments de calcul\n",
    "\n",
    "#### Remarques\n",
    "- On remarquera que le *facteur d'échelle* $\\lambda=\\frac{1}{\\mathsf{E}(X)}$\n",
    "- Comme la loi exponentielle n'a pas de mémoire elle ne peut modéliser les phénomènes dépendant d'un vieillissement. On a notamment \n",
    "$$\\mathsf{P}(X>t) = \\mathsf{P}(X>t+t_0)$$ c'est à dire que la probabilité à partir d'un temps $t_0$ est la même qu'après un temps $t$. Donc ce modèle considère par exemple qu'une ampoule ayant fonctionné $t_0$ heures aura la même probabilité de tomber en panne après $t$ heures de fonctionnement qu'une ampoule neuve.\n"
   ]
  },
  {
   "cell_type": "markdown",
   "metadata": {
    "colab_type": "text",
    "id": "ioF8eYV6Kwo5"
   },
   "source": [
    "### Loi Gamma  $\\Gamma(k,\\theta)$\n",
    "\n",
    "#### Exemples\n",
    "Phénomènes temporels\n",
    "\n",
    "#### Formulaire\n",
    "| | | |\n",
    "-- |-- | -- |--|--\n",
    "Valeurs | Densité de probabilité $$f_X(x)$$| $$F_X(x)$$ | Espérance $$\\mathsf{E}(X)$$ | Variance $$\\mathsf{V}(X)=\\sigma^2$$\n",
    "$$\\mathbb{R}^+$$ | $$\\frac{x^{k-1}e^{x/\\theta}}{\\Gamma(k)\\theta^k}1\\!\\!1_{x\\geq 0}$$ | $$\\frac{\\gamma (k,x/\\theta )}{\\Gamma (k)}$$|$$k\\theta$$|$$k\\theta^2$$\n",
    "\n",
    "#### Eléments de calcul\n",
    "La fonction gamma d'Euler est définie pour $z\\in\\mathbb{C}$ par \n",
    "$$\\Gamma : z \\mapsto \\int_0^{+\\infty}  t^{z-1}\\,e^{-t}\\,\\mathrm{d}t$$\n",
    "C'est une généralisation de la fonction factorielle au plan complexe. Il est utile de savoir que\n",
    "- $\\Gamma(1) = 1$\n",
    "- $\\Gamma (z+1)=z\\Gamma(z)\\Gamma (z+1)=z \\Gamma(z)$\n",
    "- $\\forall n\\in\\mathbb{N}, \\Gamma(n+1)=n!$\n",
    "\n",
    "De plus, la fonction de répartition de la loi Gamma s'exprime à l'aide du petit gamma $\\gamma$, appelé *constante d'Eulerr-Mascheroni*, qu'on définit par\n",
    "$$\\gamma=\\sum_{k=1}^{\\infty} \\Big[\\frac{1}{k} - \\ln\\big(1+\\frac{1}{k}) \\Big]$$\n",
    "\n",
    "#### Remarques\n",
    "- $X\\sim \\Gamma(k=1, \\theta=1/\\lambda)$, alors $X \\sim \\mathscr{E}(\\lambda)$\n",
    "- $X^2 \\sim \\Gamma(k=\\nu/2, \\theta = 2)$, alors $X \\sim \\chi^2(\\nu)$\n"
   ]
  },
  {
   "cell_type": "markdown",
   "metadata": {
    "colab_type": "text",
    "id": "Bpig4j2sdPbn"
   },
   "source": [
    "### Loi du $\\chi^2$\n",
    "\n",
    "#### Exemples\n",
    "Sera utile en statistiques pour effectuer des tests d'indépendance de variables ou d'adéquation d'une série de données à une loi de probabilités.\n",
    "\n",
    "#### Formulaire\n",
    " | | | |\n",
    "-- |-- | -- |--|--\n",
    "Valeurs | Densité de probabilité $$f_X(x)$$| $$F_X(x)$$ | Espérance $$\\mathsf{E}(X)$$ | Variance $$\\mathsf{V}(X)=\\sigma^2$$\n",
    "$$\\mathbb{R}^+$$ | $$\\frac{1}{2\\Gamma(n/2)} \\Big(\\frac{x}{2}\\Big)^{\\frac{n}{2}-1} e^{-\\frac{X}{2}}$$ | $$\\frac  {\\gamma (n/2,x/2)}{\\Gamma(n/2)}$$ | $$n$$ | $$2n$$\n"
   ]
  },
  {
   "cell_type": "markdown",
   "metadata": {
    "colab_type": "text",
    "id": "2pMJcfLxkKsi"
   },
   "source": [
    "## Tables\n",
    "\n",
    "### Résumé des lois discrètes\n",
    "\n",
    "| | | | |\n",
    "--| -- |-- | -- |--|--\n",
    "Nom|$X$ | Loi | $$F_X(x)$$| Espérance $$\\mathsf{E}(X)$$ | Variance $$\\mathsf{V}(X)=\\sigma^2$$\n",
    "Uniforme discret | $$\\{1,2,..,n\\}$$|$$\\mathsf{P}(X=k) = \\frac{1}{n}$$ |$$\\frac{k}{n}$$| $$\\frac{n+1}{2}$$ | $$\\frac{n^2-1}{12}$$\n",
    "Bernoulli $\\mathscr{B}(1,p)$ |$$\\{0,1\\}$$ | $$\\mathsf{P}(X=k)=p^k(1-p)^{1-k}$$ | | $$p$$ | $$p(1-p)$$\n",
    "Binomiale $\\mathscr{B}(n,p)$|$$\\{0,1,2,...,n\\}$$|$$\\mathsf{P}(X=k)=\\mathrm{C}^k_np^k(1-p)^{n-k}$$| |$$np$$|$$np(1-p)$$\n",
    "Géométrique $\\mathscr{G}(p)$ | $$\\mathbb{N}^*$$ |  $$\\mathsf{P}(X=k)=p(1-p)^{k-1}$$|$$1-q^k$$ | $$\\frac{1}{p}$$ | $$\\frac{1-p}{p^2}$$\n",
    "Loi de poisson $\\mathscr{P}(\\lambda)$ | $$\\mathbb{N}$$|$$\\mathsf{P}(X=n)=e^{-\\lambda}\\frac{\\lambda^n}{n!}$$| |$$\\lambda$$|$$\\lambda$$"
   ]
  },
  {
   "cell_type": "markdown",
   "metadata": {
    "colab_type": "text",
    "id": "GY36EBwulqMZ"
   },
   "source": [
    "### Résumé des lois continues\n",
    "\n",
    "| | | | |\n",
    "--|-- |-- | -- |--|--\n",
    "Nom|Valeurs | Densité de probabilité $$f_X(x)$$| $$F_X(x)$$ | Espérance $$\\mathsf{E}(X)$$ | Variance $$\\mathsf{V}(X)=\\sigma^2$$\n",
    "Loi uniforme $\\mathscr{U}(a,b)$ | $$[a;b]$$ | $$\\frac{1}{b-a} 1\\!\\!1_{[a;b]}$$ | $$\\begin{cases}0 & x<a \\\\ \\frac{x-a}{b-a} & a\\leq x\\leq b \\\\ 1 & x>b \\end{cases}$$ | $$\\frac{a+b}{2}$$ | $$\\frac{(b-a)^2}{12}$$\n",
    "Loi normale $\\mathscr{N}(m,\\sigma)$ | $$\\mathbb{R}$$ | $$\\frac{1}{\\sigma\\sqrt{2\\pi}} \\exp -\\frac{(x-m)^2}{2\\sigma^2}$$|$$\\frac{1}{2}\\Big(1+\\mathrm{erf}\\big(\\frac{x-m}{\\sigma\\sqrt{2}}\\big)\\Big)$$| $$m$$ | $$\\sigma^2$$ \n",
    "Loi exponentielle $\\mathscr{E}(\\lambda)$ | $$\\mathbb{R}^+$$ | $$\\lambda e^{-\\lambda x}$$ | $$1-e^{-\\lambda x}$$ | $$\\frac{1}{\\lambda}$$ | $$\\frac{1}{\\lambda^2}$$\n",
    "Loi Gamma $\\Gamma(k, \\theta)$ | $$\\mathbb{R}^+$$ | $$\\frac{x^{k-1}e^{x/\\theta}}{\\Gamma(k)\\theta^k}1\\!\\!1_{x\\geq 0}$$ | $$\\frac{\\gamma (k,x/\\theta )}{\\Gamma (k)}$$|$$k\\theta$$|$$k\\theta^2$$\n",
    "Loi du $\\chi^2$ | $$\\mathbb{R}^+$$ | $$\\frac{1}{2\\Gamma(n/2)} \\Big(\\frac{x}{2}\\Big)^{\\frac{n}{2}-1} e^{-\\frac{X}{2}}$$ | $$\\frac  {\\gamma (n/2,x/2)}{\\Gamma(n/2)}$$ | $$n$$ | $$2n$$\n"
   ]
  }
 ],
 "metadata": {
  "colab": {
   "collapsed_sections": [],
   "name": "Copie de Copie de Lois de probabilités usuelles",
   "provenance": [],
   "toc_visible": true,
   "version": "0.3.2"
  },
  "kernelspec": {
   "display_name": "Python 3",
   "language": "python",
   "name": "python3"
  },
  "language_info": {
   "codemirror_mode": {
    "name": "ipython",
    "version": 3
   },
   "file_extension": ".py",
   "mimetype": "text/x-python",
   "name": "python",
   "nbconvert_exporter": "python",
   "pygments_lexer": "ipython3",
   "version": "3.6.4"
  }
 },
 "nbformat": 4,
 "nbformat_minor": 1
}
