{
 "cells": [
  {
   "cell_type": "code",
   "execution_count": 1,
   "metadata": {},
   "outputs": [],
   "source": [
    "# Voici une série de données concernant des astéroïdes\n",
    "# [\"nom de l'astéroïde\", magnitude, nombre de lettres dans le nom]\n",
    "\n",
    "asteroides = [\n",
    "    [\"Niobe\", 8.5, 5],\n",
    "    [\"Feronia\", 10.3, 7],\n",
    "    [\"Klytia\", 10.3, 6],\n",
    "    [\"Galatea\", 10.1, 7],\n",
    "    [\"Eurydike\", 10.0, 8],\n",
    "    [\"Freia\", 9.0, 5],\n",
    "    [\"Frigga\", 9.6, 6],\n",
    "    [\"Diana\", 9.1, 5],\n",
    "    [\"Eurynome\", 9.3, 8],\n",
    "    [\"Sappho\", 9.3, 6],\n",
    "    [\"Terpsichore\", 9.7, 11],\n",
    "    [\"Alkmene\", 9.4, 7]\n",
    "]\n",
    "\n",
    "# On souhaite calculer le coefficient de corrélation entre le nombre de lettres\n",
    "# et la magnitude.\n",
    "# On pourra utiliser numpy.corrcoeff ou le faire à partir des formules du cours.\n",
    "\n"
   ]
  },
  {
   "cell_type": "code",
   "execution_count": 2,
   "metadata": {},
   "outputs": [],
   "source": [
    "import numpy as np"
   ]
  },
  {
   "cell_type": "code",
   "execution_count": 4,
   "metadata": {},
   "outputs": [],
   "source": [
    "asteroides = np.array(asteroides)"
   ]
  },
  {
   "cell_type": "code",
   "execution_count": 32,
   "metadata": {},
   "outputs": [],
   "source": [
    "nombre_lettres = asteroides[:,2].astype('int')\n",
    "magnitude = asteroides[:,1].astype('float')"
   ]
  },
  {
   "cell_type": "code",
   "execution_count": 40,
   "metadata": {},
   "outputs": [
    {
     "data": {
      "text/plain": [
       "array([[1.        , 0.41480808],\n",
       "       [0.41480808, 1.        ]])"
      ]
     },
     "execution_count": 40,
     "metadata": {},
     "output_type": "execute_result"
    }
   ],
   "source": [
    "np.corrcoef(X)"
   ]
  },
  {
   "cell_type": "code",
   "execution_count": 35,
   "metadata": {},
   "outputs": [
    {
     "data": {
      "text/plain": [
       "array([[ 8.5, 10.3, 10.3, 10.1, 10. ,  9. ,  9.6,  9.1,  9.3,  9.3,  9.7,\n",
       "         9.4],\n",
       "       [ 5. ,  7. ,  6. ,  7. ,  8. ,  5. ,  6. ,  5. ,  8. ,  6. , 11. ,\n",
       "         7. ]])"
      ]
     },
     "execution_count": 35,
     "metadata": {},
     "output_type": "execute_result"
    }
   ],
   "source": [
    "X = np.stack((magnitude, nombre_lettres), axis=0)\n",
    "X"
   ]
  },
  {
   "cell_type": "code",
   "execution_count": 44,
   "metadata": {},
   "outputs": [
    {
     "data": {
      "text/plain": [
       "array([[0.31      , 0.39545455],\n",
       "       [0.39545455, 2.93181818]])"
      ]
     },
     "execution_count": 44,
     "metadata": {},
     "output_type": "execute_result"
    }
   ],
   "source": [
    "covar = np.cov(X)\n",
    "covar"
   ]
  },
  {
   "cell_type": "code",
   "execution_count": 45,
   "metadata": {},
   "outputs": [
    {
     "data": {
      "text/plain": [
       "(0.28416666666666673, 2.6875)"
      ]
     },
     "execution_count": 45,
     "metadata": {},
     "output_type": "execute_result"
    }
   ],
   "source": [
    "var_magnitude, var_nombre_lettres = np.var(X[0]), np.var(X[1])\n",
    "var_magnitude, var_nombre_lettres"
   ]
  },
  {
   "cell_type": "code",
   "execution_count": 28,
   "metadata": {},
   "outputs": [
    {
     "data": {
      "text/plain": [
       "(2.6875, 0.28416666666666673)"
      ]
     },
     "execution_count": 28,
     "metadata": {},
     "output_type": "execute_result"
    }
   ],
   "source": [
    "b = np.var(asteroides[:,2].astype('int')) ,np.var(asteroides[:,1].astype('float'))\n",
    "b"
   ]
  },
  {
   "cell_type": "code",
   "execution_count": 39,
   "metadata": {},
   "outputs": [
    {
     "data": {
      "text/plain": [
       "array([[0.9533434 , 1.21614187],\n",
       "       [1.21614187, 9.01622423]])"
      ]
     },
     "execution_count": 39,
     "metadata": {},
     "output_type": "execute_result"
    }
   ],
   "source": [
    "covar / np.sqrt(var_magnitude)*np.sqrt(var_nombre_lettres)"
   ]
  },
  {
   "cell_type": "code",
   "execution_count": 42,
   "metadata": {},
   "outputs": [],
   "source": [
    "??np.cov"
   ]
  },
  {
   "cell_type": "code",
   "execution_count": null,
   "metadata": {},
   "outputs": [],
   "source": []
  }
 ],
 "metadata": {
  "kernelspec": {
   "display_name": "Python 3",
   "language": "python",
   "name": "python3"
  },
  "language_info": {
   "codemirror_mode": {
    "name": "ipython",
    "version": 3
   },
   "file_extension": ".py",
   "mimetype": "text/x-python",
   "name": "python",
   "nbconvert_exporter": "python",
   "pygments_lexer": "ipython3",
   "version": "3.6.4"
  }
 },
 "nbformat": 4,
 "nbformat_minor": 2
}
