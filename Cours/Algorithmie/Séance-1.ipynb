{
 "cells": [
  {
   "cell_type": "markdown",
   "metadata": {},
   "source": [
    "# Algèbre de bool\n",
    "---\n",
    "\n",
    "**L'état de binaire:**\n",
    "\n",
    "**Système numériques:**\n",
    "- Decimal: la puissance de 10\n",
    "- Binaire: la puissance de 2\n",
    "- Hexadécimal: la puissance de 16(bit)\n",
    "\n",
    "**Logique dooléenne:**\n",
    "- Conjonction(and)\n",
    "\n",
    "**Disjointion or**\n",
    "- Associativité\n",
    "Commutativité\n",
    "Distributivité\n",
    "Idempotyence\n",
    "element neutre\n",
    "Absorbtion\n",
    "\n",
    "**Conjoinction and**\n",
    "\n",
    "### THéorème de morgan:\n",
    "- non (a ou b) = non a et non b\n",
    "- non (a et b) = non a ou non b\n",
    "\n",
    "**xor($\\bigoplus$)**\n",
    "\n",
    "| a | b | a v b | a ^ b | a xor b|\n",
    "| ----------- | ----------- |----------- | ----------- | ----------- |\n",
    "| 0 | 0 | 0 | 0 | 0 |\n",
    "| 0 | 1 | 1 | 0 | 1 |\n",
    "| 1 | 0 | 1 | 0 | 1 |\n",
    "| 1 | 1 | 1 | 0 | 0 |\n",
    "\n",
    "a+ b = (a^nonb) v (non a ^b)\n",
    "\n",
    "**==(<=>)**\n",
    "\n",
    "| a | b | a v b | a ^ b | a <=> b|\n",
    "| ----------- | ----------- |----------- | ----------- | ----------- |\n",
    "| 0 | 0 | 0 | 0 | 0 |\n",
    "| 0 | 1 | 1 | 0 | 1 |\n",
    "| 1 | 0 | 1 | 0 | 1 |\n",
    "| 1 | 1 | 1 | 0 | 0 |\n",
    "\n",
    "a+ b = (a^nonb) v (non a ^b)\n",
    "\n",
    "![alt Symbologie logique](https://3.bp.blogspot.com/-MVT-MNFxJrQ/V92Vj8-CuOI/AAAAAAAAAmM/8gKqWXqsagUg8AcLrHPSaoSOpY9ZCmO5QCLcB/s1600/logique.gif)\n",
    "\n",
    "### 1. [demi additionneur]  (http://amrouche.esi.dz/doc/ch4_circuitscombinatoires.pdf)\n",
    "\n",
    ":bowtie:\n",
    "\n",
    "### 2. [Additionneur 4 bits](http://genie-indus.e-monsite.com/medias/files/tp1.pdf)\n",
    "\n",
    "## BILAN\n",
    "\n"
   ]
  },
  {
   "cell_type": "markdown",
   "metadata": {},
   "source": []
  },
  {
   "cell_type": "markdown",
   "metadata": {},
   "source": []
  },
  {
   "cell_type": "markdown",
   "metadata": {},
   "source": []
  },
  {
   "cell_type": "raw",
   "metadata": {},
   "source": []
  },
  {
   "cell_type": "markdown",
   "metadata": {},
   "source": []
  },
  {
   "cell_type": "markdown",
   "metadata": {},
   "source": []
  }
 ],
 "metadata": {
  "kernelspec": {
   "display_name": "Python 3",
   "language": "python",
   "name": "python3"
  },
  "language_info": {
   "codemirror_mode": {
    "name": "ipython",
    "version": 3
   },
   "file_extension": ".py",
   "mimetype": "text/x-python",
   "name": "python",
   "nbconvert_exporter": "python",
   "pygments_lexer": "ipython3",
   "version": "3.6.4"
  }
 },
 "nbformat": 4,
 "nbformat_minor": 2
}
