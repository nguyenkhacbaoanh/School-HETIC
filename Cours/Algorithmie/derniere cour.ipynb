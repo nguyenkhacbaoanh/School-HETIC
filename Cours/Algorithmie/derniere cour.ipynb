{
 "cells": [
  {
   "cell_type": "markdown",
   "metadata": {},
   "source": [
    "# Contexte de la demande\n",
    "- Quel est le contexte de la demande? (CAP)\n",
    "- Faut il privilégier le temps de réponse par rapport au coût de calcul.\n",
    "# Opportunités et contraintes techniques\n",
    "- Calcul distribué ou non, parallèle...\n",
    "- volume de mémore disponible\n",
    "- puissance de calcul\n",
    "- vitesse de transmission des donées\n",
    "- type d'architecture (nombres de processeurs, de bits...)\n",
    "# Nature des informations\n",
    "- Quels sont les volumes des données (item et collection) ?\n",
    "- Comment croissent les volumes?\n",
    "- Comment sont réparties les données (une ou plusieurs bases)?\n",
    "- Quel est la temporalité de l'info? (en flux ou en dépôt)\n",
    "- Quelle forme a l'information?: transformer les informations par les algos suplémentaires pour adapter l'algo plus performance.\n",
    "    - scalaire\n",
    "    - list\n",
    "    - tableau\n",
    "    - arbre\n",
    "    - graphe\n",
    "    - ...\n",
    "# Modalité de traitement\n",
    "- A quelle fréquence? (Occasionnel, à la demande, périodique), comment cela va-t-il évoluer?\n",
    "- Volume\n",
    "# Récapitulatif\n",
    "- tri\n",
    "- filtrage d'un sous ensamble( recherche, jointure)\n",
    "- calcul d'aggrégats (somme, moyenne..)\n",
    "- calcul de distance\n",
    "- trouver un chemin\n",
    "- reconnaitre une forme, un signal\n",
    "- ...\n",
    "# Qualification d'un algorithme\n",
    "- les informations nécessaires à son exécution sont elles disponibles?\n",
    "- le résultat obtenu est il acceptable? marge d'erreur\n",
    "- quelle est sa complexité (meilleur et pire des cas)?\n",
    "- est il simple ) mettre en oeuvre?\n",
    "- peut il être parallelisé?"
   ]
  },
  {
   "cell_type": "markdown",
   "metadata": {},
   "source": [
    "# Fonction de réseaux neuron\n",
    "\n",
    "![](https://c.mql5.com/18/20/NN1__1.gif)\n",
    "\n",
    "- Un neuron recevoit les infor aux autre neurons, et les uns sur les autres\n"
   ]
  },
  {
   "cell_type": "code",
   "execution_count": 9,
   "metadata": {},
   "outputs": [
    {
     "data": {
      "text/plain": [
       "True"
      ]
     },
     "execution_count": 9,
     "metadata": {},
     "output_type": "execute_result"
    }
   ],
   "source": [
    "# distionaire\n",
    "A = {'p1': '...'}\n",
    "B = {'p2': '...', 'a': A}\n",
    "A['b'] = B\n",
    "A['b']['a'] == A"
   ]
  },
  {
   "cell_type": "code",
   "execution_count": 16,
   "metadata": {},
   "outputs": [
    {
     "name": "stdout",
     "output_type": "stream",
     "text": [
      "A\n",
      "B\n",
      "None\n",
      "{'value': 'B'}\n",
      "B\n"
     ]
    }
   ],
   "source": [
    "# listes chaînées\n",
    "class Node:\n",
    "    def __init__(self, value, next=None):\n",
    "        self.value = value\n",
    "        self.next = next\n",
    "    def __str__(self):\n",
    "        return f\"{self.value}\"\n",
    "head = Node(\"A\")\n",
    "head.next = Node(\"B\")\n",
    "print(head)\n",
    "print(head.next)\n",
    "print(head.next.next)\n",
    "head = {'value': 'A'}\n",
    "head['next'] = {'value':'B'}\n",
    "print(head['next'])\n",
    "print(head['next']['value'])"
   ]
  },
  {
   "cell_type": "code",
   "execution_count": 18,
   "metadata": {},
   "outputs": [
    {
     "name": "stdout",
     "output_type": "stream",
     "text": [
      "A\n",
      "B\n",
      "C\n"
     ]
    }
   ],
   "source": [
    "def parcourir(liste=None):\n",
    "    head=liste\n",
    "    while head != None:\n",
    "        yield head.value\n",
    "        head = head.next\n",
    "ma_liste = Node('A', Node('B', Node('C')))\n",
    "for a in parcourir(ma_liste):\n",
    "    print(a)"
   ]
  },
  {
   "cell_type": "code",
   "execution_count": 19,
   "metadata": {},
   "outputs": [],
   "source": [
    "#Ecrire la méthode selectionner\n",
    "def selectionner(liste, index=0):\n",
    "    for i, valeur in enumerate(parcourir(liste)):\n",
    "        if i == index:\n",
    "            return valeur\n",
    "    raise IndexError()"
   ]
  },
  {
   "cell_type": "code",
   "execution_count": 21,
   "metadata": {},
   "outputs": [
    {
     "name": "stdout",
     "output_type": "stream",
     "text": [
      "B\n"
     ]
    }
   ],
   "source": [
    "print(selectionner(ma_liste, 1))"
   ]
  },
  {
   "cell_type": "markdown",
   "metadata": {},
   "source": [
    "# Exam:\n",
    "- lire un algo\n",
    "- écrire un algo\n",
    "\n",
    "    => pseudo code, diagramme\n",
    "\n",
    "- comprendre la complexité: \n",
    "    - case simple: savoir calculer O et $\\mega$: c'est la cas minimal\n",
    "    - savoir combiner des compléxités: O(n)xO(n2)=O(n3)\n",
    "    - comprendre le parimètre d'usage\n",
    "    "
   ]
  },
  {
   "cell_type": "code",
   "execution_count": null,
   "metadata": {},
   "outputs": [],
   "source": []
  }
 ],
 "metadata": {
  "kernelspec": {
   "display_name": "Python 3",
   "language": "python",
   "name": "python3"
  },
  "language_info": {
   "codemirror_mode": {
    "name": "ipython",
    "version": 3
   },
   "file_extension": ".py",
   "mimetype": "text/x-python",
   "name": "python",
   "nbconvert_exporter": "python",
   "pygments_lexer": "ipython3",
   "version": "3.6.4"
  }
 },
 "nbformat": 4,
 "nbformat_minor": 2
}
